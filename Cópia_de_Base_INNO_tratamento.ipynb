{
  "nbformat": 4,
  "nbformat_minor": 0,
  "metadata": {
    "colab": {
      "name": "Cópia de Base_INNO_tratamento",
      "provenance": [],
      "authorship_tag": "ABX9TyOfjjgnTjtsbARz3zuCbnz3",
      "include_colab_link": true
    },
    "kernelspec": {
      "name": "python3",
      "display_name": "Python 3"
    },
    "language_info": {
      "name": "python"
    }
  },
  "cells": [
    {
      "cell_type": "markdown",
      "metadata": {
        "id": "view-in-github",
        "colab_type": "text"
      },
      "source": [
        "<a href=\"https://colab.research.google.com/github/bruno353/Data_Science_Projects/blob/main/C%C3%B3pia_de_Base_INNO_tratamento.ipynb\" target=\"_parent\"><img src=\"https://colab.research.google.com/assets/colab-badge.svg\" alt=\"Open In Colab\"/></a>"
      ]
    },
    {
      "cell_type": "code",
      "metadata": {
        "id": "dLJEhsG38lHI"
      },
      "source": [
        "import pandas as pd\n",
        "df = pd.read_csv('/content/Cópia de Base Inno Processo_Final_2021.xlsx - Base Final Chris.csv')"
      ],
      "execution_count": null,
      "outputs": []
    },
    {
      "cell_type": "code",
      "metadata": {
        "colab": {
          "base_uri": "https://localhost:8080/",
          "height": 496
        },
        "id": "3Xkmfl_L8vsz",
        "outputId": "c395d98b-68ae-43d7-9958-c70bbba12f70"
      },
      "source": [
        "df.head()"
      ],
      "execution_count": null,
      "outputs": [
        {
          "output_type": "execute_result",
          "data": {
            "text/html": [
              "<div>\n",
              "<style scoped>\n",
              "    .dataframe tbody tr th:only-of-type {\n",
              "        vertical-align: middle;\n",
              "    }\n",
              "\n",
              "    .dataframe tbody tr th {\n",
              "        vertical-align: top;\n",
              "    }\n",
              "\n",
              "    .dataframe thead th {\n",
              "        text-align: right;\n",
              "    }\n",
              "</style>\n",
              "<table border=\"1\" class=\"dataframe\">\n",
              "  <thead>\n",
              "    <tr style=\"text-align: right;\">\n",
              "      <th></th>\n",
              "      <th>Base</th>\n",
              "      <th>Nome da startup</th>\n",
              "      <th>Descrição longa</th>\n",
              "      <th>Website</th>\n",
              "      <th>Nome empreendedor</th>\n",
              "      <th>Linkedin empreendedor</th>\n",
              "      <th>Telefone</th>\n",
              "      <th>E-mail</th>\n",
              "      <th>Cidade</th>\n",
              "      <th>Categoria</th>\n",
              "      <th>Tags</th>\n",
              "      <th>Tamanho time</th>\n",
              "      <th>Maturidade</th>\n",
              "      <th>Modelo de negócios</th>\n",
              "      <th>Ano fundação</th>\n",
              "      <th>Fonte</th>\n",
              "      <th>Pilotos</th>\n",
              "      <th>Rollout</th>\n",
              "      <th>Observações</th>\n",
              "    </tr>\n",
              "  </thead>\n",
              "  <tbody>\n",
              "    <tr>\n",
              "      <th>0</th>\n",
              "      <td>Inno</td>\n",
              "      <td>99</td>\n",
              "      <td>A 99 é a maior plataforma de transporte por ap...</td>\n",
              "      <td>99app.com</td>\n",
              "      <td>-</td>\n",
              "      <td>-</td>\n",
              "      <td>-</td>\n",
              "      <td>carla@99taxis.com</td>\n",
              "      <td>São Paulo - SP</td>\n",
              "      <td>Transportes</td>\n",
              "      <td>-</td>\n",
              "      <td>101-200</td>\n",
              "      <td>Scaleup</td>\n",
              "      <td>Marketplace</td>\n",
              "      <td>31/12/2011</td>\n",
              "      <td>Base StartUps StartSe</td>\n",
              "      <td>NaN</td>\n",
              "      <td>NaN</td>\n",
              "      <td>NaN</td>\n",
              "    </tr>\n",
              "    <tr>\n",
              "      <th>1</th>\n",
              "      <td>Abs</td>\n",
              "      <td>1927</td>\n",
              "      <td>A 1927 é uma startup de tecnologia que torna a...</td>\n",
              "      <td>https://1927.ag/</td>\n",
              "      <td>NaN</td>\n",
              "      <td>NaN</td>\n",
              "      <td>NaN</td>\n",
              "      <td>NaN</td>\n",
              "      <td>NaN</td>\n",
              "      <td>NaN</td>\n",
              "      <td>NaN</td>\n",
              "      <td>NaN</td>\n",
              "      <td>NaN</td>\n",
              "      <td>NaN</td>\n",
              "      <td>NaN</td>\n",
              "      <td>Prospecting</td>\n",
              "      <td>NaN</td>\n",
              "      <td>NaN</td>\n",
              "      <td>NaN</td>\n",
              "    </tr>\n",
              "    <tr>\n",
              "      <th>2</th>\n",
              "      <td>Inno</td>\n",
              "      <td>3778</td>\n",
              "      <td>Desenvolvemos uma plataforma de coleta, gestão...</td>\n",
              "      <td>https://3778.care</td>\n",
              "      <td>Guilherme Salgado</td>\n",
              "      <td>NaN</td>\n",
              "      <td>(11) 97437-3406</td>\n",
              "      <td>NaN</td>\n",
              "      <td>NaN</td>\n",
              "      <td>NaN</td>\n",
              "      <td>NaN</td>\n",
              "      <td>NaN</td>\n",
              "      <td>NaN</td>\n",
              "      <td>NaN</td>\n",
              "      <td>NaN</td>\n",
              "      <td>Hyperahub</td>\n",
              "      <td>NaN</td>\n",
              "      <td>NaN</td>\n",
              "      <td>NaN</td>\n",
              "    </tr>\n",
              "    <tr>\n",
              "      <th>3</th>\n",
              "      <td>Inno</td>\n",
              "      <td>#TchauCarro</td>\n",
              "      <td>Nunca foi tão fácil vender ou trocar seu veículo.</td>\n",
              "      <td>http://tchaucarro.com</td>\n",
              "      <td>Claudio</td>\n",
              "      <td>[]</td>\n",
              "      <td>NaN</td>\n",
              "      <td>NaN</td>\n",
              "      <td>NaN</td>\n",
              "      <td>NaN</td>\n",
              "      <td>NaN</td>\n",
              "      <td>NaN</td>\n",
              "      <td>Operação</td>\n",
              "      <td>--</td>\n",
              "      <td>NaN</td>\n",
              "      <td>Base StartUps ABS</td>\n",
              "      <td>NaN</td>\n",
              "      <td>NaN</td>\n",
              "      <td>NaN</td>\n",
              "    </tr>\n",
              "    <tr>\n",
              "      <th>4</th>\n",
              "      <td>Inno</td>\n",
              "      <td>(Assis)compras</td>\n",
              "      <td>Shopping regional com lojas virtuais, veículos...</td>\n",
              "      <td>http://www.assiscompras.com.br</td>\n",
              "      <td>Adriano</td>\n",
              "      <td>[]</td>\n",
              "      <td>NaN</td>\n",
              "      <td>adriano@web5.com.br</td>\n",
              "      <td>Assis - SP</td>\n",
              "      <td>E-commerce</td>\n",
              "      <td>-</td>\n",
              "      <td>6-10</td>\n",
              "      <td>Tração</td>\n",
              "      <td>E-commerce</td>\n",
              "      <td>30/06/2010</td>\n",
              "      <td>Base StartUps ABS</td>\n",
              "      <td>NaN</td>\n",
              "      <td>NaN</td>\n",
              "      <td>NaN</td>\n",
              "    </tr>\n",
              "  </tbody>\n",
              "</table>\n",
              "</div>"
            ],
            "text/plain": [
              "   Base Nome da startup  ... Rollout Observações\n",
              "0  Inno              99  ...     NaN         NaN\n",
              "1   Abs            1927  ...     NaN         NaN\n",
              "2  Inno            3778  ...     NaN         NaN\n",
              "3  Inno     #TchauCarro  ...     NaN         NaN\n",
              "4  Inno  (Assis)compras  ...     NaN         NaN\n",
              "\n",
              "[5 rows x 19 columns]"
            ]
          },
          "metadata": {
            "tags": []
          },
          "execution_count": 2
        }
      ]
    },
    {
      "cell_type": "code",
      "metadata": {
        "colab": {
          "base_uri": "https://localhost:8080/"
        },
        "id": "-W4Z-70y8xTp",
        "outputId": "0d1d3ed4-b03d-4cae-cb31-e6ae4811e868"
      },
      "source": [
        "df['Tamanho time'].value_counts()"
      ],
      "execution_count": null,
      "outputs": [
        {
          "output_type": "execute_result",
          "data": {
            "text/plain": [
              "1-5                                                                             5246\n",
              "6-10                                                                            2893\n",
              "11-20                                                                            387\n",
              "21-50                                                                            371\n",
              "51-100                                                                            63\n",
              "1-5;6-10                                                                          55\n",
              "101-200                                                                           54\n",
              "N/D                                                                               28\n",
              "6-10;1-5                                                                          26\n",
              "201-500                                                                           18\n",
              "1-5;11-20                                                                         17\n",
              "501-1000                                                                          12\n",
              "1-5;21-50                                                                         11\n",
              "6-10;11-20                                                                         8\n",
              "0                                                                                  7\n",
              "1001-5000                                                                          6\n",
              "11-20;1-5                                                                          6\n",
              "1-5;51-100                                                                         5\n",
              "1-5;101-200                                                                        5\n",
              "21-50;1-5                                                                          4\n",
              "6-10;21-50                                                                         4\n",
              "5001                                                                               4\n",
              "1-5; 6-10                                                                          3\n",
              "1-5;51-100\\n                                                                       2\n",
              "21-50;11-20                                                                        2\n",
              "6-10;101-200                                                                       1\n",
              "dataanalytics,bigdata,advancedanalytics,industria4.0,inteligenciaartificial,       1\n",
              "6-10 ; 1-5                                                                         1\n",
              "1-5 ;  6-10                                                                        1\n",
              "51-100;101-200                                                                     1\n",
              "6-10; 1-5                                                                          1\n",
              "21-50 ; 6-10                                                                       1\n",
              "Indústria                                                                          1\n",
              "1-5;21-50\\n                                                                        1\n",
              "6-10;101-200; 201-500                                                              1\n",
              "1-5 ; 21-50                                                                        1\n",
              "11-20;21-50;101-200                                                                1\n",
              "6-10;1-5\\n                                                                         1\n",
              "1-5;11-20\\n                                                                        1\n",
              "11-20 ;1-5                                                                         1\n",
              "6-10;21-50\\n                                                                       1\n",
              "Varejo / Atacado                                                                   1\n",
              "1-5:6-10                                                                           1\n",
              "1-5;6-10\\n                                                                         1\n",
              "201-500;1-5                                                                        1\n",
              "11-20;21-50                                                                        1\n",
              "6-10;51-100                                                                        1\n",
              "21-50 ; 101-200                                                                    1\n",
              "Name: Tamanho time, dtype: int64"
            ]
          },
          "metadata": {
            "tags": []
          },
          "execution_count": 3
        }
      ]
    },
    {
      "cell_type": "code",
      "metadata": {
        "colab": {
          "base_uri": "https://localhost:8080/"
        },
        "id": "BnH8qCy586Az",
        "outputId": "1975baad-5cd1-4ddd-ff03-2397b76c586e"
      },
      "source": [
        "df['Cidade'].value_counts()"
      ],
      "execution_count": null,
      "outputs": [
        {
          "output_type": "execute_result",
          "data": {
            "text/plain": [
              "São Paulo - SP                       2012\n",
              " -                                   1903\n",
              "Rio de Janeiro - RJ                   493\n",
              "Belo Horizonte - MG                   460\n",
              "Porto Alegre - RS                     392\n",
              "                                     ... \n",
              "Trindade - GO                           1\n",
              "Florianópolis - SC                      1\n",
              "Maceió - AL \\nRibeirão Preto - SP       1\n",
              "Marau - RS                              1\n",
              "Nova Prata - RS                         1\n",
              "Name: Cidade, Length: 515, dtype: int64"
            ]
          },
          "metadata": {
            "tags": []
          },
          "execution_count": 4
        }
      ]
    },
    {
      "cell_type": "code",
      "metadata": {
        "colab": {
          "base_uri": "https://localhost:8080/"
        },
        "id": "K7kxkRgy8_37",
        "outputId": "d8cf2b89-9142-4ccb-cc8f-c191e0295b62"
      },
      "source": [
        "df['Categoria'].value_counts()"
      ],
      "execution_count": null,
      "outputs": [
        {
          "output_type": "execute_result",
          "data": {
            "text/plain": [
              "0                                         2389\n",
              "Educação                                   604\n",
              "Finanças                                   457\n",
              "Outros                                     431\n",
              "Saúde e Bem-estar                          410\n",
              "                                          ... \n",
              "Mobile, Vendas e Marketing                   1\n",
              "Varejo / Atacado,Outros                      1\n",
              "Eventos e Turismo, Comunicação e Mídia       1\n",
              "Direito, Internet                            1\n",
              "Eventos e Turismo, E-commerce                1\n",
              "Name: Categoria, Length: 151, dtype: int64"
            ]
          },
          "metadata": {
            "tags": []
          },
          "execution_count": 5
        }
      ]
    },
    {
      "cell_type": "code",
      "metadata": {
        "colab": {
          "base_uri": "https://localhost:8080/"
        },
        "id": "KJ_zfT659HYR",
        "outputId": "8b9430c5-041c-4f01-8bd1-5b123370872d"
      },
      "source": [
        "df['Modelo de negócios'].value_counts()"
      ],
      "execution_count": null,
      "outputs": [
        {
          "output_type": "execute_result",
          "data": {
            "text/plain": [
              "0                                                                                                                                                                                                                         4533\n",
              "SaaS                                                                                                                                                                                                                      2029\n",
              "--                                                                                                                                                                                                                        1204\n",
              "Marketplace                                                                                                                                                                                                                899\n",
              "Outros                                                                                                                                                                                                                     850\n",
              "                                                                                                                                                                                                                          ... \n",
              "B2B/B2C.                                                                                                                                                                                                                     1\n",
              "marketplace, marketplace, redes sociais, redes sociais                                                                                                                                                                       1\n",
              "Atendemos empresas de vários ramos por meio de uma Plataforma de Comunicação Mobile via WhatsApp e Telegram, que visa melhorar a interação dos clientes e funcionários com recursos e suportes que a plataforma traz.        1\n",
              "Outros, |Licenciamento de produto| |Venda de Produto|                                                                                                                                                                        1\n",
              "Marketplace,Redes Sociais,Serviços / Consultoria                                                                                                                                                                             1\n",
              "Name: Modelo de negócios, Length: 418, dtype: int64"
            ]
          },
          "metadata": {
            "tags": []
          },
          "execution_count": 7
        }
      ]
    },
    {
      "cell_type": "markdown",
      "metadata": {
        "id": "jgLTjvn19r0L"
      },
      "source": [
        "##Porcentagem de colunas com valores faltando"
      ]
    },
    {
      "cell_type": "code",
      "metadata": {
        "colab": {
          "base_uri": "https://localhost:8080/",
          "height": 638
        },
        "id": "DmNFRlLd9PQZ",
        "outputId": "7831e3ce-71a8-49f7-c266-eb0858ebba39"
      },
      "source": [
        "total = df.isnull().sum().sort_values(ascending=False)\n",
        "percent = (df.isnull().sum()/df.isnull().count()).sort_values(ascending=False)\n",
        "missing_data = pd.concat([total, percent], axis=1, keys=['Total', 'Percent'])\n",
        "missing_data.head(20)"
      ],
      "execution_count": null,
      "outputs": [
        {
          "output_type": "execute_result",
          "data": {
            "text/html": [
              "<div>\n",
              "<style scoped>\n",
              "    .dataframe tbody tr th:only-of-type {\n",
              "        vertical-align: middle;\n",
              "    }\n",
              "\n",
              "    .dataframe tbody tr th {\n",
              "        vertical-align: top;\n",
              "    }\n",
              "\n",
              "    .dataframe thead th {\n",
              "        text-align: right;\n",
              "    }\n",
              "</style>\n",
              "<table border=\"1\" class=\"dataframe\">\n",
              "  <thead>\n",
              "    <tr style=\"text-align: right;\">\n",
              "      <th></th>\n",
              "      <th>Total</th>\n",
              "      <th>Percent</th>\n",
              "    </tr>\n",
              "  </thead>\n",
              "  <tbody>\n",
              "    <tr>\n",
              "      <th>Rollout</th>\n",
              "      <td>14830</td>\n",
              "      <td>0.994968</td>\n",
              "    </tr>\n",
              "    <tr>\n",
              "      <th>Pilotos</th>\n",
              "      <td>14712</td>\n",
              "      <td>0.987051</td>\n",
              "    </tr>\n",
              "    <tr>\n",
              "      <th>Observações</th>\n",
              "      <td>14708</td>\n",
              "      <td>0.986783</td>\n",
              "    </tr>\n",
              "    <tr>\n",
              "      <th>Tags</th>\n",
              "      <td>5877</td>\n",
              "      <td>0.394297</td>\n",
              "    </tr>\n",
              "    <tr>\n",
              "      <th>Ano fundação</th>\n",
              "      <td>5859</td>\n",
              "      <td>0.393090</td>\n",
              "    </tr>\n",
              "    <tr>\n",
              "      <th>Categoria</th>\n",
              "      <td>5762</td>\n",
              "      <td>0.386582</td>\n",
              "    </tr>\n",
              "    <tr>\n",
              "      <th>Cidade</th>\n",
              "      <td>5714</td>\n",
              "      <td>0.383361</td>\n",
              "    </tr>\n",
              "    <tr>\n",
              "      <th>Tamanho time</th>\n",
              "      <td>5645</td>\n",
              "      <td>0.378732</td>\n",
              "    </tr>\n",
              "    <tr>\n",
              "      <th>Telefone</th>\n",
              "      <td>5030</td>\n",
              "      <td>0.337471</td>\n",
              "    </tr>\n",
              "    <tr>\n",
              "      <th>Fonte</th>\n",
              "      <td>4778</td>\n",
              "      <td>0.320564</td>\n",
              "    </tr>\n",
              "    <tr>\n",
              "      <th>E-mail</th>\n",
              "      <td>4668</td>\n",
              "      <td>0.313183</td>\n",
              "    </tr>\n",
              "    <tr>\n",
              "      <th>Linkedin empreendedor</th>\n",
              "      <td>4291</td>\n",
              "      <td>0.287890</td>\n",
              "    </tr>\n",
              "    <tr>\n",
              "      <th>Modelo de negócios</th>\n",
              "      <td>3444</td>\n",
              "      <td>0.231063</td>\n",
              "    </tr>\n",
              "    <tr>\n",
              "      <th>Nome empreendedor</th>\n",
              "      <td>3241</td>\n",
              "      <td>0.217444</td>\n",
              "    </tr>\n",
              "    <tr>\n",
              "      <th>Maturidade</th>\n",
              "      <td>2297</td>\n",
              "      <td>0.154109</td>\n",
              "    </tr>\n",
              "    <tr>\n",
              "      <th>Descrição longa</th>\n",
              "      <td>23</td>\n",
              "      <td>0.001543</td>\n",
              "    </tr>\n",
              "    <tr>\n",
              "      <th>Website</th>\n",
              "      <td>9</td>\n",
              "      <td>0.000604</td>\n",
              "    </tr>\n",
              "    <tr>\n",
              "      <th>Base</th>\n",
              "      <td>9</td>\n",
              "      <td>0.000604</td>\n",
              "    </tr>\n",
              "    <tr>\n",
              "      <th>Nome da startup</th>\n",
              "      <td>1</td>\n",
              "      <td>0.000067</td>\n",
              "    </tr>\n",
              "  </tbody>\n",
              "</table>\n",
              "</div>"
            ],
            "text/plain": [
              "                       Total   Percent\n",
              "Rollout                14830  0.994968\n",
              "Pilotos                14712  0.987051\n",
              "Observações            14708  0.986783\n",
              "Tags                    5877  0.394297\n",
              "Ano fundação            5859  0.393090\n",
              "Categoria               5762  0.386582\n",
              "Cidade                  5714  0.383361\n",
              "Tamanho time            5645  0.378732\n",
              "Telefone                5030  0.337471\n",
              "Fonte                   4778  0.320564\n",
              "E-mail                  4668  0.313183\n",
              "Linkedin empreendedor   4291  0.287890\n",
              "Modelo de negócios      3444  0.231063\n",
              "Nome empreendedor       3241  0.217444\n",
              "Maturidade              2297  0.154109\n",
              "Descrição longa           23  0.001543\n",
              "Website                    9  0.000604\n",
              "Base                       9  0.000604\n",
              "Nome da startup            1  0.000067"
            ]
          },
          "metadata": {
            "tags": []
          },
          "execution_count": 8
        }
      ]
    },
    {
      "cell_type": "code",
      "metadata": {
        "id": "IJvTvjGU9ptJ"
      },
      "source": [
        ""
      ],
      "execution_count": null,
      "outputs": []
    }
  ]
}