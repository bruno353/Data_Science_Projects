{
  "nbformat": 4,
  "nbformat_minor": 0,
  "metadata": {
    "colab": {
      "name": "Projeto_Portfólio_3.ipynb",
      "provenance": [],
      "authorship_tag": "ABX9TyNpFaWeV9QSfJzV0dGHqcKP",
      "include_colab_link": true
    },
    "kernelspec": {
      "name": "python3",
      "display_name": "Python 3"
    },
    "language_info": {
      "name": "python"
    }
  },
  "cells": [
    {
      "cell_type": "markdown",
      "metadata": {
        "id": "view-in-github",
        "colab_type": "text"
      },
      "source": [
        "<a href=\"https://colab.research.google.com/github/bruno353/Data_Science_Projects/blob/main/Projeto_Portf%C3%B3lio_3.ipynb\" target=\"_parent\"><img src=\"https://colab.research.google.com/assets/colab-badge.svg\" alt=\"Open In Colab\"/></a>"
      ]
    },
    {
      "cell_type": "markdown",
      "metadata": {
        "id": "ZROvWxXeQu-O"
      },
      "source": [
        "#Projeto de Portfólio\n",
        "\n",
        "o dataset: https://www.kaggle.com/blastchar/telco-customer-churn\n",
        "\n",
        "Nesse projeto, fomos contratados por uma empresa  de telefonia que tem o objetivo de diminuir a taxa de clientes que cancelam as suas contas por ano, a taxa de evasão aumentou nos últimos tempos.\n",
        "\n",
        "O nosso objetivo, como o Cientista de Dados contratado pela empresa, é criar uma ferramenta capaz de diminuir o número de clientes em churn na telefônica, em que um incentivo financeiro seria oferecido àqueles clientes com maior probabilidade de sair.\n",
        "\n",
        "Respondendo tais perguntas:\n",
        "\n",
        "1-Qual a acurácia do modelo criado ?\n",
        "\n",
        "2-Qual a relação entre os clientes que entram em churn e às variáveis disponíveis no dataset ? O que esses clientes têm em comum ?"
      ]
    },
    {
      "cell_type": "markdown",
      "metadata": {
        "id": "7JR21Hdav2yp"
      },
      "source": [
        "##Extração de dados e análise:"
      ]
    },
    {
      "cell_type": "code",
      "metadata": {
        "id": "Gzv2jcSdSKhx"
      },
      "source": [
        "import numpy as np\n",
        "import pandas as pd\n",
        "import seaborn as sns\n",
        "import matplotlib.pyplot as plt"
      ],
      "execution_count": 57,
      "outputs": []
    },
    {
      "cell_type": "code",
      "metadata": {
        "id": "5YzPee_awKuf"
      },
      "source": [
        "df = pd.read_csv('/content/WA_Fn-UseC_-Telco-Customer-Churn.csv')"
      ],
      "execution_count": 58,
      "outputs": []
    },
    {
      "cell_type": "code",
      "metadata": {
        "colab": {
          "base_uri": "https://localhost:8080/",
          "height": 309
        },
        "id": "Ue-dvV8wwX_u",
        "outputId": "5ce3cc45-fb23-4376-9a38-36dfc56be313"
      },
      "source": [
        "df.head()"
      ],
      "execution_count": 59,
      "outputs": [
        {
          "output_type": "execute_result",
          "data": {
            "text/html": [
              "<div>\n",
              "<style scoped>\n",
              "    .dataframe tbody tr th:only-of-type {\n",
              "        vertical-align: middle;\n",
              "    }\n",
              "\n",
              "    .dataframe tbody tr th {\n",
              "        vertical-align: top;\n",
              "    }\n",
              "\n",
              "    .dataframe thead th {\n",
              "        text-align: right;\n",
              "    }\n",
              "</style>\n",
              "<table border=\"1\" class=\"dataframe\">\n",
              "  <thead>\n",
              "    <tr style=\"text-align: right;\">\n",
              "      <th></th>\n",
              "      <th>customerID</th>\n",
              "      <th>gender</th>\n",
              "      <th>SeniorCitizen</th>\n",
              "      <th>Partner</th>\n",
              "      <th>Dependents</th>\n",
              "      <th>tenure</th>\n",
              "      <th>PhoneService</th>\n",
              "      <th>MultipleLines</th>\n",
              "      <th>InternetService</th>\n",
              "      <th>OnlineSecurity</th>\n",
              "      <th>OnlineBackup</th>\n",
              "      <th>DeviceProtection</th>\n",
              "      <th>TechSupport</th>\n",
              "      <th>StreamingTV</th>\n",
              "      <th>StreamingMovies</th>\n",
              "      <th>Contract</th>\n",
              "      <th>PaperlessBilling</th>\n",
              "      <th>PaymentMethod</th>\n",
              "      <th>MonthlyCharges</th>\n",
              "      <th>TotalCharges</th>\n",
              "      <th>Churn</th>\n",
              "    </tr>\n",
              "  </thead>\n",
              "  <tbody>\n",
              "    <tr>\n",
              "      <th>0</th>\n",
              "      <td>7590-VHVEG</td>\n",
              "      <td>Female</td>\n",
              "      <td>0</td>\n",
              "      <td>Yes</td>\n",
              "      <td>No</td>\n",
              "      <td>1</td>\n",
              "      <td>No</td>\n",
              "      <td>No phone service</td>\n",
              "      <td>DSL</td>\n",
              "      <td>No</td>\n",
              "      <td>Yes</td>\n",
              "      <td>No</td>\n",
              "      <td>No</td>\n",
              "      <td>No</td>\n",
              "      <td>No</td>\n",
              "      <td>Month-to-month</td>\n",
              "      <td>Yes</td>\n",
              "      <td>Electronic check</td>\n",
              "      <td>29.85</td>\n",
              "      <td>29.85</td>\n",
              "      <td>No</td>\n",
              "    </tr>\n",
              "    <tr>\n",
              "      <th>1</th>\n",
              "      <td>5575-GNVDE</td>\n",
              "      <td>Male</td>\n",
              "      <td>0</td>\n",
              "      <td>No</td>\n",
              "      <td>No</td>\n",
              "      <td>34</td>\n",
              "      <td>Yes</td>\n",
              "      <td>No</td>\n",
              "      <td>DSL</td>\n",
              "      <td>Yes</td>\n",
              "      <td>No</td>\n",
              "      <td>Yes</td>\n",
              "      <td>No</td>\n",
              "      <td>No</td>\n",
              "      <td>No</td>\n",
              "      <td>One year</td>\n",
              "      <td>No</td>\n",
              "      <td>Mailed check</td>\n",
              "      <td>56.95</td>\n",
              "      <td>1889.5</td>\n",
              "      <td>No</td>\n",
              "    </tr>\n",
              "    <tr>\n",
              "      <th>2</th>\n",
              "      <td>3668-QPYBK</td>\n",
              "      <td>Male</td>\n",
              "      <td>0</td>\n",
              "      <td>No</td>\n",
              "      <td>No</td>\n",
              "      <td>2</td>\n",
              "      <td>Yes</td>\n",
              "      <td>No</td>\n",
              "      <td>DSL</td>\n",
              "      <td>Yes</td>\n",
              "      <td>Yes</td>\n",
              "      <td>No</td>\n",
              "      <td>No</td>\n",
              "      <td>No</td>\n",
              "      <td>No</td>\n",
              "      <td>Month-to-month</td>\n",
              "      <td>Yes</td>\n",
              "      <td>Mailed check</td>\n",
              "      <td>53.85</td>\n",
              "      <td>108.15</td>\n",
              "      <td>Yes</td>\n",
              "    </tr>\n",
              "    <tr>\n",
              "      <th>3</th>\n",
              "      <td>7795-CFOCW</td>\n",
              "      <td>Male</td>\n",
              "      <td>0</td>\n",
              "      <td>No</td>\n",
              "      <td>No</td>\n",
              "      <td>45</td>\n",
              "      <td>No</td>\n",
              "      <td>No phone service</td>\n",
              "      <td>DSL</td>\n",
              "      <td>Yes</td>\n",
              "      <td>No</td>\n",
              "      <td>Yes</td>\n",
              "      <td>Yes</td>\n",
              "      <td>No</td>\n",
              "      <td>No</td>\n",
              "      <td>One year</td>\n",
              "      <td>No</td>\n",
              "      <td>Bank transfer (automatic)</td>\n",
              "      <td>42.30</td>\n",
              "      <td>1840.75</td>\n",
              "      <td>No</td>\n",
              "    </tr>\n",
              "    <tr>\n",
              "      <th>4</th>\n",
              "      <td>9237-HQITU</td>\n",
              "      <td>Female</td>\n",
              "      <td>0</td>\n",
              "      <td>No</td>\n",
              "      <td>No</td>\n",
              "      <td>2</td>\n",
              "      <td>Yes</td>\n",
              "      <td>No</td>\n",
              "      <td>Fiber optic</td>\n",
              "      <td>No</td>\n",
              "      <td>No</td>\n",
              "      <td>No</td>\n",
              "      <td>No</td>\n",
              "      <td>No</td>\n",
              "      <td>No</td>\n",
              "      <td>Month-to-month</td>\n",
              "      <td>Yes</td>\n",
              "      <td>Electronic check</td>\n",
              "      <td>70.70</td>\n",
              "      <td>151.65</td>\n",
              "      <td>Yes</td>\n",
              "    </tr>\n",
              "  </tbody>\n",
              "</table>\n",
              "</div>"
            ],
            "text/plain": [
              "   customerID  gender  SeniorCitizen  ... MonthlyCharges TotalCharges  Churn\n",
              "0  7590-VHVEG  Female              0  ...          29.85        29.85     No\n",
              "1  5575-GNVDE    Male              0  ...          56.95       1889.5     No\n",
              "2  3668-QPYBK    Male              0  ...          53.85       108.15    Yes\n",
              "3  7795-CFOCW    Male              0  ...          42.30      1840.75     No\n",
              "4  9237-HQITU  Female              0  ...          70.70       151.65    Yes\n",
              "\n",
              "[5 rows x 21 columns]"
            ]
          },
          "metadata": {
            "tags": []
          },
          "execution_count": 59
        }
      ]
    },
    {
      "cell_type": "code",
      "metadata": {
        "colab": {
          "base_uri": "https://localhost:8080/"
        },
        "id": "kqULowz6wY5V",
        "outputId": "26b6b0dd-7479-440d-8dd1-1326d72c49dc"
      },
      "source": [
        "df.shape"
      ],
      "execution_count": 60,
      "outputs": [
        {
          "output_type": "execute_result",
          "data": {
            "text/plain": [
              "(7043, 21)"
            ]
          },
          "metadata": {
            "tags": []
          },
          "execution_count": 60
        }
      ]
    },
    {
      "cell_type": "code",
      "metadata": {
        "colab": {
          "base_uri": "https://localhost:8080/"
        },
        "id": "ODhVZXfowZ9K",
        "outputId": "6a965d84-f8a7-49cd-fc1b-ee0390bc968f"
      },
      "source": [
        "df.value_counts()"
      ],
      "execution_count": 61,
      "outputs": [
        {
          "output_type": "execute_result",
          "data": {
            "text/plain": [
              "customerID  gender  SeniorCitizen  Partner  Dependents  tenure  PhoneService  MultipleLines     InternetService  OnlineSecurity       OnlineBackup         DeviceProtection     TechSupport          StreamingTV          StreamingMovies      Contract        PaperlessBilling  PaymentMethod              MonthlyCharges  TotalCharges  Churn\n",
              "9995-HOTOH  Male    0              Yes      Yes         63      No            No phone service  DSL              Yes                  Yes                  Yes                  No                   Yes                  Yes                  Two year        No                Electronic check           59.00           3707.6        No       1\n",
              "3370-HXOPH  Female  0              No       No          3       Yes           Yes               Fiber optic      No                   No                   No                   No                   No                   No                   Month-to-month  No                Electronic check           76.10           257.6         No       1\n",
              "3349-ANQNH  Female  1              No       No          59      Yes           Yes               Fiber optic      No                   No                   Yes                  No                   Yes                  Yes                  One year        Yes               Electronic check           99.50           5890          No       1\n",
              "3351-NGXYI  Female  1              No       No          16      Yes           Yes               DSL              Yes                  No                   No                   No                   No                   No                   Month-to-month  Yes               Electronic check           54.10           889           No       1\n",
              "3351-NQLDI  Female  0              Yes      Yes         67      Yes           Yes               Fiber optic      Yes                  No                   No                   Yes                  No                   Yes                  One year        Yes               Credit card (automatic)    94.35           6341.45       Yes      1\n",
              "                                                                                                                                                                                                                                                                                                                                                  ..\n",
              "6621-YOBKI  Male    0              No       No          5       Yes           No                No               No internet service  No internet service  No internet service  No internet service  No internet service  No internet service  Month-to-month  No                Mailed check               20.35           92.75         No       1\n",
              "6624-JDRDS  Female  0              No       No          6       No            No phone service  DSL              Yes                  No                   No                   No                   No                   No                   Month-to-month  No                Bank transfer (automatic)  29.45           161.45        No       1\n",
              "6625-FLENO  Male    0              Yes      No          58      Yes           No                No               No internet service  No internet service  No internet service  No internet service  No internet service  No internet service  Two year        No                Mailed check               20.75           1185.95       No       1\n",
              "6625-IUTTT  Male    0              No       No          67      Yes           No                DSL              Yes                  No                   Yes                  No                   No                   Yes                  Two year        No                Bank transfer (automatic)  65.55           4361.55       No       1\n",
              "0002-ORFBO  Female  0              Yes      Yes         9       Yes           No                DSL              No                   Yes                  No                   Yes                  Yes                  No                   One year        Yes               Mailed check               65.60           593.3         No       1\n",
              "Length: 7043, dtype: int64"
            ]
          },
          "metadata": {
            "tags": []
          },
          "execution_count": 61
        }
      ]
    },
    {
      "cell_type": "code",
      "metadata": {
        "colab": {
          "base_uri": "https://localhost:8080/"
        },
        "id": "f0sMWYCPw3Vs",
        "outputId": "6b1dbb3c-4155-4a40-cf3e-63689d6cc16e"
      },
      "source": [
        "for col in df:\n",
        "\tprint(f'{col}: {df[col].unique()}')"
      ],
      "execution_count": 62,
      "outputs": [
        {
          "output_type": "stream",
          "text": [
            "customerID: ['7590-VHVEG' '5575-GNVDE' '3668-QPYBK' ... '4801-JZAZL' '8361-LTMKD'\n",
            " '3186-AJIEK']\n",
            "gender: ['Female' 'Male']\n",
            "SeniorCitizen: [0 1]\n",
            "Partner: ['Yes' 'No']\n",
            "Dependents: ['No' 'Yes']\n",
            "tenure: [ 1 34  2 45  8 22 10 28 62 13 16 58 49 25 69 52 71 21 12 30 47 72 17 27\n",
            "  5 46 11 70 63 43 15 60 18 66  9  3 31 50 64 56  7 42 35 48 29 65 38 68\n",
            " 32 55 37 36 41  6  4 33 67 23 57 61 14 20 53 40 59 24 44 19 54 51 26  0\n",
            " 39]\n",
            "PhoneService: ['No' 'Yes']\n",
            "MultipleLines: ['No phone service' 'No' 'Yes']\n",
            "InternetService: ['DSL' 'Fiber optic' 'No']\n",
            "OnlineSecurity: ['No' 'Yes' 'No internet service']\n",
            "OnlineBackup: ['Yes' 'No' 'No internet service']\n",
            "DeviceProtection: ['No' 'Yes' 'No internet service']\n",
            "TechSupport: ['No' 'Yes' 'No internet service']\n",
            "StreamingTV: ['No' 'Yes' 'No internet service']\n",
            "StreamingMovies: ['No' 'Yes' 'No internet service']\n",
            "Contract: ['Month-to-month' 'One year' 'Two year']\n",
            "PaperlessBilling: ['Yes' 'No']\n",
            "PaymentMethod: ['Electronic check' 'Mailed check' 'Bank transfer (automatic)'\n",
            " 'Credit card (automatic)']\n",
            "MonthlyCharges: [29.85 56.95 53.85 ... 63.1  44.2  78.7 ]\n",
            "TotalCharges: ['29.85' '1889.5' '108.15' ... '346.45' '306.6' '6844.5']\n",
            "Churn: ['No' 'Yes']\n"
          ],
          "name": "stdout"
        }
      ]
    },
    {
      "cell_type": "markdown",
      "metadata": {
        "id": "EvdDa3j30BUw"
      },
      "source": [
        "##Data Cleaning"
      ]
    },
    {
      "cell_type": "markdown",
      "metadata": {
        "id": "mkCBdRKj1dzh"
      },
      "source": [
        "###Trocando variáveis binárias"
      ]
    },
    {
      "cell_type": "code",
      "metadata": {
        "id": "1oDWhPj20EJm"
      },
      "source": [
        "df.drop(['customerID'], axis = 1, inplace = True)"
      ],
      "execution_count": 63,
      "outputs": []
    },
    {
      "cell_type": "code",
      "metadata": {
        "id": "7lmGJCNu0EaN"
      },
      "source": [
        "df.gender = df[\"gender\"].apply(lambda x: 1 if x == 'Female' else 0)\n"
      ],
      "execution_count": 64,
      "outputs": []
    },
    {
      "cell_type": "code",
      "metadata": {
        "id": "GwKwBYnv0Edd"
      },
      "source": [
        "df.Partner = df[\"Partner\"].apply(lambda x: 1 if x == 'Yes' else 0)\n"
      ],
      "execution_count": 65,
      "outputs": []
    },
    {
      "cell_type": "code",
      "metadata": {
        "id": "vJE5ib7c0EhW"
      },
      "source": [
        "df.Dependents = df[\"Dependents\"].apply(lambda x: 1 if x == 'Yes' else 0)\n"
      ],
      "execution_count": 66,
      "outputs": []
    },
    {
      "cell_type": "code",
      "metadata": {
        "id": "dvN96uRO06Ej"
      },
      "source": [
        "df.PhoneService = df[\"PhoneService\"].apply(lambda x: 1 if x == 'Yes' else 0)\n"
      ],
      "execution_count": 67,
      "outputs": []
    },
    {
      "cell_type": "code",
      "metadata": {
        "id": "be3zZpej1FBf"
      },
      "source": [
        "df.PaperlessBilling = df['PaperlessBilling'].apply(lambda x: 1 if x == 'Yes' else 0)"
      ],
      "execution_count": 68,
      "outputs": []
    },
    {
      "cell_type": "code",
      "metadata": {
        "id": "_LH6lSDe1SA1"
      },
      "source": [
        "df.Churn = df['Churn'].apply(lambda x: 1 if x == 'Yes' else 0)"
      ],
      "execution_count": 69,
      "outputs": []
    },
    {
      "cell_type": "code",
      "metadata": {
        "colab": {
          "base_uri": "https://localhost:8080/"
        },
        "id": "Ps9TySKK4U7K",
        "outputId": "9367da5c-3e3b-43f3-c259-dc4ec0e50540"
      },
      "source": [
        "df.dtypes"
      ],
      "execution_count": 75,
      "outputs": [
        {
          "output_type": "execute_result",
          "data": {
            "text/plain": [
              "gender                int64\n",
              "SeniorCitizen         int64\n",
              "Partner               int64\n",
              "Dependents            int64\n",
              "tenure                int64\n",
              "PhoneService          int64\n",
              "MultipleLines        object\n",
              "InternetService      object\n",
              "OnlineSecurity       object\n",
              "OnlineBackup         object\n",
              "DeviceProtection     object\n",
              "TechSupport          object\n",
              "StreamingTV          object\n",
              "StreamingMovies      object\n",
              "Contract             object\n",
              "PaperlessBilling      int64\n",
              "PaymentMethod        object\n",
              "MonthlyCharges      float64\n",
              "TotalCharges        float64\n",
              "Churn                 int64\n",
              "dtype: object"
            ]
          },
          "metadata": {
            "tags": []
          },
          "execution_count": 75
        }
      ]
    },
    {
      "cell_type": "code",
      "metadata": {
        "id": "KRvcWXoV4Z5H"
      },
      "source": [
        "df.TotalCharges = pd.to_numeric(df.TotalCharges, errors= 'coerce')\n"
      ],
      "execution_count": 74,
      "outputs": []
    },
    {
      "cell_type": "markdown",
      "metadata": {
        "id": "jwZK3JKH1kVG"
      },
      "source": [
        "###Trocando variáveis categóricas"
      ]
    },
    {
      "cell_type": "code",
      "metadata": {
        "id": "c3PixVQs1oF4"
      },
      "source": [
        "df = pd.get_dummies(df, drop_first = True)\n"
      ],
      "execution_count": 76,
      "outputs": []
    },
    {
      "cell_type": "code",
      "metadata": {
        "colab": {
          "base_uri": "https://localhost:8080/",
          "height": 258
        },
        "id": "DvPuHmt31oJG",
        "outputId": "5476ffaa-505b-4f9e-c286-0a116350349b"
      },
      "source": [
        "df.head()"
      ],
      "execution_count": 77,
      "outputs": [
        {
          "output_type": "execute_result",
          "data": {
            "text/html": [
              "<div>\n",
              "<style scoped>\n",
              "    .dataframe tbody tr th:only-of-type {\n",
              "        vertical-align: middle;\n",
              "    }\n",
              "\n",
              "    .dataframe tbody tr th {\n",
              "        vertical-align: top;\n",
              "    }\n",
              "\n",
              "    .dataframe thead th {\n",
              "        text-align: right;\n",
              "    }\n",
              "</style>\n",
              "<table border=\"1\" class=\"dataframe\">\n",
              "  <thead>\n",
              "    <tr style=\"text-align: right;\">\n",
              "      <th></th>\n",
              "      <th>gender</th>\n",
              "      <th>SeniorCitizen</th>\n",
              "      <th>Partner</th>\n",
              "      <th>Dependents</th>\n",
              "      <th>tenure</th>\n",
              "      <th>PhoneService</th>\n",
              "      <th>PaperlessBilling</th>\n",
              "      <th>MonthlyCharges</th>\n",
              "      <th>TotalCharges</th>\n",
              "      <th>Churn</th>\n",
              "      <th>MultipleLines_No phone service</th>\n",
              "      <th>MultipleLines_Yes</th>\n",
              "      <th>InternetService_Fiber optic</th>\n",
              "      <th>InternetService_No</th>\n",
              "      <th>OnlineSecurity_No internet service</th>\n",
              "      <th>OnlineSecurity_Yes</th>\n",
              "      <th>OnlineBackup_No internet service</th>\n",
              "      <th>OnlineBackup_Yes</th>\n",
              "      <th>DeviceProtection_No internet service</th>\n",
              "      <th>DeviceProtection_Yes</th>\n",
              "      <th>TechSupport_No internet service</th>\n",
              "      <th>TechSupport_Yes</th>\n",
              "      <th>StreamingTV_No internet service</th>\n",
              "      <th>StreamingTV_Yes</th>\n",
              "      <th>StreamingMovies_No internet service</th>\n",
              "      <th>StreamingMovies_Yes</th>\n",
              "      <th>Contract_One year</th>\n",
              "      <th>Contract_Two year</th>\n",
              "      <th>PaymentMethod_Credit card (automatic)</th>\n",
              "      <th>PaymentMethod_Electronic check</th>\n",
              "      <th>PaymentMethod_Mailed check</th>\n",
              "    </tr>\n",
              "  </thead>\n",
              "  <tbody>\n",
              "    <tr>\n",
              "      <th>0</th>\n",
              "      <td>1</td>\n",
              "      <td>0</td>\n",
              "      <td>1</td>\n",
              "      <td>0</td>\n",
              "      <td>1</td>\n",
              "      <td>0</td>\n",
              "      <td>1</td>\n",
              "      <td>29.85</td>\n",
              "      <td>29.85</td>\n",
              "      <td>0</td>\n",
              "      <td>1</td>\n",
              "      <td>0</td>\n",
              "      <td>0</td>\n",
              "      <td>0</td>\n",
              "      <td>0</td>\n",
              "      <td>0</td>\n",
              "      <td>0</td>\n",
              "      <td>1</td>\n",
              "      <td>0</td>\n",
              "      <td>0</td>\n",
              "      <td>0</td>\n",
              "      <td>0</td>\n",
              "      <td>0</td>\n",
              "      <td>0</td>\n",
              "      <td>0</td>\n",
              "      <td>0</td>\n",
              "      <td>0</td>\n",
              "      <td>0</td>\n",
              "      <td>0</td>\n",
              "      <td>1</td>\n",
              "      <td>0</td>\n",
              "    </tr>\n",
              "    <tr>\n",
              "      <th>1</th>\n",
              "      <td>0</td>\n",
              "      <td>0</td>\n",
              "      <td>0</td>\n",
              "      <td>0</td>\n",
              "      <td>34</td>\n",
              "      <td>1</td>\n",
              "      <td>0</td>\n",
              "      <td>56.95</td>\n",
              "      <td>1889.50</td>\n",
              "      <td>0</td>\n",
              "      <td>0</td>\n",
              "      <td>0</td>\n",
              "      <td>0</td>\n",
              "      <td>0</td>\n",
              "      <td>0</td>\n",
              "      <td>1</td>\n",
              "      <td>0</td>\n",
              "      <td>0</td>\n",
              "      <td>0</td>\n",
              "      <td>1</td>\n",
              "      <td>0</td>\n",
              "      <td>0</td>\n",
              "      <td>0</td>\n",
              "      <td>0</td>\n",
              "      <td>0</td>\n",
              "      <td>0</td>\n",
              "      <td>1</td>\n",
              "      <td>0</td>\n",
              "      <td>0</td>\n",
              "      <td>0</td>\n",
              "      <td>1</td>\n",
              "    </tr>\n",
              "    <tr>\n",
              "      <th>2</th>\n",
              "      <td>0</td>\n",
              "      <td>0</td>\n",
              "      <td>0</td>\n",
              "      <td>0</td>\n",
              "      <td>2</td>\n",
              "      <td>1</td>\n",
              "      <td>1</td>\n",
              "      <td>53.85</td>\n",
              "      <td>108.15</td>\n",
              "      <td>1</td>\n",
              "      <td>0</td>\n",
              "      <td>0</td>\n",
              "      <td>0</td>\n",
              "      <td>0</td>\n",
              "      <td>0</td>\n",
              "      <td>1</td>\n",
              "      <td>0</td>\n",
              "      <td>1</td>\n",
              "      <td>0</td>\n",
              "      <td>0</td>\n",
              "      <td>0</td>\n",
              "      <td>0</td>\n",
              "      <td>0</td>\n",
              "      <td>0</td>\n",
              "      <td>0</td>\n",
              "      <td>0</td>\n",
              "      <td>0</td>\n",
              "      <td>0</td>\n",
              "      <td>0</td>\n",
              "      <td>0</td>\n",
              "      <td>1</td>\n",
              "    </tr>\n",
              "    <tr>\n",
              "      <th>3</th>\n",
              "      <td>0</td>\n",
              "      <td>0</td>\n",
              "      <td>0</td>\n",
              "      <td>0</td>\n",
              "      <td>45</td>\n",
              "      <td>0</td>\n",
              "      <td>0</td>\n",
              "      <td>42.30</td>\n",
              "      <td>1840.75</td>\n",
              "      <td>0</td>\n",
              "      <td>1</td>\n",
              "      <td>0</td>\n",
              "      <td>0</td>\n",
              "      <td>0</td>\n",
              "      <td>0</td>\n",
              "      <td>1</td>\n",
              "      <td>0</td>\n",
              "      <td>0</td>\n",
              "      <td>0</td>\n",
              "      <td>1</td>\n",
              "      <td>0</td>\n",
              "      <td>1</td>\n",
              "      <td>0</td>\n",
              "      <td>0</td>\n",
              "      <td>0</td>\n",
              "      <td>0</td>\n",
              "      <td>1</td>\n",
              "      <td>0</td>\n",
              "      <td>0</td>\n",
              "      <td>0</td>\n",
              "      <td>0</td>\n",
              "    </tr>\n",
              "    <tr>\n",
              "      <th>4</th>\n",
              "      <td>1</td>\n",
              "      <td>0</td>\n",
              "      <td>0</td>\n",
              "      <td>0</td>\n",
              "      <td>2</td>\n",
              "      <td>1</td>\n",
              "      <td>1</td>\n",
              "      <td>70.70</td>\n",
              "      <td>151.65</td>\n",
              "      <td>1</td>\n",
              "      <td>0</td>\n",
              "      <td>0</td>\n",
              "      <td>1</td>\n",
              "      <td>0</td>\n",
              "      <td>0</td>\n",
              "      <td>0</td>\n",
              "      <td>0</td>\n",
              "      <td>0</td>\n",
              "      <td>0</td>\n",
              "      <td>0</td>\n",
              "      <td>0</td>\n",
              "      <td>0</td>\n",
              "      <td>0</td>\n",
              "      <td>0</td>\n",
              "      <td>0</td>\n",
              "      <td>0</td>\n",
              "      <td>0</td>\n",
              "      <td>0</td>\n",
              "      <td>0</td>\n",
              "      <td>1</td>\n",
              "      <td>0</td>\n",
              "    </tr>\n",
              "  </tbody>\n",
              "</table>\n",
              "</div>"
            ],
            "text/plain": [
              "   gender  ...  PaymentMethod_Mailed check\n",
              "0       1  ...                           0\n",
              "1       0  ...                           1\n",
              "2       0  ...                           1\n",
              "3       0  ...                           0\n",
              "4       1  ...                           0\n",
              "\n",
              "[5 rows x 31 columns]"
            ]
          },
          "metadata": {
            "tags": []
          },
          "execution_count": 77
        }
      ]
    },
    {
      "cell_type": "code",
      "metadata": {
        "colab": {
          "base_uri": "https://localhost:8080/"
        },
        "id": "B2p9pheS1oMA",
        "outputId": "9e519ec3-5054-48e0-9735-4f3a49ca14d3"
      },
      "source": [
        "df.dtypes"
      ],
      "execution_count": 78,
      "outputs": [
        {
          "output_type": "execute_result",
          "data": {
            "text/plain": [
              "gender                                     int64\n",
              "SeniorCitizen                              int64\n",
              "Partner                                    int64\n",
              "Dependents                                 int64\n",
              "tenure                                     int64\n",
              "PhoneService                               int64\n",
              "PaperlessBilling                           int64\n",
              "MonthlyCharges                           float64\n",
              "TotalCharges                             float64\n",
              "Churn                                      int64\n",
              "MultipleLines_No phone service             uint8\n",
              "MultipleLines_Yes                          uint8\n",
              "InternetService_Fiber optic                uint8\n",
              "InternetService_No                         uint8\n",
              "OnlineSecurity_No internet service         uint8\n",
              "OnlineSecurity_Yes                         uint8\n",
              "OnlineBackup_No internet service           uint8\n",
              "OnlineBackup_Yes                           uint8\n",
              "DeviceProtection_No internet service       uint8\n",
              "DeviceProtection_Yes                       uint8\n",
              "TechSupport_No internet service            uint8\n",
              "TechSupport_Yes                            uint8\n",
              "StreamingTV_No internet service            uint8\n",
              "StreamingTV_Yes                            uint8\n",
              "StreamingMovies_No internet service        uint8\n",
              "StreamingMovies_Yes                        uint8\n",
              "Contract_One year                          uint8\n",
              "Contract_Two year                          uint8\n",
              "PaymentMethod_Credit card (automatic)      uint8\n",
              "PaymentMethod_Electronic check             uint8\n",
              "PaymentMethod_Mailed check                 uint8\n",
              "dtype: object"
            ]
          },
          "metadata": {
            "tags": []
          },
          "execution_count": 78
        }
      ]
    },
    {
      "cell_type": "code",
      "metadata": {
        "colab": {
          "base_uri": "https://localhost:8080/",
          "height": 669
        },
        "id": "AufGEsAL5e0J",
        "outputId": "1d06ce34-545c-4919-9318-0629d75d6fc7"
      },
      "source": [
        "total = df.isnull().sum().sort_values(ascending=False)\n",
        "percent = (df.isnull().sum()/df.isnull().count()).sort_values(ascending=False)\n",
        "missing_data = pd.concat([total, percent], axis=1, keys=['Total', 'Percent'])\n",
        "missing_data.head(20)"
      ],
      "execution_count": 82,
      "outputs": [
        {
          "output_type": "execute_result",
          "data": {
            "text/html": [
              "<div>\n",
              "<style scoped>\n",
              "    .dataframe tbody tr th:only-of-type {\n",
              "        vertical-align: middle;\n",
              "    }\n",
              "\n",
              "    .dataframe tbody tr th {\n",
              "        vertical-align: top;\n",
              "    }\n",
              "\n",
              "    .dataframe thead th {\n",
              "        text-align: right;\n",
              "    }\n",
              "</style>\n",
              "<table border=\"1\" class=\"dataframe\">\n",
              "  <thead>\n",
              "    <tr style=\"text-align: right;\">\n",
              "      <th></th>\n",
              "      <th>Total</th>\n",
              "      <th>Percent</th>\n",
              "    </tr>\n",
              "  </thead>\n",
              "  <tbody>\n",
              "    <tr>\n",
              "      <th>PaymentMethod_Mailed check</th>\n",
              "      <td>0</td>\n",
              "      <td>0.0</td>\n",
              "    </tr>\n",
              "    <tr>\n",
              "      <th>OnlineSecurity_No internet service</th>\n",
              "      <td>0</td>\n",
              "      <td>0.0</td>\n",
              "    </tr>\n",
              "    <tr>\n",
              "      <th>SeniorCitizen</th>\n",
              "      <td>0</td>\n",
              "      <td>0.0</td>\n",
              "    </tr>\n",
              "    <tr>\n",
              "      <th>Partner</th>\n",
              "      <td>0</td>\n",
              "      <td>0.0</td>\n",
              "    </tr>\n",
              "    <tr>\n",
              "      <th>Dependents</th>\n",
              "      <td>0</td>\n",
              "      <td>0.0</td>\n",
              "    </tr>\n",
              "    <tr>\n",
              "      <th>tenure</th>\n",
              "      <td>0</td>\n",
              "      <td>0.0</td>\n",
              "    </tr>\n",
              "    <tr>\n",
              "      <th>PhoneService</th>\n",
              "      <td>0</td>\n",
              "      <td>0.0</td>\n",
              "    </tr>\n",
              "    <tr>\n",
              "      <th>PaperlessBilling</th>\n",
              "      <td>0</td>\n",
              "      <td>0.0</td>\n",
              "    </tr>\n",
              "    <tr>\n",
              "      <th>MonthlyCharges</th>\n",
              "      <td>0</td>\n",
              "      <td>0.0</td>\n",
              "    </tr>\n",
              "    <tr>\n",
              "      <th>TotalCharges</th>\n",
              "      <td>0</td>\n",
              "      <td>0.0</td>\n",
              "    </tr>\n",
              "    <tr>\n",
              "      <th>Churn</th>\n",
              "      <td>0</td>\n",
              "      <td>0.0</td>\n",
              "    </tr>\n",
              "    <tr>\n",
              "      <th>MultipleLines_No phone service</th>\n",
              "      <td>0</td>\n",
              "      <td>0.0</td>\n",
              "    </tr>\n",
              "    <tr>\n",
              "      <th>MultipleLines_Yes</th>\n",
              "      <td>0</td>\n",
              "      <td>0.0</td>\n",
              "    </tr>\n",
              "    <tr>\n",
              "      <th>InternetService_Fiber optic</th>\n",
              "      <td>0</td>\n",
              "      <td>0.0</td>\n",
              "    </tr>\n",
              "    <tr>\n",
              "      <th>InternetService_No</th>\n",
              "      <td>0</td>\n",
              "      <td>0.0</td>\n",
              "    </tr>\n",
              "    <tr>\n",
              "      <th>OnlineSecurity_Yes</th>\n",
              "      <td>0</td>\n",
              "      <td>0.0</td>\n",
              "    </tr>\n",
              "    <tr>\n",
              "      <th>PaymentMethod_Electronic check</th>\n",
              "      <td>0</td>\n",
              "      <td>0.0</td>\n",
              "    </tr>\n",
              "    <tr>\n",
              "      <th>OnlineBackup_No internet service</th>\n",
              "      <td>0</td>\n",
              "      <td>0.0</td>\n",
              "    </tr>\n",
              "    <tr>\n",
              "      <th>OnlineBackup_Yes</th>\n",
              "      <td>0</td>\n",
              "      <td>0.0</td>\n",
              "    </tr>\n",
              "    <tr>\n",
              "      <th>DeviceProtection_No internet service</th>\n",
              "      <td>0</td>\n",
              "      <td>0.0</td>\n",
              "    </tr>\n",
              "  </tbody>\n",
              "</table>\n",
              "</div>"
            ],
            "text/plain": [
              "                                      Total  Percent\n",
              "PaymentMethod_Mailed check                0      0.0\n",
              "OnlineSecurity_No internet service        0      0.0\n",
              "SeniorCitizen                             0      0.0\n",
              "Partner                                   0      0.0\n",
              "Dependents                                0      0.0\n",
              "tenure                                    0      0.0\n",
              "PhoneService                              0      0.0\n",
              "PaperlessBilling                          0      0.0\n",
              "MonthlyCharges                            0      0.0\n",
              "TotalCharges                              0      0.0\n",
              "Churn                                     0      0.0\n",
              "MultipleLines_No phone service            0      0.0\n",
              "MultipleLines_Yes                         0      0.0\n",
              "InternetService_Fiber optic               0      0.0\n",
              "InternetService_No                        0      0.0\n",
              "OnlineSecurity_Yes                        0      0.0\n",
              "PaymentMethod_Electronic check            0      0.0\n",
              "OnlineBackup_No internet service          0      0.0\n",
              "OnlineBackup_Yes                          0      0.0\n",
              "DeviceProtection_No internet service      0      0.0"
            ]
          },
          "metadata": {
            "tags": []
          },
          "execution_count": 82
        }
      ]
    },
    {
      "cell_type": "code",
      "metadata": {
        "id": "MbwWi5iZ6Ktx"
      },
      "source": [
        "df.dropna(inplace=True)"
      ],
      "execution_count": 81,
      "outputs": []
    },
    {
      "cell_type": "markdown",
      "metadata": {
        "id": "kRhs0otyx4wx"
      },
      "source": [
        "##Data Visualization"
      ]
    },
    {
      "cell_type": "code",
      "metadata": {
        "id": "rYcTqk166q3k"
      },
      "source": [
        "df_graphs = df[['Churn', 'PhoneService', 'gender', 'SeniorCitizen', 'Dependents', 'Partner', 'PaperlessBilling' ]]"
      ],
      "execution_count": 85,
      "outputs": []
    },
    {
      "cell_type": "code",
      "metadata": {
        "colab": {
          "base_uri": "https://localhost:8080/",
          "height": 886
        },
        "id": "R8scnXBnxOYo",
        "outputId": "b2f7b040-bf16-4f13-d912-07215290bbfd"
      },
      "source": [
        "df_graphs.hist(figsize = (12,12))\n"
      ],
      "execution_count": 87,
      "outputs": [
        {
          "output_type": "execute_result",
          "data": {
            "text/plain": [
              "array([[<matplotlib.axes._subplots.AxesSubplot object at 0x7f02222dbcd0>,\n",
              "        <matplotlib.axes._subplots.AxesSubplot object at 0x7f02222d91d0>,\n",
              "        <matplotlib.axes._subplots.AxesSubplot object at 0x7f02221f1f10>],\n",
              "       [<matplotlib.axes._subplots.AxesSubplot object at 0x7f02222b54d0>,\n",
              "        <matplotlib.axes._subplots.AxesSubplot object at 0x7f02222c6ad0>,\n",
              "        <matplotlib.axes._subplots.AxesSubplot object at 0x7f0222278b10>],\n",
              "       [<matplotlib.axes._subplots.AxesSubplot object at 0x7f0222241610>,\n",
              "        <matplotlib.axes._subplots.AxesSubplot object at 0x7f02221b7ad0>,\n",
              "        <matplotlib.axes._subplots.AxesSubplot object at 0x7f02221b7b10>]],\n",
              "      dtype=object)"
            ]
          },
          "metadata": {
            "tags": []
          },
          "execution_count": 87
        },
        {
          "output_type": "display_data",
          "data": {
            "image/png": "[encoded data removed]",
            "text/plain": [
              "<Figure size 864x864 with 9 Axes>"
            ]
          },
          "metadata": {
            "tags": [],
            "needs_background": "light"
          }
        }
      ]
    },
    {
      "cell_type": "code",
      "metadata": {
        "colab": {
          "base_uri": "https://localhost:8080/",
          "height": 279
        },
        "id": "-L2tNmtPyExw",
        "outputId": "33457051-11d3-4042-e5df-8512d6541125"
      },
      "source": [
        "import seaborn as sns\n",
        "sns.countplot(x = 'Partner', hue = 'Churn', data = df);"
      ],
      "execution_count": 8,
      "outputs": [
        {
          "output_type": "display_data",
          "data": {
            "image/png": "[encoded data removed]",
            "text/plain": [
              "<Figure size 432x288 with 1 Axes>"
            ]
          },
          "metadata": {
            "tags": [],
            "needs_background": "light"
          }
        }
      ]
    },
    {
      "cell_type": "code",
      "metadata": {
        "colab": {
          "base_uri": "https://localhost:8080/",
          "height": 279
        },
        "id": "tZL-HOM2yVIZ",
        "outputId": "cb85ed62-0740-4902-aea4-f93f817569aa"
      },
      "source": [
        "import seaborn as sns\n",
        "sns.countplot(x = 'gender', hue = 'Churn', data = df);"
      ],
      "execution_count": 9,
      "outputs": [
        {
          "output_type": "display_data",
          "data": {
            "image/png": "[encoded data removed]",
            "text/plain": [
              "<Figure size 432x288 with 1 Axes>"
            ]
          },
          "metadata": {
            "tags": [],
            "needs_background": "light"
          }
        }
      ]
    },
    {
      "cell_type": "code",
      "metadata": {
        "colab": {
          "base_uri": "https://localhost:8080/",
          "height": 279
        },
        "id": "vloFOJLYymeD",
        "outputId": "1434fe81-3c13-4e24-ea9c-ad8d055b3ea7"
      },
      "source": [
        "import seaborn as sns\n",
        "sns.countplot(x = 'SeniorCitizen', hue = 'Churn', data = df);"
      ],
      "execution_count": 10,
      "outputs": [
        {
          "output_type": "display_data",
          "data": {
            "image/png": "[encoded data removed]",
            "text/plain": [
              "<Figure size 432x288 with 1 Axes>"
            ]
          },
          "metadata": {
            "tags": [],
            "needs_background": "light"
          }
        }
      ]
    },
    {
      "cell_type": "code",
      "metadata": {
        "colab": {
          "base_uri": "https://localhost:8080/",
          "height": 631
        },
        "id": "Igqi3HEHy6Ef",
        "outputId": "4285f5ba-1854-424d-8d10-7d0e2dcc0304"
      },
      "source": [
        "import seaborn as sns\n",
        "plt.figure(figsize=(16,10))\n",
        "sns.heatmap(df_graphs.corr(method='pearson'), annot=True)"
      ],
      "execution_count": 88,
      "outputs": [
        {
          "output_type": "execute_result",
          "data": {
            "text/plain": [
              "<matplotlib.axes._subplots.AxesSubplot at 0x7f02246223d0>"
            ]
          },
          "metadata": {
            "tags": []
          },
          "execution_count": 88
        },
        {
          "output_type": "display_data",
          "data": {
            "image/png": "[encoded data removed]",
            "text/plain": [
              "<Figure size 1152x720 with 2 Axes>"
            ]
          },
          "metadata": {
            "tags": [],
            "needs_background": "light"
          }
        }
      ]
    },
    {
      "cell_type": "code",
      "metadata": {
        "colab": {
          "base_uri": "https://localhost:8080/",
          "height": 265
        },
        "id": "nwgjTcotz6mT",
        "outputId": "abea67e1-e459-4322-823c-a96b4c5838cd"
      },
      "source": [
        "df.groupby('Churn').size().plot(kind='pie', autopct='%.2f')\n"
      ],
      "execution_count": 89,
      "outputs": [
        {
          "output_type": "execute_result",
          "data": {
            "text/plain": [
              "<matplotlib.axes._subplots.AxesSubplot at 0x7f0221e3f3d0>"
            ]
          },
          "metadata": {
            "tags": []
          },
          "execution_count": 89
        },
        {
          "output_type": "display_data",
          "data": {
            "image/png": "[encoded data removed]",
            "text/plain": [
              "<Figure size 432x288 with 1 Axes>"
            ]
          },
          "metadata": {
            "tags": []
          }
        }
      ]
    },
    {
      "cell_type": "code",
      "metadata": {
        "colab": {
          "base_uri": "https://localhost:8080/"
        },
        "id": "C4sRbyww7tde",
        "outputId": "e354ac97-b3a9-4be2-8de3-4b51f1dd0824"
      },
      "source": [
        "c = df.corr().abs()\n",
        "list = str('Churn')\n",
        "s = c.unstack()\n",
        "so = s.sort_values(kind=\"quicksort\")\n",
        "for i, v in so.items():\n",
        "  if v != 1:\n",
        "     print(i, v)"
      ],
      "execution_count": 115,
      "outputs": [
        {
          "output_type": "stream",
          "text": [
            "('TotalCharges', 'gender') 4.783950839776907e-05\n",
            "('gender', 'TotalCharges') 4.783950839776907e-05\n",
            "('PaymentMethod_Mailed check', 'Contract_One year') 0.0001971241890499786\n",
            "('Contract_One year', 'PaymentMethod_Mailed check') 0.0001971241890499786\n",
            "('StreamingMovies_No internet service', 'Partner') 0.0002855204740384597\n",
            "('StreamingTV_No internet service', 'Partner') 0.0002855204740384597\n",
            "('OnlineBackup_No internet service', 'Partner') 0.0002855204740384597\n",
            "('OnlineSecurity_No internet service', 'Partner') 0.0002855204740384597\n",
            "('Partner', 'InternetService_No') 0.0002855204740384597\n",
            "('Partner', 'OnlineSecurity_No internet service') 0.0002855204740384597\n",
            "('TechSupport_No internet service', 'Partner') 0.0002855204740384597\n",
            "('Partner', 'OnlineBackup_No internet service') 0.0002855204740384597\n",
            "('Partner', 'DeviceProtection_No internet service') 0.0002855204740384597\n",
            "('Partner', 'TechSupport_No internet service') 0.0002855204740384597\n",
            "('Partner', 'StreamingTV_No internet service') 0.0002855204740384597\n",
            "('DeviceProtection_No internet service', 'Partner') 0.0002855204740384597\n",
            "('Partner', 'StreamingMovies_No internet service') 0.0002855204740384597\n",
            "('InternetService_No', 'Partner') 0.0002855204740384597\n",
            "('PaymentMethod_Electronic check', 'OnlineBackup_Yes') 0.00036426636786500763\n",
            "('OnlineBackup_Yes', 'PaymentMethod_Electronic check') 0.00036426636786500763\n",
            "('DeviceProtection_Yes', 'gender') 0.0008067457759128009\n",
            "('gender', 'DeviceProtection_Yes') 0.0008067457759128009\n",
            "('PaymentMethod_Electronic check', 'gender') 0.0008437084888754001\n",
            "('gender', 'PaymentMethod_Electronic check') 0.0008437084888754001\n",
            "('Dependents', 'MultipleLines_No phone service') 0.0010778127080674446\n",
            "('MultipleLines_No phone service', 'Dependents') 0.0010778127080674446\n",
            "('PhoneService', 'Dependents') 0.001077812708067608\n",
            "('Dependents', 'PhoneService') 0.001077812708067608\n",
            "('Partner', 'InternetService_Fiber optic') 0.0012346095228208073\n",
            "('InternetService_Fiber optic', 'Partner') 0.0012346095228208073\n",
            "('gender', 'Partner') 0.0013790513218355396\n",
            "('Partner', 'gender') 0.0013790513218355396\n",
            "('gender', 'PaymentMethod_Credit card (automatic)') 0.0016318725186135986\n",
            "('PaymentMethod_Credit card (automatic)', 'gender') 0.0016318725186135986\n",
            "('SeniorCitizen', 'gender') 0.0018193906134190093\n",
            "('gender', 'SeniorCitizen') 0.0018193906134190093\n",
            "('OnlineSecurity_No internet service', 'PaymentMethod_Credit card (automatic)') 0.0018701145623306124\n",
            "('TechSupport_No internet service', 'PaymentMethod_Credit card (automatic)') 0.0018701145623306124\n",
            "('OnlineBackup_No internet service', 'PaymentMethod_Credit card (automatic)') 0.0018701145623306124\n",
            "('StreamingTV_No internet service', 'PaymentMethod_Credit card (automatic)') 0.0018701145623306124\n",
            "('PaymentMethod_Credit card (automatic)', 'OnlineSecurity_No internet service') 0.0018701145623306124\n",
            "('PaymentMethod_Credit card (automatic)', 'TechSupport_No internet service') 0.0018701145623306124\n",
            "('PaymentMethod_Credit card (automatic)', 'InternetService_No') 0.0018701145623306124\n",
            "('DeviceProtection_No internet service', 'PaymentMethod_Credit card (automatic)') 0.0018701145623306124\n",
            "('PaymentMethod_Credit card (automatic)', 'OnlineBackup_No internet service') 0.0018701145623306124\n",
            "('StreamingMovies_No internet service', 'PaymentMethod_Credit card (automatic)') 0.0018701145623306124\n",
            "('PaymentMethod_Credit card (automatic)', 'StreamingMovies_No internet service') 0.0018701145623306124\n",
            "('PaymentMethod_Credit card (automatic)', 'DeviceProtection_No internet service') 0.0018701145623306124\n",
            "('InternetService_No', 'PaymentMethod_Credit card (automatic)') 0.0018701145623306124\n",
            "('PaymentMethod_Credit card (automatic)', 'StreamingTV_No internet service') 0.0018701145623306124\n",
            "('PhoneService', 'PaymentMethod_Electronic check') 0.0027471183312986857\n",
            "('PaymentMethod_Electronic check', 'PhoneService') 0.0027471183312986857\n",
            "('MultipleLines_No phone service', 'PaymentMethod_Electronic check') 0.0027471183312986857\n",
            "('PaymentMethod_Electronic check', 'MultipleLines_No phone service') 0.0027471183312986857\n",
            "('PhoneService', 'Contract_One year') 0.0031417807184111624\n",
            "('Contract_One year', 'PhoneService') 0.0031417807184111624\n",
            "('Contract_One year', 'MultipleLines_No phone service') 0.0031417807184113207\n",
            "('MultipleLines_No phone service', 'Contract_One year') 0.0031417807184113207\n",
            "('PaymentMethod_Electronic check', 'DeviceProtection_Yes') 0.003308493511411254\n",
            "('DeviceProtection_Yes', 'PaymentMethod_Electronic check') 0.003308493511411254\n",
            "('Contract_One year', 'MultipleLines_Yes') 0.003594461398434266\n",
            "('MultipleLines_Yes', 'Contract_One year') 0.003594461398434266\n",
            "('gender', 'Contract_Two year') 0.0036031674135729897\n",
            "('Contract_Two year', 'gender') 0.0036031674135729897\n",
            "('OnlineSecurity_Yes', 'PaperlessBilling') 0.004051250607988492\n",
            "('PaperlessBilling', 'OnlineSecurity_Yes') 0.004051250607988492\n",
            "('MultipleLines_No phone service', 'Contract_Two year') 0.004442251315284906\n",
            "('Contract_Two year', 'MultipleLines_No phone service') 0.004442251315284906\n",
            "('PhoneService', 'Contract_Two year') 0.0044422513152849235\n",
            "('Contract_Two year', 'PhoneService') 0.0044422513152849235\n",
            "('PhoneService', 'PaymentMethod_Mailed check') 0.004462839400732194\n",
            "('PaymentMethod_Mailed check', 'PhoneService') 0.004462839400732194\n",
            "('PaymentMethod_Mailed check', 'MultipleLines_No phone service') 0.004462839400732508\n",
            "('MultipleLines_No phone service', 'PaymentMethod_Mailed check') 0.004462839400732508\n",
            "('gender', 'OnlineBackup_No internet service') 0.004744965758850031\n",
            "('StreamingTV_No internet service', 'gender') 0.004744965758850031\n",
            "('gender', 'StreamingMovies_No internet service') 0.004744965758850031\n",
            "('StreamingMovies_No internet service', 'gender') 0.004744965758850031\n",
            "('gender', 'StreamingTV_No internet service') 0.004744965758850031\n",
            "('DeviceProtection_No internet service', 'gender') 0.004744965758850031\n",
            "('TechSupport_No internet service', 'gender') 0.004744965758850031\n",
            "('InternetService_No', 'gender') 0.004744965758850031\n",
            "('gender', 'TechSupport_No internet service') 0.004744965758850031\n",
            "('OnlineSecurity_No internet service', 'gender') 0.004744965758850031\n",
            "('gender', 'InternetService_No') 0.004744965758850031\n",
            "('gender', 'OnlineSecurity_No internet service') 0.004744965758850031\n",
            "('gender', 'DeviceProtection_No internet service') 0.004744965758850031\n",
            "('OnlineBackup_No internet service', 'gender') 0.004744965758850031\n",
            "('Contract_One year', 'MonthlyCharges') 0.004809615120440396\n",
            "('MonthlyCharges', 'Contract_One year') 0.004809615120440396\n",
            "('tenure', 'PaperlessBilling') 0.004823156615386301\n",
            "('PaperlessBilling', 'tenure') 0.004823156615386301\n",
            "('tenure', 'gender') 0.005285371870295532\n",
            "('gender', 'tenure') 0.005285371870295532\n",
            "('PhoneService', 'PaymentMethod_Credit card (automatic)') 0.006916252198127548\n",
            "('PaymentMethod_Credit card (automatic)', 'PhoneService') 0.006916252198127548\n",
            "('PaymentMethod_Credit card (automatic)', 'MultipleLines_No phone service') 0.006916252198127564\n",
            "('MultipleLines_No phone service', 'PaymentMethod_Credit card (automatic)') 0.006916252198127564\n",
            "('StreamingTV_Yes', 'gender') 0.007124396986724594\n",
            "('gender', 'StreamingTV_Yes') 0.007124396986724594\n",
            "('Contract_Two year', 'PaymentMethod_Mailed check') 0.007422540118618717\n",
            "('PaymentMethod_Mailed check', 'Contract_Two year') 0.007422540118618717\n",
            "('gender', 'PhoneService') 0.0075149799091999234\n",
            "('PhoneService', 'gender') 0.0075149799091999234\n",
            "('MultipleLines_No phone service', 'gender') 0.007514979909199958\n",
            "('gender', 'MultipleLines_No phone service') 0.007514979909199958\n",
            "('gender', 'Contract_One year') 0.007754852914267272\n",
            "('Contract_One year', 'gender') 0.007754852914267272\n",
            "('tenure', 'PhoneService') 0.00787733329504182\n",
            "('PhoneService', 'tenure') 0.00787733329504182\n",
            "('MultipleLines_No phone service', 'tenure') 0.00787733329504184\n",
            "('tenure', 'MultipleLines_No phone service') 0.00787733329504184\n",
            "('SeniorCitizen', 'MultipleLines_No phone service') 0.008391611911217034\n",
            "('MultipleLines_No phone service', 'SeniorCitizen') 0.008391611911217034\n",
            "('PhoneService', 'SeniorCitizen') 0.008391611911217043\n",
            "('SeniorCitizen', 'PhoneService') 0.008391611911217043\n",
            "('gender', 'TechSupport_Yes') 0.008507162405232742\n",
            "('TechSupport_Yes', 'gender') 0.008507162405232742\n",
            "('Churn', 'gender') 0.008544643224947239\n",
            "('gender', 'Churn') 0.008544643224947239\n",
            "('MultipleLines_Yes', 'gender') 0.008882737146285997\n",
            "('gender', 'MultipleLines_Yes') 0.008882737146285997\n",
            "('gender', 'StreamingMovies_Yes') 0.010105418366566175\n",
            "('StreamingMovies_Yes', 'gender') 0.010105418366566175\n",
            "('gender', 'Dependents') 0.01034891712761414\n",
            "('Dependents', 'gender') 0.01034891712761414\n",
            "('gender', 'InternetService_Fiber optic') 0.011189259276385852\n",
            "('InternetService_Fiber optic', 'gender') 0.011189259276385852\n",
            "('MultipleLines_No phone service', 'Churn') 0.01169139886542221\n",
            "('Churn', 'MultipleLines_No phone service') 0.01169139886542221\n",
            "('Churn', 'PhoneService') 0.011691398865422323\n",
            "('PhoneService', 'Churn') 0.011691398865422323\n",
            "('gender', 'PaperlessBilling') 0.011901894766838502\n",
            "('PaperlessBilling', 'gender') 0.011901894766838502\n",
            "('gender', 'OnlineBackup_Yes') 0.013092839264555147\n",
            "('OnlineBackup_Yes', 'gender') 0.013092839264555147\n",
            "('gender', 'PaymentMethod_Mailed check') 0.01319936726545174\n",
            "('PaymentMethod_Mailed check', 'gender') 0.01319936726545174\n",
            "('PaymentMethod_Credit card (automatic)', 'PaperlessBilling') 0.013726285095880284\n",
            "('PaperlessBilling', 'PaymentMethod_Credit card (automatic)') 0.013726285095880284\n",
            "('MonthlyCharges', 'gender') 0.01377932726835439\n",
            "('gender', 'MonthlyCharges') 0.01377932726835439\n",
            "('DeviceProtection_Yes', 'Dependents') 0.013899668260943368\n",
            "('Dependents', 'DeviceProtection_Yes') 0.013899668260943368\n",
            "('PaperlessBilling', 'Partner') 0.013956696136191696\n",
            "('Partner', 'PaperlessBilling') 0.013956696136191696\n",
            "('tenure', 'SeniorCitizen') 0.01568347989913408\n",
            "('SeniorCitizen', 'tenure') 0.01568347989913408\n",
            "('OnlineSecurity_Yes', 'gender') 0.016327823070706123\n",
            "('gender', 'OnlineSecurity_Yes') 0.016327823070706123\n",
            "('StreamingTV_Yes', 'Dependents') 0.01649868035801052\n",
            "('Dependents', 'StreamingTV_Yes') 0.01649868035801052\n",
            "('PhoneService', 'PaperlessBilling') 0.016696123642784135\n",
            "('PaperlessBilling', 'PhoneService') 0.016696123642784135\n",
            "('MultipleLines_No phone service', 'PaperlessBilling') 0.016696123642784142\n",
            "('PaperlessBilling', 'MultipleLines_No phone service') 0.016696123642784142\n",
            "('SeniorCitizen', 'Partner') 0.01695661453202187\n",
            "('Partner', 'SeniorCitizen') 0.01695661453202187\n",
            "('InternetService_Fiber optic', 'tenure') 0.017929529906438493\n",
            "('tenure', 'InternetService_Fiber optic') 0.017929529906438493\n",
            "('PhoneService', 'Partner') 0.018397189302703662\n",
            "('Partner', 'PhoneService') 0.018397189302703662\n",
            "('MultipleLines_No phone service', 'Partner') 0.018397189302703666\n",
            "('Partner', 'MultipleLines_No phone service') 0.018397189302703666\n",
            "('TechSupport_Yes', 'InternetService_Fiber optic') 0.020298967520709605\n",
            "('InternetService_Fiber optic', 'TechSupport_Yes') 0.020298967520709605\n",
            "('MultipleLines_No phone service', 'StreamingTV_Yes') 0.021382711870577976\n",
            "('StreamingTV_Yes', 'MultipleLines_No phone service') 0.021382711870577976\n",
            "('PhoneService', 'StreamingTV_Yes') 0.021382711870578185\n",
            "('StreamingTV_Yes', 'PhoneService') 0.021382711870578185\n",
            "('OnlineBackup_Yes', 'Dependents') 0.023638813060609963\n",
            "('Dependents', 'OnlineBackup_Yes') 0.023638813060609963\n",
            "('MultipleLines_Yes', 'Dependents') 0.024306661314620996\n",
            "('Dependents', 'MultipleLines_Yes') 0.024306661314620996\n",
            "('PaymentMethod_Credit card (automatic)', 'SeniorCitizen') 0.024359419683712323\n",
            "('SeniorCitizen', 'PaymentMethod_Credit card (automatic)') 0.024359419683712323\n",
            "('MonthlyCharges', 'PaymentMethod_Credit card (automatic)') 0.030054608328366386\n",
            "('PaymentMethod_Credit card (automatic)', 'MonthlyCharges') 0.030054608328366386\n",
            "('OnlineSecurity_Yes', 'InternetService_Fiber optic') 0.03050626904076453\n",
            "('InternetService_Fiber optic', 'OnlineSecurity_Yes') 0.03050626904076453\n",
            "('StreamingMovies_Yes', 'PhoneService') 0.03347749718236395\n",
            "('PhoneService', 'StreamingMovies_Yes') 0.03347749718236395\n",
            "('MultipleLines_No phone service', 'StreamingMovies_Yes') 0.03347749718236395\n",
            "('StreamingMovies_Yes', 'MultipleLines_No phone service') 0.03347749718236395\n",
            "('StreamingMovies_No internet service', 'tenure') 0.03752888958161936\n",
            "('InternetService_No', 'tenure') 0.03752888958161936\n",
            "('DeviceProtection_No internet service', 'tenure') 0.03752888958161936\n",
            "('OnlineBackup_No internet service', 'tenure') 0.03752888958161936\n",
            "('TechSupport_No internet service', 'tenure') 0.03752888958161936\n",
            "('StreamingTV_No internet service', 'tenure') 0.03752888958161936\n",
            "('OnlineSecurity_No internet service', 'tenure') 0.03752888958161936\n",
            "('tenure', 'StreamingMovies_No internet service') 0.03752888958161936\n",
            "('tenure', 'OnlineSecurity_No internet service') 0.03752888958161936\n",
            "('tenure', 'StreamingTV_No internet service') 0.03752888958161936\n",
            "('tenure', 'OnlineBackup_No internet service') 0.03752888958161936\n",
            "('tenure', 'TechSupport_No internet service') 0.03752888958161936\n",
            "('tenure', 'DeviceProtection_No internet service') 0.03752888958161936\n",
            "('tenure', 'InternetService_No') 0.03752888958161936\n",
            "('PaperlessBilling', 'TechSupport_Yes') 0.03753587307318976\n",
            "('TechSupport_Yes', 'PaperlessBilling') 0.03753587307318976\n",
            "('Contract_One year', 'DeviceProtection_No internet service') 0.038061459724733744\n",
            "('Contract_One year', 'TechSupport_No internet service') 0.038061459724733744\n",
            "('StreamingTV_No internet service', 'Contract_One year') 0.038061459724733744\n",
            "('StreamingMovies_No internet service', 'Contract_One year') 0.038061459724733744\n",
            "('Contract_One year', 'OnlineBackup_No internet service') 0.038061459724733744\n",
            "('Contract_One year', 'StreamingTV_No internet service') 0.038061459724733744\n",
            "('TechSupport_No internet service', 'Contract_One year') 0.038061459724733744\n",
            "('InternetService_No', 'Contract_One year') 0.038061459724733744\n",
            "('Contract_One year', 'StreamingMovies_No internet service') 0.038061459724733744\n",
            "('Contract_One year', 'OnlineSecurity_No internet service') 0.038061459724733744\n",
            "('Contract_One year', 'InternetService_No') 0.038061459724733744\n",
            "('OnlineBackup_No internet service', 'Contract_One year') 0.038061459724733744\n",
            "('OnlineSecurity_No internet service', 'Contract_One year') 0.038061459724733744\n",
            "('DeviceProtection_No internet service', 'Contract_One year') 0.038061459724733744\n",
            "('StreamingMovies_Yes', 'Dependents') 0.03837492560091315\n",
            "('Dependents', 'StreamingMovies_Yes') 0.03837492560091315\n",
            "('OnlineSecurity_Yes', 'SeniorCitizen') 0.0385763901686064\n",
            "('SeniorCitizen', 'OnlineSecurity_Yes') 0.0385763901686064\n",
            "('PaymentMethod_Credit card (automatic)', 'StreamingTV_Yes') 0.040010276337768505\n",
            "('StreamingTV_Yes', 'PaymentMethod_Credit card (automatic)') 0.040010276337768505\n",
            "('MultipleLines_Yes', 'Churn') 0.040032739872523634\n",
            "('Churn', 'MultipleLines_Yes') 0.040032739872523634\n",
            "('SeniorCitizen', 'Contract_One year') 0.0464907545657889\n",
            "('Contract_One year', 'SeniorCitizen') 0.0464907545657889\n",
            "('StreamingMovies_Yes', 'PaymentMethod_Credit card (automatic)') 0.048398314068082315\n",
            "('PaymentMethod_Credit card (automatic)', 'StreamingMovies_Yes') 0.048398314068082315\n",
            "('PaymentMethod_Credit card (automatic)', 'InternetService_Fiber optic') 0.050551991558036385\n",
            "('InternetService_Fiber optic', 'PaymentMethod_Credit card (automatic)') 0.050551991558036385\n",
            "('OnlineBackup_Yes', 'PhoneService') 0.05213341919796151\n",
            "('OnlineBackup_Yes', 'MultipleLines_No phone service') 0.05213341919796151\n",
            "('PhoneService', 'OnlineBackup_Yes') 0.05213341919796151\n",
            "('MultipleLines_No phone service', 'OnlineBackup_Yes') 0.05213341919796151\n",
            "('Contract_One year', 'PaperlessBilling') 0.052278164693773076\n",
            "('PaperlessBilling', 'Contract_One year') 0.052278164693773076\n",
            "('Dependents', 'PaymentMethod_Mailed check') 0.05644841359590588\n",
            "('PaymentMethod_Mailed check', 'Dependents') 0.05644841359590588\n",
            "('DeviceProtection_Yes', 'SeniorCitizen') 0.059513871482029225\n",
            "('SeniorCitizen', 'DeviceProtection_Yes') 0.059513871482029225\n",
            "('MultipleLines_Yes', 'PaymentMethod_Credit card (automatic)') 0.06031899094084278\n",
            "('PaymentMethod_Credit card (automatic)', 'MultipleLines_Yes') 0.06031899094084278\n",
            "('TotalCharges', 'PaymentMethod_Electronic check') 0.06043627868919861\n",
            "('PaymentMethod_Electronic check', 'TotalCharges') 0.06043627868919861\n",
            "('SeniorCitizen', 'TechSupport_Yes') 0.060576839406188035\n",
            "('TechSupport_Yes', 'SeniorCitizen') 0.060576839406188035\n",
            "('Churn', 'StreamingMovies_Yes') 0.06085993668146301\n",
            "('StreamingMovies_Yes', 'Churn') 0.06085993668146301\n",
            "('PaymentMethod_Credit card (automatic)', 'Dependents') 0.06113408322897806\n",
            "('Dependents', 'PaymentMethod_Credit card (automatic)') 0.06113408322897806\n",
            "('StreamingTV_Yes', 'Contract_One year') 0.061929689963200855\n",
            "('Contract_One year', 'StreamingTV_Yes') 0.061929689963200855\n",
            "('Dependents', 'TechSupport_Yes') 0.06305315799997827\n",
            "('TechSupport_Yes', 'Dependents') 0.06305315799997827\n",
            "('Churn', 'StreamingTV_Yes') 0.06325398027519404\n",
            "('StreamingTV_Yes', 'Churn') 0.06325398027519404\n",
            "('Dependents', 'TotalCharges') 0.06465324942177393\n",
            "('TotalCharges', 'Dependents') 0.06465324942177393\n",
            "('Contract_One year', 'StreamingMovies_Yes') 0.06477997824381859\n",
            "('StreamingMovies_Yes', 'Contract_One year') 0.06477997824381859\n",
            "('DeviceProtection_Yes', 'Churn') 0.06619251684228997\n",
            "('Churn', 'DeviceProtection_Yes') 0.06619251684228997\n",
            "('SeniorCitizen', 'OnlineBackup_Yes') 0.06666279065142021\n",
            "('OnlineBackup_Yes', 'SeniorCitizen') 0.06666279065142021\n",
            "('PaymentMethod_Credit card (automatic)', 'Contract_One year') 0.06758968145792751\n",
            "('Contract_One year', 'PaymentMethod_Credit card (automatic)') 0.06758968145792751\n",
            "('Contract_One year', 'Dependents') 0.06922205672629726\n",
            "('Dependents', 'Contract_One year') 0.06922205672629726\n",
            "('DeviceProtection_Yes', 'PhoneService') 0.07007561533228862\n",
            "('PhoneService', 'DeviceProtection_Yes') 0.07007561533228862\n",
            "('DeviceProtection_Yes', 'MultipleLines_No phone service') 0.07007561533228862\n",
            "('MultipleLines_No phone service', 'DeviceProtection_Yes') 0.07007561533228862\n",
            "('StreamingTV_Yes', 'Contract_Two year') 0.07212357537070835\n",
            "('Contract_Two year', 'StreamingTV_Yes') 0.07212357537070835\n",
            "('MonthlyCharges', 'Contract_Two year') 0.07325607300641676\n",
            "('Contract_Two year', 'MonthlyCharges') 0.07325607300641676\n",
            "('Contract_Two year', 'StreamingMovies_Yes') 0.07560257919382919\n",
            "('StreamingMovies_Yes', 'Contract_Two year') 0.07560257919382919\n",
            "('InternetService_Fiber optic', 'Contract_One year') 0.07680902975096314\n",
            "('Contract_One year', 'InternetService_Fiber optic') 0.07680902975096314\n",
            "('PaymentMethod_Mailed check', 'OnlineSecurity_Yes') 0.07991768713640306\n",
            "('OnlineSecurity_Yes', 'PaymentMethod_Mailed check') 0.07991768713640306\n",
            "('OnlineSecurity_Yes', 'Dependents') 0.08078553224088346\n",
            "('Dependents', 'OnlineSecurity_Yes') 0.08078553224088346\n",
            "('OnlineBackup_Yes', 'Churn') 0.08230696876508349\n",
            "('Churn', 'OnlineBackup_Yes') 0.08230696876508349\n",
            "('PaymentMethod_Credit card (automatic)', 'Partner') 0.08232738919649572\n",
            "('Partner', 'PaymentMethod_Credit card (automatic)') 0.08232738919649572\n",
            "('Partner', 'Contract_One year') 0.08306706395255747\n",
            "('Contract_One year', 'Partner') 0.08306706395255747\n",
            "('Partner', 'PaymentMethod_Electronic check') 0.08320661736633733\n",
            "('PaymentMethod_Electronic check', 'Partner') 0.08320661736633733\n",
            "('MultipleLines_Yes', 'PaymentMethod_Electronic check') 0.08358299305536028\n",
            "('PaymentMethod_Electronic check', 'MultipleLines_Yes') 0.08358299305536028\n",
            "('Contract_One year', 'OnlineBackup_Yes') 0.08411316021806066\n",
            "('OnlineBackup_Yes', 'Contract_One year') 0.08411316021806066\n",
            "('TechSupport_Yes', 'PaymentMethod_Mailed check') 0.08463055196615278\n",
            "('PaymentMethod_Mailed check', 'TechSupport_Yes') 0.08463055196615278\n",
            "('OnlineBackup_Yes', 'PaymentMethod_Credit card (automatic)') 0.09045518641091457\n",
            "('PaymentMethod_Credit card (automatic)', 'OnlineBackup_Yes') 0.09045518641091457\n",
            "('PaymentMethod_Mailed check', 'Churn') 0.09077284582582087\n",
            "('Churn', 'PaymentMethod_Mailed check') 0.09077284582582087\n",
            "('MultipleLines_No phone service', 'OnlineSecurity_Yes') 0.09167570469500017\n",
            "('PhoneService', 'OnlineSecurity_Yes') 0.09167570469500017\n",
            "('OnlineSecurity_Yes', 'PhoneService') 0.09167570469500017\n",
            "('OnlineSecurity_Yes', 'MultipleLines_No phone service') 0.09167570469500017\n",
            "('MultipleLines_No phone service', 'TechSupport_Yes') 0.09513849428922488\n",
            "('TechSupport_Yes', 'MultipleLines_No phone service') 0.09513849428922488\n",
            "('TechSupport_Yes', 'PhoneService') 0.09513849428922488\n",
            "('PhoneService', 'TechSupport_Yes') 0.09513849428922488\n",
            "('Contract_One year', 'TechSupport_Yes') 0.09625836225380952\n",
            "('TechSupport_Yes', 'Contract_One year') 0.09625836225380952\n",
            "('PaymentMethod_Mailed check', 'Partner') 0.09694798339506473\n",
            "('Partner', 'PaymentMethod_Mailed check') 0.09694798339506473\n",
            "('Partner', 'MonthlyCharges') 0.09782497186891964\n",
            "('MonthlyCharges', 'Partner') 0.09782497186891964\n",
            "('MultipleLines_Yes', 'OnlineSecurity_Yes') 0.0985919934252315\n",
            "('OnlineSecurity_Yes', 'MultipleLines_Yes') 0.0985919934252315\n",
            "('MultipleLines_Yes', 'TechSupport_Yes') 0.10042125595413272\n",
            "('TechSupport_Yes', 'MultipleLines_Yes') 0.10042125595413272\n",
            "('OnlineSecurity_Yes', 'Contract_One year') 0.10065777311969464\n",
            "('Contract_One year', 'OnlineSecurity_Yes') 0.10065777311969464\n",
            "('TotalCharges', 'SeniorCitizen') 0.1024106053953267\n",
            "('SeniorCitizen', 'TotalCharges') 0.1024106053953267\n",
            "('Contract_One year', 'DeviceProtection_Yes') 0.10291089629343353\n",
            "('DeviceProtection_Yes', 'Contract_One year') 0.10291089629343353\n",
            "('PaperlessBilling', 'DeviceProtection_Yes') 0.10407904724402045\n",
            "('DeviceProtection_Yes', 'PaperlessBilling') 0.10407904724402045\n",
            "('StreamingTV_Yes', 'SeniorCitizen') 0.10544501753678828\n",
            "('SeniorCitizen', 'StreamingTV_Yes') 0.10544501753678828\n",
            "('MultipleLines_Yes', 'Contract_Two year') 0.10661820819152797\n",
            "('Contract_Two year', 'MultipleLines_Yes') 0.10661820819152797\n",
            "('Contract_One year', 'PaymentMethod_Electronic check') 0.10954646682258033\n",
            "('PaymentMethod_Electronic check', 'Contract_One year') 0.10954646682258033\n",
            "('Dependents', 'PaperlessBilling') 0.11013068597336993\n",
            "('PaperlessBilling', 'Dependents') 0.11013068597336993\n",
            "('DeviceProtection_Yes', 'PaymentMethod_Credit card (automatic)') 0.11125168129784246\n",
            "('PaymentMethod_Credit card (automatic)', 'DeviceProtection_Yes') 0.11125168129784246\n",
            "('OnlineBackup_Yes', 'Contract_Two year') 0.11139068731904943\n",
            "('Contract_Two year', 'OnlineBackup_Yes') 0.11139068731904943\n",
            "('PaymentMethod_Electronic check', 'OnlineSecurity_Yes') 0.11229466175861408\n",
            "('OnlineSecurity_Yes', 'PaymentMethod_Electronic check') 0.11229466175861408\n",
            "('Dependents', 'MonthlyCharges') 0.11234295350128183\n",
            "('MonthlyCharges', 'Dependents') 0.11234295350128183\n",
            "('TotalCharges', 'MultipleLines_No phone service') 0.11300826095473836\n",
            "('MultipleLines_No phone service', 'TotalCharges') 0.11300826095473836\n",
            "('TotalCharges', 'PhoneService') 0.11300826095473841\n",
            "('PhoneService', 'TotalCharges') 0.11300826095473841\n",
            "('TechSupport_Yes', 'PaymentMethod_Electronic check') 0.11480726996437085\n",
            "('PaymentMethod_Electronic check', 'TechSupport_Yes') 0.11480726996437085\n",
            "('OnlineSecurity_Yes', 'PaymentMethod_Credit card (automatic)') 0.11547320256635303\n",
            "('PaymentMethod_Credit card (automatic)', 'OnlineSecurity_Yes') 0.11547320256635303\n",
            "('Contract_Two year', 'SeniorCitizen') 0.11620511425710835\n",
            "('SeniorCitizen', 'Contract_Two year') 0.11620511425710835\n",
            "('TechSupport_Yes', 'PaymentMethod_Credit card (automatic)') 0.11702370730984143\n",
            "('PaymentMethod_Credit card (automatic)', 'TechSupport_Yes') 0.11702370730984143\n",
            "('Partner', 'StreamingMovies_Yes') 0.11810820943292764\n",
            "('StreamingMovies_Yes', 'Partner') 0.11810820943292764\n",
            "('SeniorCitizen', 'StreamingMovies_Yes') 0.11984236746151568\n",
            "('StreamingMovies_Yes', 'SeniorCitizen') 0.11984236746151568\n",
            "('Partner', 'TechSupport_Yes') 0.12020601780298455\n",
            "('TechSupport_Yes', 'Partner') 0.12020601780298455\n",
            "('StreamingTV_Yes', 'Partner') 0.12448262672518244\n",
            "('Partner', 'StreamingTV_Yes') 0.12448262672518244\n",
            "('PaperlessBilling', 'OnlineBackup_Yes') 0.12705603268686044\n",
            "('OnlineBackup_Yes', 'PaperlessBilling') 0.12705603268686044\n",
            "('Churn', 'PaymentMethod_Credit card (automatic)') 0.1346868372340906\n",
            "('PaymentMethod_Credit card (automatic)', 'Churn') 0.1346868372340906\n",
            "('StreamingMovies_Yes', 'PaymentMethod_Electronic check') 0.13742008269944622\n",
            "('PaymentMethod_Electronic check', 'StreamingMovies_Yes') 0.13742008269944622\n",
            "('Dependents', 'OnlineSecurity_No internet service') 0.13838288994798562\n",
            "('Dependents', 'StreamingMovies_No internet service') 0.13838288994798562\n",
            "('OnlineBackup_No internet service', 'Dependents') 0.13838288994798562\n",
            "('Dependents', 'StreamingTV_No internet service') 0.13838288994798562\n",
            "('Dependents', 'InternetService_No') 0.13838288994798562\n",
            "('Dependents', 'OnlineBackup_No internet service') 0.13838288994798562\n",
            "('DeviceProtection_No internet service', 'Dependents') 0.13838288994798562\n",
            "('Dependents', 'DeviceProtection_No internet service') 0.13838288994798562\n",
            "('Dependents', 'TechSupport_No internet service') 0.13838288994798562\n",
            "('OnlineSecurity_No internet service', 'Dependents') 0.13838288994798562\n",
            "('InternetService_No', 'Dependents') 0.13838288994798562\n",
            "('TechSupport_No internet service', 'Dependents') 0.13838288994798562\n",
            "('StreamingTV_No internet service', 'Dependents') 0.13838288994798562\n",
            "('StreamingMovies_No internet service', 'Dependents') 0.13838288994798562\n",
            "('Partner', 'OnlineBackup_Yes') 0.14184917072520303\n",
            "('OnlineBackup_Yes', 'Partner') 0.14184917072520303\n",
            "('Partner', 'MultipleLines_Yes') 0.1425612874681736\n",
            "('MultipleLines_Yes', 'Partner') 0.1425612874681736\n",
            "('SeniorCitizen', 'MultipleLines_Yes') 0.14299625086621018\n",
            "('MultipleLines_Yes', 'SeniorCitizen') 0.14299625086621018\n",
            "('OnlineSecurity_Yes', 'Partner') 0.14334606167364233\n",
            "('Partner', 'OnlineSecurity_Yes') 0.14334606167364233\n",
            "('StreamingTV_Yes', 'PaymentMethod_Electronic check') 0.1447470086556032\n",
            "('PaymentMethod_Electronic check', 'StreamingTV_Yes') 0.1447470086556032\n",
            "('Contract_Two year', 'PaperlessBilling') 0.1462807050684952\n",
            "('PaperlessBilling', 'Contract_Two year') 0.1462807050684952\n",
            "('PaymentMethod_Electronic check', 'Dependents') 0.1492739811934336\n",
            "('Dependents', 'PaymentMethod_Electronic check') 0.1492739811934336\n",
            "('Partner', 'Churn') 0.14998192562006138\n",
            "('Churn', 'Partner') 0.14998192562006138\n",
            "('SeniorCitizen', 'Churn') 0.1505410534156757\n",
            "('Churn', 'SeniorCitizen') 0.1505410534156757\n",
            "('SeniorCitizen', 'PaymentMethod_Mailed check') 0.15298719260173027\n",
            "('PaymentMethod_Mailed check', 'SeniorCitizen') 0.15298719260173027\n",
            "('DeviceProtection_Yes', 'Partner') 0.1535564364182745\n",
            "('Partner', 'DeviceProtection_Yes') 0.1535564364182745\n",
            "('SeniorCitizen', 'PaperlessBilling') 0.15625775052783097\n",
            "('PaperlessBilling', 'SeniorCitizen') 0.15625775052783097\n",
            "('TotalCharges', 'PaperlessBilling') 0.15782978286591645\n",
            "('PaperlessBilling', 'TotalCharges') 0.15782978286591645\n",
            "('Dependents', 'Churn') 0.16312843938822\n",
            "('Churn', 'Dependents') 0.16312843938822\n",
            "('tenure', 'Dependents') 0.1633859669155674\n",
            "('Dependents', 'tenure') 0.1633859669155674\n",
            "('MultipleLines_Yes', 'PaperlessBilling') 0.1637457730112591\n",
            "('PaperlessBilling', 'MultipleLines_Yes') 0.1637457730112591\n",
            "('Dependents', 'InternetService_Fiber optic') 0.16410089031864167\n",
            "('InternetService_Fiber optic', 'Dependents') 0.16410089031864167\n",
            "('TechSupport_Yes', 'Churn') 0.16471590834411207\n",
            "('Churn', 'TechSupport_Yes') 0.16471590834411207\n",
            "('DeviceProtection_Yes', 'Contract_Two year') 0.16524753554250074\n",
            "('Contract_Two year', 'DeviceProtection_Yes') 0.16524753554250074\n",
            "('OnlineBackup_Yes', 'InternetService_Fiber optic') 0.16594028590307677\n",
            "('InternetService_Fiber optic', 'OnlineBackup_Yes') 0.16594028590307677\n",
            "('TotalCharges', 'Contract_One year') 0.1705692865571869\n",
            "('Contract_One year', 'TotalCharges') 0.1705692865571869\n",
            "('Churn', 'OnlineSecurity_Yes') 0.17126992353351678\n",
            "('OnlineSecurity_Yes', 'Churn') 0.17126992353351678\n",
            "('PaymentMethod_Electronic check', 'SeniorCitizen') 0.17132216591713703\n",
            "('SeniorCitizen', 'PaymentMethod_Electronic check') 0.17132216591713703\n",
            "('OnlineBackup_No internet service', 'PhoneService') 0.1718171065699321\n",
            "('TechSupport_No internet service', 'PhoneService') 0.1718171065699321\n",
            "('OnlineSecurity_No internet service', 'PhoneService') 0.1718171065699321\n",
            "('TechSupport_No internet service', 'MultipleLines_No phone service') 0.1718171065699321\n",
            "('StreamingTV_No internet service', 'PhoneService') 0.1718171065699321\n",
            "('DeviceProtection_No internet service', 'MultipleLines_No phone service') 0.1718171065699321\n",
            "('DeviceProtection_No internet service', 'PhoneService') 0.1718171065699321\n",
            "('StreamingMovies_No internet service', 'MultipleLines_No phone service') 0.1718171065699321\n",
            "('StreamingMovies_No internet service', 'PhoneService') 0.1718171065699321\n",
            "('StreamingTV_No internet service', 'MultipleLines_No phone service') 0.1718171065699321\n",
            "('OnlineBackup_No internet service', 'MultipleLines_No phone service') 0.1718171065699321\n",
            "('OnlineSecurity_No internet service', 'MultipleLines_No phone service') 0.1718171065699321\n",
            "('PhoneService', 'OnlineBackup_No internet service') 0.1718171065699321\n",
            "('MultipleLines_No phone service', 'StreamingMovies_No internet service') 0.1718171065699321\n",
            "('PhoneService', 'StreamingTV_No internet service') 0.1718171065699321\n",
            "('PhoneService', 'InternetService_No') 0.1718171065699321\n",
            "('MultipleLines_No phone service', 'TechSupport_No internet service') 0.1718171065699321\n",
            "('PhoneService', 'OnlineSecurity_No internet service') 0.1718171065699321\n",
            "('MultipleLines_No phone service', 'StreamingTV_No internet service') 0.1718171065699321\n",
            "('PhoneService', 'TechSupport_No internet service') 0.1718171065699321\n",
            "('PhoneService', 'StreamingMovies_No internet service') 0.1718171065699321\n",
            "('MultipleLines_No phone service', 'DeviceProtection_No internet service') 0.1718171065699321\n",
            "('MultipleLines_No phone service', 'OnlineSecurity_No internet service') 0.1718171065699321\n",
            "('InternetService_No', 'MultipleLines_No phone service') 0.1718171065699321\n",
            "('InternetService_No', 'PhoneService') 0.1718171065699321\n",
            "('PhoneService', 'DeviceProtection_No internet service') 0.1718171065699321\n",
            "('MultipleLines_No phone service', 'InternetService_No') 0.1718171065699321\n",
            "('MultipleLines_No phone service', 'OnlineBackup_No internet service') 0.1718171065699321\n",
            "('OnlineBackup_Yes', 'PaymentMethod_Mailed check') 0.17407470231312427\n",
            "('PaymentMethod_Mailed check', 'OnlineBackup_Yes') 0.17407470231312427\n",
            "('Contract_Two year', 'PaymentMethod_Credit card (automatic)') 0.17440993895950943\n",
            "('PaymentMethod_Credit card (automatic)', 'Contract_Two year') 0.17440993895950943\n",
            "('StreamingTV_Yes', 'OnlineSecurity_Yes') 0.1755144708953688\n",
            "('OnlineSecurity_Yes', 'StreamingTV_Yes') 0.1755144708953688\n",
            "('InternetService_Fiber optic', 'DeviceProtection_Yes') 0.17635617323471664\n",
            "('DeviceProtection_Yes', 'InternetService_Fiber optic') 0.17635617323471664\n",
            "('Churn', 'Contract_One year') 0.17822502328994053\n",
            "('Contract_One year', 'Churn') 0.17822502328994053\n",
            "('DeviceProtection_No internet service', 'SeniorCitizen') 0.18251949495535458\n",
            "('SeniorCitizen', 'StreamingMovies_No internet service') 0.18251949495535458\n",
            "('OnlineBackup_No internet service', 'SeniorCitizen') 0.18251949495535458\n",
            "('SeniorCitizen', 'StreamingTV_No internet service') 0.18251949495535458\n",
            "('TechSupport_No internet service', 'SeniorCitizen') 0.18251949495535458\n",
            "('StreamingMovies_No internet service', 'SeniorCitizen') 0.18251949495535458\n",
            "('InternetService_No', 'SeniorCitizen') 0.18251949495535458\n",
            "('SeniorCitizen', 'OnlineSecurity_No internet service') 0.18251949495535458\n",
            "('SeniorCitizen', 'OnlineBackup_No internet service') 0.18251949495535458\n",
            "('SeniorCitizen', 'DeviceProtection_No internet service') 0.18251949495535458\n",
            "('SeniorCitizen', 'TechSupport_No internet service') 0.18251949495535458\n",
            "('StreamingTV_No internet service', 'SeniorCitizen') 0.18251949495535458\n",
            "('OnlineSecurity_No internet service', 'SeniorCitizen') 0.18251949495535458\n",
            "('SeniorCitizen', 'InternetService_No') 0.18251949495535458\n",
            "('PaymentMethod_Credit card (automatic)', 'TotalCharges') 0.18266336715459994\n",
            "('TotalCharges', 'PaymentMethod_Credit card (automatic)') 0.18266336715459994\n",
            "('PaymentMethod_Mailed check', 'DeviceProtection_Yes') 0.18732483013668594\n",
            "('DeviceProtection_Yes', 'PaymentMethod_Mailed check') 0.18732483013668594\n",
            "('OnlineSecurity_Yes', 'StreamingMovies_Yes') 0.18742584957299618\n",
            "('StreamingMovies_Yes', 'OnlineSecurity_Yes') 0.18742584957299618\n",
            "('PaperlessBilling', 'Churn') 0.19145432108006671\n",
            "('Churn', 'PaperlessBilling') 0.19145432108006671\n",
            "('OnlineSecurity_Yes', 'Contract_Two year') 0.19169819815673583\n",
            "('Contract_Two year', 'OnlineSecurity_Yes') 0.19169819815673583\n",
            "('MonthlyCharges', 'Churn') 0.19285821847008583\n",
            "('Churn', 'MonthlyCharges') 0.19285821847008583\n",
            "('Churn', 'TotalCharges') 0.19948408356757072\n",
            "('TotalCharges', 'Churn') 0.19948408356757072\n",
            "('Contract_Two year', 'Dependents') 0.2016993304297039\n",
            "('Dependents', 'Contract_Two year') 0.2016993304297039\n",
            "('MultipleLines_Yes', 'DeviceProtection_Yes') 0.201732824517757\n",
            "('DeviceProtection_Yes', 'MultipleLines_Yes') 0.201732824517757\n",
            "('MultipleLines_Yes', 'OnlineBackup_Yes') 0.2022283972825372\n",
            "('OnlineBackup_Yes', 'MultipleLines_Yes') 0.2022283972825372\n",
            "('tenure', 'Contract_One year') 0.20233840836495298\n",
            "('Contract_One year', 'tenure') 0.20233840836495298\n",
            "('PaperlessBilling', 'PaymentMethod_Mailed check') 0.20398064814312206\n",
            "('PaymentMethod_Mailed check', 'PaperlessBilling') 0.20398064814312206\n",
            "('PaymentMethod_Electronic check', 'PaperlessBilling') 0.20842668228002995\n",
            "('PaperlessBilling', 'PaymentMethod_Electronic check') 0.20842668228002995\n",
            "('InternetService_Fiber optic', 'Contract_Two year') 0.20996452908904545\n",
            "('Contract_Two year', 'InternetService_Fiber optic') 0.20996452908904545\n",
            "('PaymentMethod_Electronic check', 'tenure') 0.21019749610817948\n",
            "('tenure', 'PaymentMethod_Electronic check') 0.21019749610817948\n",
            "('SeniorCitizen', 'Dependents') 0.21055006112684216\n",
            "('Dependents', 'SeniorCitizen') 0.21055006112684216\n",
            "('MultipleLines_Yes', 'InternetService_No') 0.21079354712189471\n",
            "('TechSupport_No internet service', 'MultipleLines_Yes') 0.21079354712189471\n",
            "('OnlineSecurity_No internet service', 'MultipleLines_Yes') 0.21079354712189471\n",
            "('MultipleLines_Yes', 'TechSupport_No internet service') 0.21079354712189471\n",
            "('MultipleLines_Yes', 'OnlineSecurity_No internet service') 0.21079354712189471\n",
            "('MultipleLines_Yes', 'StreamingTV_No internet service') 0.21079354712189471\n",
            "('OnlineBackup_No internet service', 'MultipleLines_Yes') 0.21079354712189471\n",
            "('MultipleLines_Yes', 'OnlineBackup_No internet service') 0.21079354712189471\n",
            "('MultipleLines_Yes', 'DeviceProtection_No internet service') 0.21079354712189471\n",
            "('DeviceProtection_No internet service', 'MultipleLines_Yes') 0.21079354712189471\n",
            "('InternetService_No', 'MultipleLines_Yes') 0.21079354712189471\n",
            "('StreamingTV_No internet service', 'MultipleLines_Yes') 0.21079354712189471\n",
            "('MultipleLines_Yes', 'StreamingMovies_No internet service') 0.21079354712189471\n",
            "('StreamingMovies_No internet service', 'MultipleLines_Yes') 0.21079354712189471\n",
            "('StreamingMovies_Yes', 'PaperlessBilling') 0.21158250423808916\n",
            "('PaperlessBilling', 'StreamingMovies_Yes') 0.21158250423808916\n",
            "('DeviceProtection_No internet service', 'Contract_Two year') 0.21754205606911817\n",
            "('StreamingTV_No internet service', 'Contract_Two year') 0.21754205606911817\n",
            "('InternetService_No', 'Contract_Two year') 0.21754205606911817\n",
            "('OnlineBackup_No internet service', 'Contract_Two year') 0.21754205606911817\n",
            "('TechSupport_No internet service', 'Contract_Two year') 0.21754205606911817\n",
            "('StreamingMovies_No internet service', 'Contract_Two year') 0.21754205606911817\n",
            "('OnlineSecurity_No internet service', 'Contract_Two year') 0.21754205606911817\n",
            "('Contract_Two year', 'StreamingTV_No internet service') 0.21754205606911817\n",
            "('Contract_Two year', 'InternetService_No') 0.21754205606911817\n",
            "('Contract_Two year', 'OnlineSecurity_No internet service') 0.21754205606911817\n",
            "('Contract_Two year', 'TechSupport_No internet service') 0.21754205606911817\n",
            "('Contract_Two year', 'OnlineBackup_No internet service') 0.21754205606911817\n",
            "('Contract_Two year', 'StreamingMovies_No internet service') 0.21754205606911817\n",
            "('Contract_Two year', 'DeviceProtection_No internet service') 0.21754205606911817\n",
            "('SeniorCitizen', 'MonthlyCharges') 0.21987422950593524\n",
            "('MonthlyCharges', 'SeniorCitizen') 0.21987422950593524\n",
            "('PaperlessBilling', 'StreamingTV_Yes') 0.22424119793848596\n",
            "('StreamingTV_Yes', 'PaperlessBilling') 0.22424119793848596\n",
            "('Churn', 'TechSupport_No internet service') 0.22757762044656818\n",
            "('Churn', 'OnlineBackup_No internet service') 0.22757762044656818\n",
            "('DeviceProtection_No internet service', 'Churn') 0.22757762044656818\n",
            "('Churn', 'OnlineSecurity_No internet service') 0.22757762044656818\n",
            "('InternetService_No', 'Churn') 0.22757762044656818\n",
            "('Churn', 'StreamingMovies_No internet service') 0.22757762044656818\n",
            "('Churn', 'DeviceProtection_No internet service') 0.22757762044656818\n",
            "('Churn', 'InternetService_No') 0.22757762044656818\n",
            "('StreamingMovies_No internet service', 'Churn') 0.22757762044656818\n",
            "('Churn', 'StreamingTV_No internet service') 0.22757762044656818\n",
            "('OnlineSecurity_No internet service', 'Churn') 0.22757762044656818\n",
            "('OnlineBackup_No internet service', 'Churn') 0.22757762044656818\n",
            "('TechSupport_No internet service', 'Churn') 0.22757762044656818\n",
            "('StreamingTV_No internet service', 'Churn') 0.22757762044656818\n",
            "('MultipleLines_Yes', 'PaymentMethod_Mailed check') 0.22767156949803466\n",
            "('PaymentMethod_Mailed check', 'MultipleLines_Yes') 0.22767156949803466\n",
            "('PaymentMethod_Mailed check', 'tenure') 0.23218078070201728\n",
            "('tenure', 'PaymentMethod_Mailed check') 0.23218078070201728\n",
            "('tenure', 'PaymentMethod_Credit card (automatic)') 0.23280034413314818\n",
            "('PaymentMethod_Credit card (automatic)', 'tenure') 0.23280034413314818\n",
            "('Contract_Two year', 'TechSupport_Yes') 0.24092408252256528\n",
            "('TechSupport_Yes', 'Contract_Two year') 0.24092408252256528\n",
            "('tenure', 'MonthlyCharges') 0.2468617666408946\n",
            "('MonthlyCharges', 'tenure') 0.2468617666408946\n",
            "('Partner', 'Contract_Two year') 0.24733370647615796\n",
            "('Contract_Two year', 'Partner') 0.24733370647615796\n",
            "('StreamingTV_Yes', 'PaymentMethod_Mailed check') 0.2477115493728633\n",
            "('PaymentMethod_Mailed check', 'StreamingTV_Yes') 0.2477115493728633\n",
            "('PhoneService', 'MonthlyCharges') 0.24803306647571727\n",
            "('MonthlyCharges', 'PhoneService') 0.24803306647571727\n",
            "('MonthlyCharges', 'MultipleLines_No phone service') 0.24803306647571732\n",
            "('MultipleLines_No phone service', 'MonthlyCharges') 0.24803306647571732\n",
            "('PaymentMethod_Mailed check', 'StreamingMovies_Yes') 0.2502897149395328\n",
            "('StreamingMovies_Yes', 'PaymentMethod_Mailed check') 0.2502897149395328\n",
            "('InternetService_Fiber optic', 'SeniorCitizen') 0.25492331502717946\n",
            "('SeniorCitizen', 'InternetService_Fiber optic') 0.25492331502717946\n",
            "('StreamingTV_Yes', 'MultipleLines_Yes') 0.25780350066730157\n",
            "('MultipleLines_Yes', 'StreamingTV_Yes') 0.25780350066730157\n",
            "('MultipleLines_Yes', 'StreamingMovies_Yes') 0.2591943175468362\n",
            "('StreamingMovies_Yes', 'MultipleLines_Yes') 0.2591943175468362\n",
            "('PaymentMethod_Electronic check', 'MonthlyCharges') 0.27111737739356334\n",
            "('MonthlyCharges', 'PaymentMethod_Electronic check') 0.27111737739356334\n",
            "('StreamingMovies_Yes', 'OnlineBackup_Yes') 0.27452301070772545\n",
            "('OnlineBackup_Yes', 'StreamingMovies_Yes') 0.27452301070772545\n",
            "('OnlineSecurity_Yes', 'DeviceProtection_Yes') 0.274875003842449\n",
            "('DeviceProtection_Yes', 'OnlineSecurity_Yes') 0.274875003842449\n",
            "('StreamingTV_Yes', 'TechSupport_Yes') 0.277548599200549\n",
            "('TechSupport_Yes', 'StreamingTV_Yes') 0.277548599200549\n",
            "('MultipleLines_Yes', 'MultipleLines_No phone service') 0.2795295400049995\n",
            "('MultipleLines_No phone service', 'MultipleLines_Yes') 0.2795295400049995\n",
            "('MultipleLines_Yes', 'PhoneService') 0.2795295400049995\n",
            "('PhoneService', 'MultipleLines_Yes') 0.2795295400049995\n",
            "('TechSupport_Yes', 'StreamingMovies_Yes') 0.2801552432906342\n",
            "('StreamingMovies_Yes', 'TechSupport_Yes') 0.2801552432906342\n",
            "('tenure', 'StreamingTV_Yes') 0.28026362807482713\n",
            "('StreamingTV_Yes', 'tenure') 0.28026362807482713\n",
            "('PaymentMethod_Electronic check', 'Contract_Two year') 0.28114743393395547\n",
            "('Contract_Two year', 'PaymentMethod_Electronic check') 0.28114743393395547\n",
            "('OnlineBackup_Yes', 'StreamingTV_Yes') 0.2816010622259753\n",
            "('StreamingTV_Yes', 'OnlineBackup_Yes') 0.2816010622259753\n",
            "('OnlineSecurity_Yes', 'OnlineBackup_Yes') 0.28328454262626757\n",
            "('OnlineBackup_Yes', 'OnlineSecurity_Yes') 0.28328454262626757\n",
            "('TechSupport_No internet service', 'PaymentMethod_Electronic check') 0.2846082097225956\n",
            "('OnlineSecurity_No internet service', 'PaymentMethod_Electronic check') 0.2846082097225956\n",
            "('OnlineBackup_No internet service', 'PaymentMethod_Electronic check') 0.2846082097225956\n",
            "('PaymentMethod_Electronic check', 'InternetService_No') 0.2846082097225956\n",
            "('PaymentMethod_Electronic check', 'OnlineSecurity_No internet service') 0.2846082097225956\n",
            "('StreamingTV_No internet service', 'PaymentMethod_Electronic check') 0.2846082097225956\n",
            "('InternetService_No', 'PaymentMethod_Electronic check') 0.2846082097225956\n",
            "('DeviceProtection_No internet service', 'PaymentMethod_Electronic check') 0.2846082097225956\n",
            "('StreamingMovies_No internet service', 'PaymentMethod_Electronic check') 0.2846082097225956\n",
            "('PaymentMethod_Electronic check', 'StreamingTV_No internet service') 0.2846082097225956\n",
            "('PaymentMethod_Electronic check', 'OnlineBackup_No internet service') 0.2846082097225956\n",
            "('PaymentMethod_Electronic check', 'StreamingMovies_No internet service') 0.2846082097225956\n",
            "('PaymentMethod_Electronic check', 'TechSupport_No internet service') 0.2846082097225956\n",
            "('PaymentMethod_Electronic check', 'DeviceProtection_No internet service') 0.2846082097225956\n",
            "('tenure', 'StreamingMovies_Yes') 0.2854022671060815\n",
            "('StreamingMovies_Yes', 'tenure') 0.2854022671060815\n",
            "('PaymentMethod_Credit card (automatic)', 'PaymentMethod_Mailed check') 0.28558254792863036\n",
            "('PaymentMethod_Mailed check', 'PaymentMethod_Credit card (automatic)') 0.28558254792863036\n",
            "('Contract_One year', 'Contract_Two year') 0.28884268256780254\n",
            "('Contract_Two year', 'Contract_One year') 0.28884268256780254\n",
            "('InternetService_Fiber optic', 'MultipleLines_No phone service') 0.29018311793843365\n",
            "('MultipleLines_No phone service', 'InternetService_Fiber optic') 0.29018311793843365\n",
            "('InternetService_Fiber optic', 'PhoneService') 0.29018311793843365\n",
            "('PhoneService', 'InternetService_Fiber optic') 0.29018311793843365\n",
            "('OnlineBackup_Yes', 'TechSupport_Yes') 0.29370469187781045\n",
            "('TechSupport_Yes', 'OnlineBackup_Yes') 0.29370469187781045\n",
            "('TotalCharges', 'PaymentMethod_Mailed check') 0.294708370175507\n",
            "('PaymentMethod_Mailed check', 'TotalCharges') 0.294708370175507\n",
            "('OnlineSecurity_Yes', 'MonthlyCharges') 0.29644695923758535\n",
            "('MonthlyCharges', 'OnlineSecurity_Yes') 0.29644695923758535\n",
            "('PaymentMethod_Electronic check', 'Churn') 0.30145463790858057\n",
            "('Churn', 'PaymentMethod_Electronic check') 0.30145463790858057\n",
            "('Churn', 'Contract_Two year') 0.30155233962397837\n",
            "('Contract_Two year', 'Churn') 0.30155233962397837\n",
            "('OnlineBackup_Yes', 'DeviceProtection_Yes') 0.30305766643807824\n",
            "('DeviceProtection_Yes', 'OnlineBackup_Yes') 0.30305766643807824\n",
            "('PaymentMethod_Mailed check', 'InternetService_Fiber optic') 0.3059839224841771\n",
            "('InternetService_Fiber optic', 'PaymentMethod_Mailed check') 0.3059839224841771\n",
            "('Churn', 'InternetService_Fiber optic') 0.30746259069818205\n",
            "('InternetService_Fiber optic', 'Churn') 0.30746259069818205\n",
            "('Partner', 'TotalCharges') 0.3190723632385728\n",
            "('TotalCharges', 'Partner') 0.3190723632385728\n",
            "('InternetService_No', 'PaymentMethod_Mailed check') 0.3196937439459745\n",
            "('OnlineSecurity_No internet service', 'PaymentMethod_Mailed check') 0.3196937439459745\n",
            "('StreamingTV_No internet service', 'PaymentMethod_Mailed check') 0.3196937439459745\n",
            "('DeviceProtection_No internet service', 'PaymentMethod_Mailed check') 0.3196937439459745\n",
            "('PaymentMethod_Mailed check', 'InternetService_No') 0.3196937439459745\n",
            "('TechSupport_No internet service', 'PaymentMethod_Mailed check') 0.3196937439459745\n",
            "('PaymentMethod_Mailed check', 'OnlineSecurity_No internet service') 0.3196937439459745\n",
            "('PaymentMethod_Mailed check', 'StreamingTV_No internet service') 0.3196937439459745\n",
            "('PaymentMethod_Mailed check', 'DeviceProtection_No internet service') 0.3196937439459745\n",
            "('PaymentMethod_Mailed check', 'OnlineBackup_No internet service') 0.3196937439459745\n",
            "('PaymentMethod_Mailed check', 'StreamingMovies_No internet service') 0.3196937439459745\n",
            "('OnlineBackup_No internet service', 'PaymentMethod_Mailed check') 0.3196937439459745\n",
            "('PaymentMethod_Mailed check', 'TechSupport_No internet service') 0.3196937439459745\n",
            "('StreamingMovies_No internet service', 'PaymentMethod_Mailed check') 0.3196937439459745\n",
            "('StreamingTV_No internet service', 'PaperlessBilling') 0.3205922451174622\n",
            "('StreamingMovies_No internet service', 'PaperlessBilling') 0.3205922451174622\n",
            "('OnlineSecurity_No internet service', 'PaperlessBilling') 0.3205922451174622\n",
            "('PaperlessBilling', 'StreamingTV_No internet service') 0.3205922451174622\n",
            "('PaperlessBilling', 'InternetService_No') 0.3205922451174622\n",
            "('TechSupport_No internet service', 'PaperlessBilling') 0.3205922451174622\n",
            "('InternetService_No', 'PaperlessBilling') 0.3205922451174622\n",
            "('OnlineBackup_No internet service', 'PaperlessBilling') 0.3205922451174622\n",
            "('PaperlessBilling', 'OnlineSecurity_No internet service') 0.3205922451174622\n",
            "('PaperlessBilling', 'OnlineBackup_No internet service') 0.3205922451174622\n",
            "('PaperlessBilling', 'StreamingMovies_No internet service') 0.3205922451174622\n",
            "('DeviceProtection_No internet service', 'PaperlessBilling') 0.3205922451174622\n",
            "('PaperlessBilling', 'TechSupport_No internet service') 0.3205922451174622\n",
            "('PaperlessBilling', 'DeviceProtection_No internet service') 0.3205922451174622\n",
            "('StreamingMovies_Yes', 'InternetService_Fiber optic') 0.3224574540559222\n",
            "('InternetService_Fiber optic', 'StreamingMovies_Yes') 0.3224574540559222\n",
            "('TechSupport_Yes', 'tenure') 0.32528845410000945\n",
            "('tenure', 'TechSupport_Yes') 0.32528845410000945\n",
            "('PaperlessBilling', 'InternetService_Fiber optic') 0.32647017160380964\n",
            "('InternetService_Fiber optic', 'PaperlessBilling') 0.32647017160380964\n",
            "('OnlineSecurity_Yes', 'tenure') 0.32829748818662313\n",
            "('tenure', 'OnlineSecurity_Yes') 0.32829748818662313\n",
            "('InternetService_Fiber optic', 'StreamingTV_Yes') 0.3297441152730512\n",
            "('StreamingTV_Yes', 'InternetService_Fiber optic') 0.3297441152730512\n",
            "('tenure', 'MultipleLines_Yes') 0.33239924473562416\n",
            "('MultipleLines_Yes', 'tenure') 0.33239924473562416\n",
            "('StreamingMovies_No internet service', 'OnlineSecurity_Yes') 0.33279949932167546\n",
            "('OnlineSecurity_No internet service', 'OnlineSecurity_Yes') 0.33279949932167546\n",
            "('TechSupport_No internet service', 'OnlineSecurity_Yes') 0.33279949932167546\n",
            "('InternetService_No', 'OnlineSecurity_Yes') 0.33279949932167546\n",
            "('OnlineSecurity_Yes', 'InternetService_No') 0.33279949932167546\n",
            "('OnlineSecurity_Yes', 'OnlineSecurity_No internet service') 0.33279949932167546\n",
            "('OnlineSecurity_Yes', 'OnlineBackup_No internet service') 0.33279949932167546\n",
            "('OnlineSecurity_Yes', 'DeviceProtection_No internet service') 0.33279949932167546\n",
            "('OnlineSecurity_Yes', 'TechSupport_No internet service') 0.33279949932167546\n",
            "('OnlineSecurity_Yes', 'StreamingTV_No internet service') 0.33279949932167546\n",
            "('OnlineSecurity_Yes', 'StreamingMovies_No internet service') 0.33279949932167546\n",
            "('OnlineBackup_No internet service', 'OnlineSecurity_Yes') 0.33279949932167546\n",
            "('StreamingTV_No internet service', 'OnlineSecurity_Yes') 0.33279949932167546\n",
            "('DeviceProtection_No internet service', 'OnlineSecurity_Yes') 0.33279949932167546\n",
            "('TechSupport_Yes', 'DeviceProtection_Yes') 0.33285005080469243\n",
            "('DeviceProtection_Yes', 'TechSupport_Yes') 0.33285005080469243\n",
            "('StreamingMovies_No internet service', 'TechSupport_Yes') 0.33569508671869736\n",
            "('TechSupport_Yes', 'InternetService_No') 0.33569508671869736\n",
            "('OnlineBackup_No internet service', 'TechSupport_Yes') 0.33569508671869736\n",
            "('TechSupport_No internet service', 'TechSupport_Yes') 0.33569508671869736\n",
            "('InternetService_No', 'TechSupport_Yes') 0.33569508671869736\n",
            "('TechSupport_Yes', 'TechSupport_No internet service') 0.33569508671869736\n",
            "('TechSupport_Yes', 'StreamingTV_No internet service') 0.33569508671869736\n",
            "('OnlineSecurity_No internet service', 'TechSupport_Yes') 0.33569508671869736\n",
            "('StreamingTV_No internet service', 'TechSupport_Yes') 0.33569508671869736\n",
            "('TechSupport_Yes', 'DeviceProtection_No internet service') 0.33569508671869736\n",
            "('TechSupport_Yes', 'OnlineSecurity_No internet service') 0.33569508671869736\n",
            "('TechSupport_Yes', 'StreamingMovies_No internet service') 0.33569508671869736\n",
            "('DeviceProtection_No internet service', 'TechSupport_Yes') 0.33569508671869736\n",
            "('TechSupport_Yes', 'OnlineBackup_No internet service') 0.33569508671869736\n",
            "('InternetService_Fiber optic', 'PaymentMethod_Electronic check') 0.3357634768102139\n",
            "('PaymentMethod_Electronic check', 'InternetService_Fiber optic') 0.3357634768102139\n",
            "('MonthlyCharges', 'TechSupport_Yes') 0.3383013914342487\n",
            "('TechSupport_Yes', 'MonthlyCharges') 0.3383013914342487\n",
            "('PaperlessBilling', 'MonthlyCharges') 0.35193041537125247\n",
            "('MonthlyCharges', 'PaperlessBilling') 0.35193041537125247\n",
            "('tenure', 'Churn') 0.3540493589532604\n",
            "('Churn', 'tenure') 0.3540493589532604\n",
            "('TechSupport_Yes', 'OnlineSecurity_Yes') 0.35445796164509147\n",
            "('OnlineSecurity_Yes', 'TechSupport_Yes') 0.35445796164509147\n",
            "('TotalCharges', 'Contract_Two year') 0.3580356160914102\n",
            "('Contract_Two year', 'TotalCharges') 0.3580356160914102\n",
            "('InternetService_Fiber optic', 'TotalCharges') 0.3607687920142477\n",
            "('TotalCharges', 'InternetService_Fiber optic') 0.3607687920142477\n",
            "('OnlineBackup_Yes', 'tenure') 0.36113847824658435\n",
            "('tenure', 'OnlineBackup_Yes') 0.36113847824658435\n",
            "('tenure', 'DeviceProtection_Yes') 0.36151999528622747\n",
            "('DeviceProtection_Yes', 'tenure') 0.36151999528622747\n",
            "('MultipleLines_Yes', 'InternetService_Fiber optic') 0.3664202566051166\n",
            "('InternetService_Fiber optic', 'MultipleLines_Yes') 0.3664202566051166\n",
            "('PaymentMethod_Credit card (automatic)', 'PaymentMethod_Electronic check') 0.37397801626928234\n",
            "('PaymentMethod_Electronic check', 'PaymentMethod_Credit card (automatic)') 0.37397801626928234\n",
            "('StreamingMovies_No internet service', 'TotalCharges') 0.3748783625989587\n",
            "('TotalCharges', 'StreamingMovies_No internet service') 0.3748783625989587\n",
            "('TechSupport_No internet service', 'TotalCharges') 0.3748783625989587\n",
            "('DeviceProtection_No internet service', 'TotalCharges') 0.3748783625989587\n",
            "('TotalCharges', 'OnlineSecurity_No internet service') 0.3748783625989587\n",
            "('InternetService_No', 'TotalCharges') 0.3748783625989587\n",
            "('OnlineBackup_No internet service', 'TotalCharges') 0.3748783625989587\n",
            "('TotalCharges', 'StreamingTV_No internet service') 0.3748783625989587\n",
            "('TotalCharges', 'InternetService_No') 0.3748783625989587\n",
            "('TotalCharges', 'DeviceProtection_No internet service') 0.3748783625989587\n",
            "('OnlineSecurity_No internet service', 'TotalCharges') 0.3748783625989587\n",
            "('TotalCharges', 'OnlineBackup_No internet service') 0.3748783625989587\n",
            "('StreamingTV_No internet service', 'TotalCharges') 0.3748783625989587\n",
            "('TotalCharges', 'TechSupport_No internet service') 0.3748783625989587\n",
            "('MonthlyCharges', 'PaymentMethod_Mailed check') 0.37656828808083587\n",
            "('PaymentMethod_Mailed check', 'MonthlyCharges') 0.37656828808083587\n",
            "('DeviceProtection_Yes', 'InternetService_No') 0.3801513548956378\n",
            "('DeviceProtection_Yes', 'OnlineBackup_No internet service') 0.3801513548956378\n",
            "('DeviceProtection_Yes', 'DeviceProtection_No internet service') 0.3801513548956378\n",
            "('InternetService_No', 'DeviceProtection_Yes') 0.3801513548956378\n",
            "('StreamingMovies_No internet service', 'DeviceProtection_Yes') 0.3801513548956378\n",
            "('DeviceProtection_Yes', 'StreamingTV_No internet service') 0.3801513548956378\n",
            "('DeviceProtection_Yes', 'TechSupport_No internet service') 0.3801513548956378\n",
            "('OnlineBackup_No internet service', 'DeviceProtection_Yes') 0.3801513548956378\n",
            "('DeviceProtection_Yes', 'StreamingMovies_No internet service') 0.3801513548956378\n",
            "('OnlineSecurity_No internet service', 'DeviceProtection_Yes') 0.3801513548956378\n",
            "('DeviceProtection_No internet service', 'DeviceProtection_Yes') 0.3801513548956378\n",
            "('TechSupport_No internet service', 'DeviceProtection_Yes') 0.3801513548956378\n",
            "('StreamingTV_No internet service', 'DeviceProtection_Yes') 0.3801513548956378\n",
            "('DeviceProtection_Yes', 'OnlineSecurity_No internet service') 0.3801513548956378\n",
            "('OnlineBackup_No internet service', 'OnlineBackup_Yes') 0.3809903317320751\n",
            "('OnlineBackup_Yes', 'StreamingTV_No internet service') 0.3809903317320751\n",
            "('InternetService_No', 'OnlineBackup_Yes') 0.3809903317320751\n",
            "('OnlineBackup_Yes', 'StreamingMovies_No internet service') 0.3809903317320751\n",
            "('OnlineSecurity_No internet service', 'OnlineBackup_Yes') 0.3809903317320751\n",
            "('StreamingMovies_No internet service', 'OnlineBackup_Yes') 0.3809903317320751\n",
            "('OnlineBackup_Yes', 'InternetService_No') 0.3809903317320751\n",
            "('OnlineBackup_Yes', 'OnlineSecurity_No internet service') 0.3809903317320751\n",
            "('OnlineBackup_Yes', 'OnlineBackup_No internet service') 0.3809903317320751\n",
            "('OnlineBackup_Yes', 'DeviceProtection_No internet service') 0.3809903317320751\n",
            "('DeviceProtection_No internet service', 'OnlineBackup_Yes') 0.3809903317320751\n",
            "('OnlineBackup_Yes', 'TechSupport_No internet service') 0.3809903317320751\n",
            "('StreamingTV_No internet service', 'OnlineBackup_Yes') 0.3809903317320751\n",
            "('TechSupport_No internet service', 'OnlineBackup_Yes') 0.3809903317320751\n",
            "('tenure', 'Partner') 0.38191150910757227\n",
            "('Partner', 'tenure') 0.38191150910757227\n",
            "('PaymentMethod_Mailed check', 'PaymentMethod_Electronic check') 0.3869714587097063\n",
            "('PaymentMethod_Electronic check', 'PaymentMethod_Mailed check') 0.3869714587097063\n",
            "('DeviceProtection_Yes', 'StreamingTV_Yes') 0.3899237975094597\n",
            "('StreamingTV_Yes', 'DeviceProtection_Yes') 0.3899237975094597\n",
            "('StreamingMovies_Yes', 'DeviceProtection_Yes') 0.4023088228216018\n",
            "('DeviceProtection_Yes', 'StreamingMovies_Yes') 0.4023088228216018\n",
            "('TotalCharges', 'OnlineSecurity_Yes') 0.4126187695071348\n",
            "('OnlineSecurity_Yes', 'TotalCharges') 0.4126187695071348\n",
            "('OnlineBackup_No internet service', 'StreamingTV_Yes') 0.41495062156578044\n",
            "('StreamingTV_Yes', 'InternetService_No') 0.41495062156578044\n",
            "('StreamingTV_Yes', 'OnlineSecurity_No internet service') 0.41495062156578044\n",
            "('StreamingTV_Yes', 'OnlineBackup_No internet service') 0.41495062156578044\n",
            "('StreamingTV_Yes', 'DeviceProtection_No internet service') 0.41495062156578044\n",
            "('StreamingMovies_No internet service', 'StreamingTV_Yes') 0.41495062156578044\n",
            "('StreamingTV_Yes', 'TechSupport_No internet service') 0.41495062156578044\n",
            "('StreamingTV_Yes', 'StreamingTV_No internet service') 0.41495062156578044\n",
            "('StreamingTV_Yes', 'StreamingMovies_No internet service') 0.41495062156578044\n",
            "('OnlineSecurity_No internet service', 'StreamingTV_Yes') 0.41495062156578044\n",
            "('DeviceProtection_No internet service', 'StreamingTV_Yes') 0.41495062156578044\n",
            "('StreamingTV_No internet service', 'StreamingTV_Yes') 0.41495062156578044\n",
            "('InternetService_No', 'StreamingTV_Yes') 0.41495062156578044\n",
            "('TechSupport_No internet service', 'StreamingTV_Yes') 0.41495062156578044\n",
            "('StreamingMovies_Yes', 'OnlineSecurity_No internet service') 0.41844975538334045\n",
            "('OnlineBackup_No internet service', 'StreamingMovies_Yes') 0.41844975538334045\n",
            "('StreamingMovies_Yes', 'OnlineBackup_No internet service') 0.41844975538334045\n",
            "('StreamingMovies_Yes', 'DeviceProtection_No internet service') 0.41844975538334045\n",
            "('StreamingMovies_Yes', 'TechSupport_No internet service') 0.41844975538334045\n",
            "('StreamingMovies_Yes', 'StreamingTV_No internet service') 0.41844975538334045\n",
            "('StreamingTV_No internet service', 'StreamingMovies_Yes') 0.41844975538334045\n",
            "('StreamingMovies_Yes', 'StreamingMovies_No internet service') 0.41844975538334045\n",
            "('InternetService_No', 'StreamingMovies_Yes') 0.41844975538334045\n",
            "('OnlineSecurity_No internet service', 'StreamingMovies_Yes') 0.41844975538334045\n",
            "('StreamingMovies_Yes', 'InternetService_No') 0.41844975538334045\n",
            "('TechSupport_No internet service', 'StreamingMovies_Yes') 0.41844975538334045\n",
            "('StreamingMovies_No internet service', 'StreamingMovies_Yes') 0.41844975538334045\n",
            "('DeviceProtection_No internet service', 'StreamingMovies_Yes') 0.41844975538334045\n",
            "('TotalCharges', 'TechSupport_Yes') 0.432868368241092\n",
            "('TechSupport_Yes', 'TotalCharges') 0.432868368241092\n",
            "('MonthlyCharges', 'OnlineBackup_Yes') 0.4415290881871025\n",
            "('OnlineBackup_Yes', 'MonthlyCharges') 0.4415290881871025\n",
            "('Partner', 'Dependents') 0.45226888584550023\n",
            "('Dependents', 'Partner') 0.45226888584550023\n",
            "('InternetService_Fiber optic', 'StreamingMovies_No internet service') 0.4657363343235562\n",
            "('InternetService_Fiber optic', 'StreamingTV_No internet service') 0.4657363343235562\n",
            "('InternetService_Fiber optic', 'TechSupport_No internet service') 0.4657363343235562\n",
            "('StreamingTV_No internet service', 'InternetService_Fiber optic') 0.4657363343235562\n",
            "('InternetService_Fiber optic', 'DeviceProtection_No internet service') 0.4657363343235562\n",
            "('InternetService_Fiber optic', 'OnlineBackup_No internet service') 0.4657363343235562\n",
            "('InternetService_Fiber optic', 'OnlineSecurity_No internet service') 0.4657363343235562\n",
            "('InternetService_Fiber optic', 'InternetService_No') 0.4657363343235562\n",
            "('OnlineSecurity_No internet service', 'InternetService_Fiber optic') 0.4657363343235562\n",
            "('DeviceProtection_No internet service', 'InternetService_Fiber optic') 0.4657363343235562\n",
            "('InternetService_No', 'InternetService_Fiber optic') 0.4657363343235562\n",
            "('StreamingMovies_No internet service', 'InternetService_Fiber optic') 0.4657363343235562\n",
            "('OnlineBackup_No internet service', 'InternetService_Fiber optic') 0.4657363343235562\n",
            "('TechSupport_No internet service', 'InternetService_Fiber optic') 0.4657363343235562\n",
            "('TotalCharges', 'MultipleLines_Yes') 0.4690421356971837\n",
            "('MultipleLines_Yes', 'TotalCharges') 0.4690421356971837\n",
            "('DeviceProtection_Yes', 'MonthlyCharges') 0.48260691224313823\n",
            "('MonthlyCharges', 'DeviceProtection_Yes') 0.48260691224313823\n",
            "('MonthlyCharges', 'MultipleLines_Yes') 0.4909121973267486\n",
            "('MultipleLines_Yes', 'MonthlyCharges') 0.4909121973267486\n",
            "('TotalCharges', 'OnlineBackup_Yes') 0.5101002901454412\n",
            "('OnlineBackup_Yes', 'TotalCharges') 0.5101002901454412\n",
            "('StreamingTV_Yes', 'TotalCharges') 0.5157090769923923\n",
            "('TotalCharges', 'StreamingTV_Yes') 0.5157090769923923\n",
            "('TotalCharges', 'StreamingMovies_Yes') 0.519866535783504\n",
            "('StreamingMovies_Yes', 'TotalCharges') 0.519866535783504\n",
            "('TotalCharges', 'DeviceProtection_Yes') 0.5228814865154386\n",
            "('DeviceProtection_Yes', 'TotalCharges') 0.5228814865154386\n",
            "('StreamingMovies_Yes', 'StreamingTV_Yes') 0.5333800979319763\n",
            "('StreamingTV_Yes', 'StreamingMovies_Yes') 0.5333800979319763\n",
            "('Contract_Two year', 'tenure') 0.5638005002286561\n",
            "('tenure', 'Contract_Two year') 0.5638005002286561\n",
            "('MonthlyCharges', 'StreamingMovies_Yes') 0.6272347301103778\n",
            "('StreamingMovies_Yes', 'MonthlyCharges') 0.6272347301103778\n",
            "('StreamingTV_Yes', 'MonthlyCharges') 0.6296678921767463\n",
            "('MonthlyCharges', 'StreamingTV_Yes') 0.6296678921767463\n",
            "('MonthlyCharges', 'TotalCharges') 0.6510648032262024\n",
            "('TotalCharges', 'MonthlyCharges') 0.6510648032262024\n",
            "('MonthlyCharges', 'OnlineBackup_No internet service') 0.7631910615169594\n",
            "('StreamingTV_No internet service', 'MonthlyCharges') 0.7631910615169594\n",
            "('MonthlyCharges', 'StreamingMovies_No internet service') 0.7631910615169594\n",
            "('MonthlyCharges', 'StreamingTV_No internet service') 0.7631910615169594\n",
            "('MonthlyCharges', 'TechSupport_No internet service') 0.7631910615169594\n",
            "('MonthlyCharges', 'DeviceProtection_No internet service') 0.7631910615169594\n",
            "('OnlineSecurity_No internet service', 'MonthlyCharges') 0.7631910615169594\n",
            "('MonthlyCharges', 'OnlineSecurity_No internet service') 0.7631910615169594\n",
            "('MonthlyCharges', 'InternetService_No') 0.7631910615169594\n",
            "('TechSupport_No internet service', 'MonthlyCharges') 0.7631910615169594\n",
            "('DeviceProtection_No internet service', 'MonthlyCharges') 0.7631910615169594\n",
            "('InternetService_No', 'MonthlyCharges') 0.7631910615169594\n",
            "('OnlineBackup_No internet service', 'MonthlyCharges') 0.7631910615169594\n",
            "('StreamingMovies_No internet service', 'MonthlyCharges') 0.7631910615169594\n",
            "('MonthlyCharges', 'InternetService_Fiber optic') 0.7871948529419629\n",
            "('InternetService_Fiber optic', 'MonthlyCharges') 0.7871948529419629\n",
            "('tenure', 'TotalCharges') 0.8258804609332043\n",
            "('TotalCharges', 'tenure') 0.8258804609332043\n"
          ],
          "name": "stdout"
        }
      ]
    },
    {
      "cell_type": "code",
      "metadata": {
        "id": "F99ecbBf74yY"
      },
      "source": [
        "#Maiores relações com churn: Tenure(0.35), Serviço de fibra óptica(0.30), Contrato de 2 anos(0.30), Método de pagamento de cartão de crédito(0.30)"
      ],
      "execution_count": null,
      "outputs": []
    },
    {
      "cell_type": "markdown",
      "metadata": {
        "id": "Q6W13wBuDvdF"
      },
      "source": [
        "##Pré-processamento e modelagem"
      ]
    },
    {
      "cell_type": "code",
      "metadata": {
        "id": "JvZ0G7X_D2ik"
      },
      "source": [
        "X = df.drop(['Churn'], axis = 1)\n",
        "y = df['Churn']"
      ],
      "execution_count": 116,
      "outputs": []
    },
    {
      "cell_type": "code",
      "metadata": {
        "id": "-woTZwvAG_NM"
      },
      "source": [
        "from sklearn.model_selection import train_test_split\n",
        "X_train, X_test, y_train, y_test = train_test_split(X,y)"
      ],
      "execution_count": 118,
      "outputs": []
    },
    {
      "cell_type": "code",
      "metadata": {
        "id": "n871RlMxHKYy"
      },
      "source": [
        "from sklearn.preprocessing import StandardScaler\n",
        "transfer = StandardScaler()\n",
        "X_train = transfer.fit_transform(X_train)\n",
        "X_test = transfer.transform(X_test)"
      ],
      "execution_count": 119,
      "outputs": []
    },
    {
      "cell_type": "code",
      "metadata": {
        "colab": {
          "base_uri": "https://localhost:8080/"
        },
        "id": "I-fyfT9-HQeh",
        "outputId": "46452385-66a7-47b7-e0cd-5b546c0311f8"
      },
      "source": [
        "from sklearn.pipeline import Pipeline\n",
        "from sklearn.model_selection import train_test_split,cross_val_score,GridSearchCV,KFold\n",
        "from sklearn.linear_model import LogisticRegression\n",
        "from sklearn.tree import DecisionTreeClassifier\n",
        "from sklearn.ensemble import RandomForestClassifier,AdaBoostClassifier\n",
        "from sklearn.naive_bayes import GaussianNB\n",
        "from sklearn.neighbors import KNeighborsClassifier\n",
        "from sklearn.ensemble import GradientBoostingClassifier\n",
        "from sklearn.linear_model import SGDClassifier\n",
        "from sklearn.ensemble import VotingClassifier\n",
        "from sklearn.svm import SVC\n",
        "from sklearn.neural_network import MLPClassifier\n",
        "from sklearn.metrics import accuracy_score\n",
        "from sklearn.metrics import roc_curve\n",
        "from sklearn.metrics import roc_auc_score\n",
        "from sklearn.metrics  import accuracy_score,classification_report,roc_auc_score,plot_roc_curve,plot_precision_recall_curve\n",
        "logreg=Pipeline([('logistic',LogisticRegression())])\n",
        "decision=Pipeline([('dt',DecisionTreeClassifier())])\n",
        "randomforest=Pipeline([('rf',RandomForestClassifier())])\n",
        "naivebayes=Pipeline([('nb',GaussianNB())])\n",
        "knn=Pipeline([('knn',KNeighborsClassifier())])\n",
        "gbc=Pipeline([('gbc',GradientBoostingClassifier())])\n",
        "adaboost=Pipeline([('adaboost',AdaBoostClassifier())])\n",
        "sgdclassifier=Pipeline([('SGDclassifier',SGDClassifier())])\n",
        "svc=Pipeline([('svc',SVC())])\n",
        "mlpclass=Pipeline([('mlpc',MLPClassifier())])\n",
        "mypipeline1=[logreg,decision,randomforest,naivebayes,knn,gbc,adaboost,sgdclassifier,svc,mlpclass]\n",
        "pipelinedict1={0:'logistic',1:'dt',2:'rf',3:'nb',4:'knn',5:'gbc',6:'adaboost',7:'SGDclassifier',\n",
        "              8:'svc',9:'mlpc'}\n",
        "for i in mypipeline1:\n",
        "    i.fit(X_train,y_train)\n",
        "model_score=[]\n",
        "model_name=[]\n",
        "for i,j in enumerate(mypipeline1):\n",
        "    print(\"{} test accuracy: {}\".format(pipelinedict1[i],j.score(X_test,y_test)))\n",
        "    model_name.append(pipelinedict1[i])\n",
        "    model_score.append(j.score(X_test,y_test))"
      ],
      "execution_count": 121,
      "outputs": [
        {
          "output_type": "stream",
          "text": [
            "/usr/local/lib/python3.7/dist-packages/sklearn/neural_network/_multilayer_perceptron.py:571: ConvergenceWarning: Stochastic Optimizer: Maximum iterations (200) reached and the optimization hasn't converged yet.\n",
            "  % self.max_iter, ConvergenceWarning)\n"
          ],
          "name": "stderr"
        },
        {
          "output_type": "stream",
          "text": [
            "logistic test accuracy: 0.7912400455062572\n",
            "dt test accuracy: 0.7320819112627986\n",
            "rf test accuracy: 0.782707622298066\n",
            "nb test accuracy: 0.6820250284414107\n",
            "knn test accuracy: 0.7497155858930603\n",
            "gbc test accuracy: 0.7997724687144482\n",
            "adaboost test accuracy: 0.7946530147895335\n",
            "SGDclassifier test accuracy: 0.7792946530147895\n",
            "svc test accuracy: 0.7901023890784983\n",
            "mlpc test accuracy: 0.7815699658703071\n"
          ],
          "name": "stdout"
        }
      ]
    },
    {
      "cell_type": "code",
      "metadata": {
        "id": "Dn-JbCr6HcHM"
      },
      "source": [
        "#O melhor modelo foi o gbc, com uma acurácia de 79%"
      ],
      "execution_count": null,
      "outputs": []
    },
    {
      "cell_type": "markdown",
      "metadata": {
        "id": "5fIWFReTnipM"
      },
      "source": [
        "##Conclusão\n",
        "Percebeu-se que o melhor modelo machine learning para esse desafio foi o GradientBoost Classifier, com aproximadamente 80% de acurácia, tornando-se uma boa ferramente para combater a evasão de clientes. Assim, poderia-se usar o algoritmo para calcular os clientes com as maiores probabilidades de saírem da telefonia, oferecendo a eles incentivos financeiros ou novos planos.\n",
        "\n",
        "As features com maiores correlações com o churn: Tenure(0.35), Serviço de fibra óptica(0.30), Contrato de 2 anos(0.30), Método de pagamento de cartão de crédito(0.30).\n",
        "Tais features podem e devem ser analisadas junto ao algoritmo para selecionar os clientes com maior prob de evasão."
      ]
    },
    {
      "cell_type": "code",
      "metadata": {
        "id": "vlwpyfnEog-4"
      },
      "source": [
        ""
      ],
      "execution_count": null,
      "outputs": []
    }
  ]
}
