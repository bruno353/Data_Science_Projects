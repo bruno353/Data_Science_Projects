{
  "nbformat": 4,
  "nbformat_minor": 0,
  "metadata": {
    "colab": {
      "name": "Projeto_Portfólio_2.ipynb",
      "provenance": [],
      "authorship_tag": "ABX9TyMcS9MU+/EW9u8N6+vCi5In",
      "include_colab_link": true
    },
    "kernelspec": {
      "name": "python3",
      "display_name": "Python 3"
    },
    "language_info": {
      "name": "python"
    }
  },
  "cells": [
    {
      "cell_type": "markdown",
      "metadata": {
        "id": "view-in-github",
        "colab_type": "text"
      },
      "source": [
        "<a href=\"https://colab.research.google.com/github/bruno353/Data_Science_Projects/blob/main/Projeto_Portf%C3%B3lio_2.ipynb\" target=\"_parent\"><img src=\"https://colab.research.google.com/assets/colab-badge.svg\" alt=\"Open In Colab\"/></a>"
      ]
    },
    {
      "cell_type": "markdown",
      "metadata": {
        "id": "ZROvWxXeQu-O"
      },
      "source": [
        "#Projeto de Portfólio\n",
        "O desafio e os dados desse projeto foram retirados do site: https://sejaumdatascientist.com/projeto-de-data-science-diagnostico-precoce-de-doencas-cardiovasculares/\n",
        "\n",
        "o dataset: https://www.kaggle.com/sulianova/cardiovascular-disease-dataset\n",
        "\n",
        "Nesse projeto, fomos contratados por uma empresa  privada de saúde que tem o objetivo de criar um algoritmo capaz de oferecer um diagnóstico precoce de uma doença vascular. Atualmente, a predição é feita por médicos, com uma acurácia de 55% a 65%. O cliente paga 500 reais a cada 5% de acurácia acima de 50%. Por exemplo, para uma precisão de 55%, o diagnóstico custa R$500,00 para o cliente.\n",
        "\n",
        "O nosso objetivo, como o Cientista de Dados contratado pela empresa, é criar uma ferramenta que aumente a precisão e a estabilidade do diagnóstico, trazendo um maior lucro à empresa. "
      ]
    },
    {
      "cell_type": "code",
      "metadata": {
        "id": "Gzv2jcSdSKhx"
      },
      "source": [
        "import numpy as np\n",
        "import pandas as pd\n",
        "import seaborn as sns\n",
        "import matplotlib.pyplot as plt"
      ],
      "execution_count": 40,
      "outputs": []
    },
    {
      "cell_type": "code",
      "metadata": {
        "id": "Nd_vCxxobS-t"
      },
      "source": [
        "df = pd.read_csv('cardio_train.csv', sep=';')"
      ],
      "execution_count": 41,
      "outputs": []
    },
    {
      "cell_type": "code",
      "metadata": {
        "colab": {
          "base_uri": "https://localhost:8080/",
          "height": 204
        },
        "id": "wqIMGVyJbWxl",
        "outputId": "4de00721-485b-4c5f-f2b3-758c855aa4a0"
      },
      "source": [
        "df.head()"
      ],
      "execution_count": 3,
      "outputs": [
        {
          "output_type": "execute_result",
          "data": {
            "text/html": [
              "<div>\n",
              "<style scoped>\n",
              "    .dataframe tbody tr th:only-of-type {\n",
              "        vertical-align: middle;\n",
              "    }\n",
              "\n",
              "    .dataframe tbody tr th {\n",
              "        vertical-align: top;\n",
              "    }\n",
              "\n",
              "    .dataframe thead th {\n",
              "        text-align: right;\n",
              "    }\n",
              "</style>\n",
              "<table border=\"1\" class=\"dataframe\">\n",
              "  <thead>\n",
              "    <tr style=\"text-align: right;\">\n",
              "      <th></th>\n",
              "      <th>id</th>\n",
              "      <th>age</th>\n",
              "      <th>gender</th>\n",
              "      <th>height</th>\n",
              "      <th>weight</th>\n",
              "      <th>ap_hi</th>\n",
              "      <th>ap_lo</th>\n",
              "      <th>cholesterol</th>\n",
              "      <th>gluc</th>\n",
              "      <th>smoke</th>\n",
              "      <th>alco</th>\n",
              "      <th>active</th>\n",
              "      <th>cardio</th>\n",
              "    </tr>\n",
              "  </thead>\n",
              "  <tbody>\n",
              "    <tr>\n",
              "      <th>0</th>\n",
              "      <td>0</td>\n",
              "      <td>18393</td>\n",
              "      <td>2</td>\n",
              "      <td>168</td>\n",
              "      <td>62.0</td>\n",
              "      <td>110</td>\n",
              "      <td>80</td>\n",
              "      <td>1</td>\n",
              "      <td>1</td>\n",
              "      <td>0</td>\n",
              "      <td>0</td>\n",
              "      <td>1</td>\n",
              "      <td>0</td>\n",
              "    </tr>\n",
              "    <tr>\n",
              "      <th>1</th>\n",
              "      <td>1</td>\n",
              "      <td>20228</td>\n",
              "      <td>1</td>\n",
              "      <td>156</td>\n",
              "      <td>85.0</td>\n",
              "      <td>140</td>\n",
              "      <td>90</td>\n",
              "      <td>3</td>\n",
              "      <td>1</td>\n",
              "      <td>0</td>\n",
              "      <td>0</td>\n",
              "      <td>1</td>\n",
              "      <td>1</td>\n",
              "    </tr>\n",
              "    <tr>\n",
              "      <th>2</th>\n",
              "      <td>2</td>\n",
              "      <td>18857</td>\n",
              "      <td>1</td>\n",
              "      <td>165</td>\n",
              "      <td>64.0</td>\n",
              "      <td>130</td>\n",
              "      <td>70</td>\n",
              "      <td>3</td>\n",
              "      <td>1</td>\n",
              "      <td>0</td>\n",
              "      <td>0</td>\n",
              "      <td>0</td>\n",
              "      <td>1</td>\n",
              "    </tr>\n",
              "    <tr>\n",
              "      <th>3</th>\n",
              "      <td>3</td>\n",
              "      <td>17623</td>\n",
              "      <td>2</td>\n",
              "      <td>169</td>\n",
              "      <td>82.0</td>\n",
              "      <td>150</td>\n",
              "      <td>100</td>\n",
              "      <td>1</td>\n",
              "      <td>1</td>\n",
              "      <td>0</td>\n",
              "      <td>0</td>\n",
              "      <td>1</td>\n",
              "      <td>1</td>\n",
              "    </tr>\n",
              "    <tr>\n",
              "      <th>4</th>\n",
              "      <td>4</td>\n",
              "      <td>17474</td>\n",
              "      <td>1</td>\n",
              "      <td>156</td>\n",
              "      <td>56.0</td>\n",
              "      <td>100</td>\n",
              "      <td>60</td>\n",
              "      <td>1</td>\n",
              "      <td>1</td>\n",
              "      <td>0</td>\n",
              "      <td>0</td>\n",
              "      <td>0</td>\n",
              "      <td>0</td>\n",
              "    </tr>\n",
              "  </tbody>\n",
              "</table>\n",
              "</div>"
            ],
            "text/plain": [
              "   id    age  gender  height  weight  ...  gluc  smoke  alco  active  cardio\n",
              "0   0  18393       2     168    62.0  ...     1      0     0       1       0\n",
              "1   1  20228       1     156    85.0  ...     1      0     0       1       1\n",
              "2   2  18857       1     165    64.0  ...     1      0     0       0       1\n",
              "3   3  17623       2     169    82.0  ...     1      0     0       1       1\n",
              "4   4  17474       1     156    56.0  ...     1      0     0       0       0\n",
              "\n",
              "[5 rows x 13 columns]"
            ]
          },
          "metadata": {
            "tags": []
          },
          "execution_count": 3
        }
      ]
    },
    {
      "cell_type": "code",
      "metadata": {
        "id": "slK5RB3ubXYH"
      },
      "source": [
        "df.drop(['id'],axis = 1, inplace = True)"
      ],
      "execution_count": 42,
      "outputs": []
    },
    {
      "cell_type": "markdown",
      "metadata": {
        "id": "3kd2S5K5cZcI"
      },
      "source": [
        "###Visualização Gráficos:"
      ]
    },
    {
      "cell_type": "code",
      "metadata": {
        "colab": {
          "base_uri": "https://localhost:8080/",
          "height": 937
        },
        "id": "Z1FyS813cPMV",
        "outputId": "d58fcac0-b312-455d-ff55-2f129b92c1ef"
      },
      "source": [
        "df.hist(figsize = (12,12))\n"
      ],
      "execution_count": 5,
      "outputs": [
        {
          "output_type": "execute_result",
          "data": {
            "text/plain": [
              "array([[<matplotlib.axes._subplots.AxesSubplot object at 0x7fd301f62590>,\n",
              "        <matplotlib.axes._subplots.AxesSubplot object at 0x7fd301f2f690>,\n",
              "        <matplotlib.axes._subplots.AxesSubplot object at 0x7fd301ee7d10>],\n",
              "       [<matplotlib.axes._subplots.AxesSubplot object at 0x7fd301ea83d0>,\n",
              "        <matplotlib.axes._subplots.AxesSubplot object at 0x7fd301edda50>,\n",
              "        <matplotlib.axes._subplots.AxesSubplot object at 0x7fd301e9bf90>],\n",
              "       [<matplotlib.axes._subplots.AxesSubplot object at 0x7fd301e5c690>,\n",
              "        <matplotlib.axes._subplots.AxesSubplot object at 0x7fd301e10d10>,\n",
              "        <matplotlib.axes._subplots.AxesSubplot object at 0x7fd301da6250>],\n",
              "       [<matplotlib.axes._subplots.AxesSubplot object at 0x7fd301ddc950>,\n",
              "        <matplotlib.axes._subplots.AxesSubplot object at 0x7fd301d4b110>,\n",
              "        <matplotlib.axes._subplots.AxesSubplot object at 0x7fd301d00790>]],\n",
              "      dtype=object)"
            ]
          },
          "metadata": {
            "tags": []
          },
          "execution_count": 5
        },
        {
          "output_type": "display_data",
          "data": {
            "image/png": "[encoded data removed]",
            "text/plain": [
              "<Figure size 864x864 with 12 Axes>"
            ]
          },
          "metadata": {
            "tags": [],
            "needs_background": "light"
          }
        }
      ]
    },
    {
      "cell_type": "code",
      "metadata": {
        "colab": {
          "base_uri": "https://localhost:8080/",
          "height": 613
        },
        "id": "KTthh8vbcg1_",
        "outputId": "975de81e-26fb-4567-ed07-ef517e2dbb03"
      },
      "source": [
        "#gráfico de correlação\n",
        "import seaborn as sns\n",
        "plt.figure(figsize=(16,10))\n",
        "sns.heatmap(df.corr(method='pearson'), annot=True)\n"
      ],
      "execution_count": 6,
      "outputs": [
        {
          "output_type": "execute_result",
          "data": {
            "text/plain": [
              "<matplotlib.axes._subplots.AxesSubplot at 0x7fd3019e9890>"
            ]
          },
          "metadata": {
            "tags": []
          },
          "execution_count": 6
        },
        {
          "output_type": "display_data",
          "data": {
            "image/png": "[encoded data removed]",
            "text/plain": [
              "<Figure size 1152x720 with 2 Axes>"
            ]
          },
          "metadata": {
            "tags": [],
            "needs_background": "light"
          }
        }
      ]
    },
    {
      "cell_type": "markdown",
      "metadata": {
        "id": "Y0ymGAv7c3Ln"
      },
      "source": [
        "a maior correlação entre a doença cardíaca é a idade e o colesterol."
      ]
    },
    {
      "cell_type": "code",
      "metadata": {
        "colab": {
          "base_uri": "https://localhost:8080/",
          "height": 265
        },
        "id": "xLPkMr7gdqUr",
        "outputId": "46b0f97b-3903-4c53-8721-b9410cfd7cb3"
      },
      "source": [
        "df.groupby('cardio').size().plot(kind='pie', autopct='%.2f')\n"
      ],
      "execution_count": 7,
      "outputs": [
        {
          "output_type": "execute_result",
          "data": {
            "text/plain": [
              "<matplotlib.axes._subplots.AxesSubplot at 0x7fd2f9284350>"
            ]
          },
          "metadata": {
            "tags": []
          },
          "execution_count": 7
        },
        {
          "output_type": "display_data",
          "data": {
            "image/png": "[encoded data removed]",
            "text/plain": [
              "<Figure size 432x288 with 1 Axes>"
            ]
          },
          "metadata": {
            "tags": []
          }
        }
      ]
    },
    {
      "cell_type": "code",
      "metadata": {
        "colab": {
          "base_uri": "https://localhost:8080/",
          "height": 265
        },
        "id": "kGVQ0FRReXV_",
        "outputId": "f4cf1621-4f9a-4caa-c130-d8fe431a3cdc"
      },
      "source": [
        "df.groupby('cholesterol').size().plot(kind='pie', autopct='%.2f')\n"
      ],
      "execution_count": 8,
      "outputs": [
        {
          "output_type": "execute_result",
          "data": {
            "text/plain": [
              "<matplotlib.axes._subplots.AxesSubplot at 0x7fd2f7006850>"
            ]
          },
          "metadata": {
            "tags": []
          },
          "execution_count": 8
        },
        {
          "output_type": "display_data",
          "data": {
            "image/png": "[encoded data removed]",
            "text/plain": [
              "<Figure size 432x288 with 1 Axes>"
            ]
          },
          "metadata": {
            "tags": []
          }
        }
      ]
    },
    {
      "cell_type": "code",
      "metadata": {
        "colab": {
          "base_uri": "https://localhost:8080/",
          "height": 282
        },
        "id": "r62hugLteaVB",
        "outputId": "cac42ebb-b79a-45c9-fdbf-8ded0a35cf08"
      },
      "source": [
        "%matplotlib inline\n",
        "plt.scatter(df.age,df.weight, color = 'green')"
      ],
      "execution_count": 11,
      "outputs": [
        {
          "output_type": "execute_result",
          "data": {
            "text/plain": [
              "<matplotlib.collections.PathCollection at 0x7fd2f6ca6c10>"
            ]
          },
          "metadata": {
            "tags": []
          },
          "execution_count": 11
        },
        {
          "output_type": "display_data",
          "data": {
            "image/png": "[encoded data removed]",
            "text/plain": [
              "<Figure size 432x288 with 1 Axes>"
            ]
          },
          "metadata": {
            "tags": [],
            "needs_background": "light"
          }
        }
      ]
    },
    {
      "cell_type": "code",
      "metadata": {
        "colab": {
          "base_uri": "https://localhost:8080/",
          "height": 352
        },
        "id": "bPBK_ewifKFA",
        "outputId": "671f0384-0979-48c6-8b41-3774728b1484"
      },
      "source": [
        "#contagem:\n",
        "sns.countplot(df['weight'])"
      ],
      "execution_count": 14,
      "outputs": [
        {
          "output_type": "stream",
          "text": [
            "/usr/local/lib/python3.7/dist-packages/seaborn/_decorators.py:43: FutureWarning: Pass the following variable as a keyword arg: x. From version 0.12, the only valid positional argument will be `data`, and passing other arguments without an explicit keyword will result in an error or misinterpretation.\n",
            "  FutureWarning\n"
          ],
          "name": "stderr"
        },
        {
          "output_type": "execute_result",
          "data": {
            "text/plain": [
              "<matplotlib.axes._subplots.AxesSubplot at 0x7fd301a5d150>"
            ]
          },
          "metadata": {
            "tags": []
          },
          "execution_count": 14
        },
        {
          "output_type": "display_data",
          "data": {
            "image/png": "[encoded data removed]",
            "text/plain": [
              "<Figure size 432x288 with 1 Axes>"
            ]
          },
          "metadata": {
            "tags": [],
            "needs_background": "light"
          }
        }
      ]
    },
    {
      "cell_type": "code",
      "metadata": {
        "id": "_CYXQKguxsvw"
      },
      "source": [
        ""
      ],
      "execution_count": null,
      "outputs": []
    },
    {
      "cell_type": "markdown",
      "metadata": {
        "id": "0TYsguKbfq-T"
      },
      "source": [
        "##Limpeza Dados"
      ]
    },
    {
      "cell_type": "code",
      "metadata": {
        "colab": {
          "base_uri": "https://localhost:8080/",
          "height": 317
        },
        "id": "WOpgoU-ygOi3",
        "outputId": "81cf41d8-c503-4e68-ae11-5413e3e10b34"
      },
      "source": [
        "df.describe()"
      ],
      "execution_count": 18,
      "outputs": [
        {
          "output_type": "execute_result",
          "data": {
            "text/html": [
              "<div>\n",
              "<style scoped>\n",
              "    .dataframe tbody tr th:only-of-type {\n",
              "        vertical-align: middle;\n",
              "    }\n",
              "\n",
              "    .dataframe tbody tr th {\n",
              "        vertical-align: top;\n",
              "    }\n",
              "\n",
              "    .dataframe thead th {\n",
              "        text-align: right;\n",
              "    }\n",
              "</style>\n",
              "<table border=\"1\" class=\"dataframe\">\n",
              "  <thead>\n",
              "    <tr style=\"text-align: right;\">\n",
              "      <th></th>\n",
              "      <th>age</th>\n",
              "      <th>gender</th>\n",
              "      <th>height</th>\n",
              "      <th>weight</th>\n",
              "      <th>ap_hi</th>\n",
              "      <th>ap_lo</th>\n",
              "      <th>cholesterol</th>\n",
              "      <th>gluc</th>\n",
              "      <th>smoke</th>\n",
              "      <th>alco</th>\n",
              "      <th>active</th>\n",
              "      <th>cardio</th>\n",
              "    </tr>\n",
              "  </thead>\n",
              "  <tbody>\n",
              "    <tr>\n",
              "      <th>count</th>\n",
              "      <td>70000.000000</td>\n",
              "      <td>70000.000000</td>\n",
              "      <td>70000.000000</td>\n",
              "      <td>70000.000000</td>\n",
              "      <td>70000.000000</td>\n",
              "      <td>70000.000000</td>\n",
              "      <td>70000.000000</td>\n",
              "      <td>70000.000000</td>\n",
              "      <td>70000.000000</td>\n",
              "      <td>70000.000000</td>\n",
              "      <td>70000.000000</td>\n",
              "      <td>70000.000000</td>\n",
              "    </tr>\n",
              "    <tr>\n",
              "      <th>mean</th>\n",
              "      <td>19468.865814</td>\n",
              "      <td>1.349571</td>\n",
              "      <td>164.359229</td>\n",
              "      <td>74.205690</td>\n",
              "      <td>128.817286</td>\n",
              "      <td>96.630414</td>\n",
              "      <td>1.366871</td>\n",
              "      <td>1.226457</td>\n",
              "      <td>0.088129</td>\n",
              "      <td>0.053771</td>\n",
              "      <td>0.803729</td>\n",
              "      <td>0.499700</td>\n",
              "    </tr>\n",
              "    <tr>\n",
              "      <th>std</th>\n",
              "      <td>2467.251667</td>\n",
              "      <td>0.476838</td>\n",
              "      <td>8.210126</td>\n",
              "      <td>14.395757</td>\n",
              "      <td>154.011419</td>\n",
              "      <td>188.472530</td>\n",
              "      <td>0.680250</td>\n",
              "      <td>0.572270</td>\n",
              "      <td>0.283484</td>\n",
              "      <td>0.225568</td>\n",
              "      <td>0.397179</td>\n",
              "      <td>0.500003</td>\n",
              "    </tr>\n",
              "    <tr>\n",
              "      <th>min</th>\n",
              "      <td>10798.000000</td>\n",
              "      <td>1.000000</td>\n",
              "      <td>55.000000</td>\n",
              "      <td>10.000000</td>\n",
              "      <td>-150.000000</td>\n",
              "      <td>-70.000000</td>\n",
              "      <td>1.000000</td>\n",
              "      <td>1.000000</td>\n",
              "      <td>0.000000</td>\n",
              "      <td>0.000000</td>\n",
              "      <td>0.000000</td>\n",
              "      <td>0.000000</td>\n",
              "    </tr>\n",
              "    <tr>\n",
              "      <th>25%</th>\n",
              "      <td>17664.000000</td>\n",
              "      <td>1.000000</td>\n",
              "      <td>159.000000</td>\n",
              "      <td>65.000000</td>\n",
              "      <td>120.000000</td>\n",
              "      <td>80.000000</td>\n",
              "      <td>1.000000</td>\n",
              "      <td>1.000000</td>\n",
              "      <td>0.000000</td>\n",
              "      <td>0.000000</td>\n",
              "      <td>1.000000</td>\n",
              "      <td>0.000000</td>\n",
              "    </tr>\n",
              "    <tr>\n",
              "      <th>50%</th>\n",
              "      <td>19703.000000</td>\n",
              "      <td>1.000000</td>\n",
              "      <td>165.000000</td>\n",
              "      <td>72.000000</td>\n",
              "      <td>120.000000</td>\n",
              "      <td>80.000000</td>\n",
              "      <td>1.000000</td>\n",
              "      <td>1.000000</td>\n",
              "      <td>0.000000</td>\n",
              "      <td>0.000000</td>\n",
              "      <td>1.000000</td>\n",
              "      <td>0.000000</td>\n",
              "    </tr>\n",
              "    <tr>\n",
              "      <th>75%</th>\n",
              "      <td>21327.000000</td>\n",
              "      <td>2.000000</td>\n",
              "      <td>170.000000</td>\n",
              "      <td>82.000000</td>\n",
              "      <td>140.000000</td>\n",
              "      <td>90.000000</td>\n",
              "      <td>2.000000</td>\n",
              "      <td>1.000000</td>\n",
              "      <td>0.000000</td>\n",
              "      <td>0.000000</td>\n",
              "      <td>1.000000</td>\n",
              "      <td>1.000000</td>\n",
              "    </tr>\n",
              "    <tr>\n",
              "      <th>max</th>\n",
              "      <td>23713.000000</td>\n",
              "      <td>2.000000</td>\n",
              "      <td>250.000000</td>\n",
              "      <td>200.000000</td>\n",
              "      <td>16020.000000</td>\n",
              "      <td>11000.000000</td>\n",
              "      <td>3.000000</td>\n",
              "      <td>3.000000</td>\n",
              "      <td>1.000000</td>\n",
              "      <td>1.000000</td>\n",
              "      <td>1.000000</td>\n",
              "      <td>1.000000</td>\n",
              "    </tr>\n",
              "  </tbody>\n",
              "</table>\n",
              "</div>"
            ],
            "text/plain": [
              "                age        gender  ...        active        cardio\n",
              "count  70000.000000  70000.000000  ...  70000.000000  70000.000000\n",
              "mean   19468.865814      1.349571  ...      0.803729      0.499700\n",
              "std     2467.251667      0.476838  ...      0.397179      0.500003\n",
              "min    10798.000000      1.000000  ...      0.000000      0.000000\n",
              "25%    17664.000000      1.000000  ...      1.000000      0.000000\n",
              "50%    19703.000000      1.000000  ...      1.000000      0.000000\n",
              "75%    21327.000000      2.000000  ...      1.000000      1.000000\n",
              "max    23713.000000      2.000000  ...      1.000000      1.000000\n",
              "\n",
              "[8 rows x 12 columns]"
            ]
          },
          "metadata": {
            "tags": []
          },
          "execution_count": 18
        }
      ]
    },
    {
      "cell_type": "code",
      "metadata": {
        "colab": {
          "base_uri": "https://localhost:8080/",
          "height": 421
        },
        "id": "H2SfL4dPfg7o",
        "outputId": "eb536be7-a21c-4d15-fc95-d954c4c5a56d"
      },
      "source": [
        "#verificação de valores com Na\n",
        "total = df.isnull().sum().sort_values(ascending=False)\n",
        "percent = (df.isnull().sum()/df.isnull().count()).sort_values(ascending=False)\n",
        "missing_data = pd.concat([total, percent], axis=1, keys=['Total', 'Percent'])\n",
        "missing_data.head(20)"
      ],
      "execution_count": 17,
      "outputs": [
        {
          "output_type": "execute_result",
          "data": {
            "text/html": [
              "<div>\n",
              "<style scoped>\n",
              "    .dataframe tbody tr th:only-of-type {\n",
              "        vertical-align: middle;\n",
              "    }\n",
              "\n",
              "    .dataframe tbody tr th {\n",
              "        vertical-align: top;\n",
              "    }\n",
              "\n",
              "    .dataframe thead th {\n",
              "        text-align: right;\n",
              "    }\n",
              "</style>\n",
              "<table border=\"1\" class=\"dataframe\">\n",
              "  <thead>\n",
              "    <tr style=\"text-align: right;\">\n",
              "      <th></th>\n",
              "      <th>Total</th>\n",
              "      <th>Percent</th>\n",
              "    </tr>\n",
              "  </thead>\n",
              "  <tbody>\n",
              "    <tr>\n",
              "      <th>cardio</th>\n",
              "      <td>0</td>\n",
              "      <td>0.0</td>\n",
              "    </tr>\n",
              "    <tr>\n",
              "      <th>active</th>\n",
              "      <td>0</td>\n",
              "      <td>0.0</td>\n",
              "    </tr>\n",
              "    <tr>\n",
              "      <th>alco</th>\n",
              "      <td>0</td>\n",
              "      <td>0.0</td>\n",
              "    </tr>\n",
              "    <tr>\n",
              "      <th>smoke</th>\n",
              "      <td>0</td>\n",
              "      <td>0.0</td>\n",
              "    </tr>\n",
              "    <tr>\n",
              "      <th>gluc</th>\n",
              "      <td>0</td>\n",
              "      <td>0.0</td>\n",
              "    </tr>\n",
              "    <tr>\n",
              "      <th>cholesterol</th>\n",
              "      <td>0</td>\n",
              "      <td>0.0</td>\n",
              "    </tr>\n",
              "    <tr>\n",
              "      <th>ap_lo</th>\n",
              "      <td>0</td>\n",
              "      <td>0.0</td>\n",
              "    </tr>\n",
              "    <tr>\n",
              "      <th>ap_hi</th>\n",
              "      <td>0</td>\n",
              "      <td>0.0</td>\n",
              "    </tr>\n",
              "    <tr>\n",
              "      <th>weight</th>\n",
              "      <td>0</td>\n",
              "      <td>0.0</td>\n",
              "    </tr>\n",
              "    <tr>\n",
              "      <th>height</th>\n",
              "      <td>0</td>\n",
              "      <td>0.0</td>\n",
              "    </tr>\n",
              "    <tr>\n",
              "      <th>gender</th>\n",
              "      <td>0</td>\n",
              "      <td>0.0</td>\n",
              "    </tr>\n",
              "    <tr>\n",
              "      <th>age</th>\n",
              "      <td>0</td>\n",
              "      <td>0.0</td>\n",
              "    </tr>\n",
              "  </tbody>\n",
              "</table>\n",
              "</div>"
            ],
            "text/plain": [
              "             Total  Percent\n",
              "cardio           0      0.0\n",
              "active           0      0.0\n",
              "alco             0      0.0\n",
              "smoke            0      0.0\n",
              "gluc             0      0.0\n",
              "cholesterol      0      0.0\n",
              "ap_lo            0      0.0\n",
              "ap_hi            0      0.0\n",
              "weight           0      0.0\n",
              "height           0      0.0\n",
              "gender           0      0.0\n",
              "age              0      0.0"
            ]
          },
          "metadata": {
            "tags": []
          },
          "execution_count": 17
        }
      ]
    },
    {
      "cell_type": "code",
      "metadata": {
        "colab": {
          "base_uri": "https://localhost:8080/"
        },
        "id": "ABRuxEmugnO3",
        "outputId": "3ada9afa-5707-4e05-e3f9-f263e238c118"
      },
      "source": [
        "df.value_counts()"
      ],
      "execution_count": 22,
      "outputs": [
        {
          "output_type": "execute_result",
          "data": {
            "text/plain": [
              "age    gender  height  weight  ap_hi  ap_lo  cholesterol  gluc  smoke  alco  active  cardio\n",
              "16793  1       165     68.0    120    80     1            1     0      0     1       0         2\n",
              "21778  1       160     58.0    120    80     1            1     0      0     1       0         2\n",
              "19858  1       165     68.0    120    80     1            1     0      0     1       0         2\n",
              "18955  1       165     75.0    120    80     1            1     0      0     1       1         2\n",
              "20516  1       164     66.0    120    80     1            1     0      0     0       0         2\n",
              "                                                                                              ..\n",
              "20949  1       161     85.0    120    80     1            1     0      0     1       0         1\n",
              "               160     79.0    140    85     2            1     0      0     1       1         1\n",
              "               158     91.0    140    90     3            3     0      0     0       0         1\n",
              "               150     90.0    120    80     2            2     0      0     1       0         1\n",
              "10798  2       175     92.0    100    60     1            1     0      0     1       0         1\n",
              "Length: 69976, dtype: int64"
            ]
          },
          "metadata": {
            "tags": []
          },
          "execution_count": 22
        }
      ]
    },
    {
      "cell_type": "code",
      "metadata": {
        "colab": {
          "base_uri": "https://localhost:8080/"
        },
        "id": "8WxC98YLg07K",
        "outputId": "b21edd90-48c6-4be7-8ef0-6a977e3e9cea"
      },
      "source": [
        "for col in df:\n",
        "\tprint(f'{col}: {df[col].unique()}')"
      ],
      "execution_count": 23,
      "outputs": [
        {
          "output_type": "stream",
          "text": [
            "age: [18393 20228 18857 ... 14925 17727 17926]\n",
            "gender: [2 1]\n",
            "height: [168 156 165 169 151 157 178 158 164 173 181 172 170 154 162 163 153 159\n",
            " 166 155 160 175 171 152 187 148 179 180 188 185 167 183 174 176 161 184\n",
            " 177 182  76 149 142 150 144 147 186 146 141 195 140 198 145 143 196 138\n",
            " 194 190 134 136 100 120 189 137 192 122 250 191 117  70  97 119 130 110\n",
            " 193  75 132  71 135  67 125 139 133  74  98 112 207  68  55  81  80  64\n",
            "  91  60 109  72 197  65 128 105 108 200 104 111 113  96 131  59  66  99\n",
            "  57]\n",
            "weight: [ 62.    85.    64.    82.    56.    67.    93.    95.    71.    68.\n",
            "  80.    60.    78.   112.    75.    52.    83.    69.    90.    45.\n",
            "  65.    59.    66.    74.   105.    73.    55.    70.    72.    63.\n",
            "  50.   107.    84.    77.    79.    76.    58.   115.    97.    53.\n",
            "  57.    49.   110.    94.    92.    87.   103.    88.    99.   100.\n",
            "  61.    48.    54.    51.    47.    91.   104.    81.    98.   108.\n",
            "  89.   101.    86.    65.5  142.    96.    44.    41.   169.   116.\n",
            " 200.    64.8  120.   117.   125.   106.   114.   113.   129.   124.\n",
            "  42.   123.   111.   102.   109.    46.   139.   150.   138.   131.\n",
            "  43.    83.6  134.   106.5  121.    40.   141.   119.   126.   177.\n",
            " 165.   122.    62.3  118.    89.5  132.   155.   130.   159.    84.6\n",
            " 140.    82.3   30.    67.9  127.    67.5   74.3  149.   180.   128.\n",
            "  60.2   64.5   58.7   90.5   37.    80.8  166.   161.    92.2   75.6\n",
            " 136.    82.9  154.    68.9  170.    84.5  135.    72.5  146.    70.5\n",
            "  74.2   84.3   38.    54.5  145.    68.5   79.5   72.8   73.2   96.5\n",
            "  53.2   39.    61.2  168.   133.    54.35  50.7   79.94  45.8  153.\n",
            "  34.    62.4  167.   156.    35.    70.3   31.    60.5   69.8   64.7\n",
            "  64.1  152.    59.5  163.    75.5   78.2  162.   121.3  178.    82.5\n",
            "  90.7   80.6   55.6   59.8   74.77  32.    70.8   57.4   73.8   56.2\n",
            "  69.5   71.5   89.1  158.    76.5   35.45  86.5   63.8   23.   144.\n",
            "  70.2   68.4  148.   164.    22.    66.5   54.9   59.2   65.3  137.\n",
            "  62.2   50.5   36.    61.5   80.5   81.1   53.6   11.    66.4   76.7\n",
            "  28.    68.3   60.6   76.8   58.8  181.    75.2   83.5   64.3  175.\n",
            "  84.9   80.7   84.7   60.1  105.5   85.5  121.8   51.5   53.9   42.2\n",
            "  74.5  114.6   73.5   71.3   33.    66.3   53.3   67.8   70.7   52.3\n",
            "  82.4   63.4   71.2   62.5   63.82  88.5   89.9   72.1  106.4  160.\n",
            "  68.2   53.67 171.    55.2   94.5  143.    62.7   53.5  109.5   10.\n",
            "  82.1   57.8   84.8   21.    29.   183.    58.5   57.6   78.5  172.\n",
            " 109.7   61.3   67.3   94.7  147.    55.4   99.9 ]\n",
            "ap_hi: [  110   140   130   150   100   120   145   170   135   125    90   180\n",
            "   160   133   190    80   122   169   126   158   200    14   123    70\n",
            "   161   147   115   137   153    11   148   105   220   119   141   165\n",
            "   164    12   124   172   902   162   906   117   134   166   210   176\n",
            "   116    10   121    16   112   159   113   118   155   142   131   157\n",
            "   136   146   138  -100   909   109    85   106   129    93     7    95\n",
            "   179   156   168   132   104   103   178   175   128   151    15   139\n",
            " 11500   127    17   108   144   102     1  1420    13   143   701   107\n",
            "   184   149   167   114   101    60  1500   181   171   202  -115   111\n",
            "   907    20   188   185   163   173   154   177  -140   174  -120 14020\n",
            "  1400   240   191   197  1620   152    96   199  -150  1130   193    99\n",
            "   196   309   401 16020  1202   806  1300   230   207   215    97  1409\n",
            " 11020    24   960 13010  1110   195  1205   187  2000]\n",
            "ap_lo: [   80    90    70   100    60    85    89   110    65    63    79  1100\n",
            "  1000   800   120    50    30   109    84  1033   150    91    40    73\n",
            "    78    75    86    87  1001    82    95    69    74    97    81  1200\n",
            "    83   119     0    93   105 10000    99    77    59  8044   140    92\n",
            "  1044   108   125   115    68    61   106   102    94    66    52   170\n",
            "    76   160    62    96   130   113    67  9100    10    88   902     8\n",
            "   112   104    71    72  1008    98  2088    20   802  8000  1022   850\n",
            "   708    57   101  9011  1011    64  1007  1177  7100    45   709  8500\n",
            "    58  1110  8099  1088   126  1077  1120     7   103  1125   180   121\n",
            "  8100   710  5700  8079  1111  1003     6  1900   809   114   801  1002\n",
            "    53   111     1   118    56   182   810     9  7099 11000  9800  8200\n",
            "  1139   107   820    55  1400   190   900   122  6800   135   700    15\n",
            "  1101   910  1140  1211   -70    54  8077   901   880   870   585    49\n",
            "   602]\n",
            "cholesterol: [1 3 2]\n",
            "gluc: [1 2 3]\n",
            "smoke: [0 1]\n",
            "alco: [0 1]\n",
            "active: [1 0]\n",
            "cardio: [0 1]\n"
          ],
          "name": "stdout"
        }
      ]
    },
    {
      "cell_type": "code",
      "metadata": {
        "id": "Bz4aCwV3f9KA"
      },
      "source": [
        "#verificação de outliers:\n",
        "#quero tirar valores de peso e altura em que o quantile seja menor que 0.05 e maior que 0.95\n",
        "min_thresold, max_thresold = df.weight.quantile([0.05, 0.95])\n",
        "min_thresold, max_thresold\n",
        "df = df[(df.weight<max_thresold) & (df.weight>min_thresold)]\n"
      ],
      "execution_count": 43,
      "outputs": []
    },
    {
      "cell_type": "code",
      "metadata": {
        "id": "SiR72ObshDcq"
      },
      "source": [
        "min_thresold, max_thresold = df.height.quantile([0.05, 0.95])\n",
        "min_thresold, max_thresold\n",
        "df = df[(df.height<max_thresold) & (df.height>min_thresold)]\n"
      ],
      "execution_count": 44,
      "outputs": []
    },
    {
      "cell_type": "code",
      "metadata": {
        "colab": {
          "base_uri": "https://localhost:8080/"
        },
        "id": "M8hW_3jwhIkq",
        "outputId": "7fca4786-5a61-42f3-82ae-6d0daf157692"
      },
      "source": [
        "#vendo o skew\n",
        "from scipy.stats import skew\n",
        "for col in df:\n",
        "    print(skew(df[col]))"
      ],
      "execution_count": 26,
      "outputs": [
        {
          "output_type": "stream",
          "text": [
            "-0.30546752584969594\n",
            "0.6533220453748914\n",
            "0.01313384846006273\n",
            "0.47739562690108134\n",
            "92.57250838192188\n",
            "32.76563800725974\n",
            "1.6526387926638288\n",
            "2.458527071646082\n",
            "2.9908569547710497\n",
            "4.045794332797786\n",
            "-1.538184811924593\n",
            "0.014989251389858052\n"
          ],
          "name": "stdout"
        }
      ]
    },
    {
      "cell_type": "markdown",
      "metadata": {
        "id": "oWyjj_zuh-yx"
      },
      "source": [
        "##Treinamento e modelagem"
      ]
    },
    {
      "cell_type": "code",
      "metadata": {
        "id": "BCPbIOYeiL0E"
      },
      "source": [
        "X = df.drop('cardio', axis = 1)\n",
        "y = df['cardio']"
      ],
      "execution_count": 45,
      "outputs": []
    },
    {
      "cell_type": "code",
      "metadata": {
        "id": "CTai4IIiiBdD"
      },
      "source": [
        "from sklearn.model_selection import train_test_split\n",
        "X_train, X_test, y_train, y_test = train_test_split(X, y)"
      ],
      "execution_count": 46,
      "outputs": []
    },
    {
      "cell_type": "code",
      "metadata": {
        "id": "0D-1lxJsie6h"
      },
      "source": [
        "from sklearn.preprocessing import StandardScaler\n",
        "transfer = StandardScaler()\n",
        "X_train = transfer.fit_transform(X_train)\n",
        "X_test = transfer.transform(X_test)"
      ],
      "execution_count": 47,
      "outputs": []
    },
    {
      "cell_type": "code",
      "metadata": {
        "colab": {
          "base_uri": "https://localhost:8080/"
        },
        "id": "oZJTBO-Iiri6",
        "outputId": "9f4d9e1d-0e90-4a8b-ff03-46a12ef78e92"
      },
      "source": [
        "from sklearn.pipeline import Pipeline\n",
        "from sklearn.model_selection import train_test_split,cross_val_score,GridSearchCV,KFold\n",
        "from sklearn.linear_model import LogisticRegression\n",
        "from sklearn.tree import DecisionTreeClassifier\n",
        "from sklearn.ensemble import RandomForestClassifier,AdaBoostClassifier\n",
        "from sklearn.naive_bayes import GaussianNB\n",
        "from sklearn.neighbors import KNeighborsClassifier\n",
        "from sklearn.ensemble import GradientBoostingClassifier\n",
        "from sklearn.linear_model import SGDClassifier\n",
        "from sklearn.ensemble import VotingClassifier\n",
        "from sklearn.svm import SVC\n",
        "from sklearn.neural_network import MLPClassifier\n",
        "from sklearn.metrics import accuracy_score\n",
        "from sklearn.metrics import roc_curve\n",
        "from sklearn.metrics import roc_auc_score\n",
        "from sklearn.metrics  import accuracy_score,classification_report,roc_auc_score,plot_roc_curve,plot_precision_recall_curve\n",
        "\n",
        "logreg=Pipeline([('logistic',LogisticRegression())])\n",
        "decision=Pipeline([('dt',DecisionTreeClassifier())])\n",
        "randomforest=Pipeline([('rf',RandomForestClassifier())])\n",
        "naivebayes=Pipeline([('nb',GaussianNB())])\n",
        "knn=Pipeline([('knn',KNeighborsClassifier())])\n",
        "gbc=Pipeline([('gbc',GradientBoostingClassifier())])\n",
        "adaboost=Pipeline([('adaboost',AdaBoostClassifier())])\n",
        "sgdclassifier=Pipeline([('SGDclassifier',SGDClassifier())])\n",
        "svc=Pipeline([('svc',SVC())])\n",
        "mlpclass=Pipeline([('mlpc',MLPClassifier())])\n",
        "mypipeline1=[logreg,decision,randomforest,naivebayes,knn,gbc,adaboost,sgdclassifier,svc,mlpclass]\n",
        "pipelinedict1={0:'logistic',1:'dt',2:'rf',3:'nb',4:'knn',5:'gbc',6:'adaboost',7:'SGDclassifier',\n",
        "              8:'svc',9:'mlpc'}\n",
        "for i in mypipeline1:\n",
        "    i.fit(X_train,y_train)\n",
        "model_score=[]\n",
        "model_name=[]\n",
        "for i,j in enumerate(mypipeline1):\n",
        "    print(\"{} test accuracy: {}\".format(pipelinedict1[i],j.score(X_test,y_test)))\n",
        "    model_name.append(pipelinedict1[i])\n",
        "    model_score.append(j.score(X_test,y_test))"
      ],
      "execution_count": 48,
      "outputs": [
        {
          "output_type": "stream",
          "text": [
            "logistic test accuracy: 0.7196800461194782\n",
            "dt test accuracy: 0.6332780860416517\n",
            "rf test accuracy: 0.7064206961158752\n",
            "nb test accuracy: 0.5892483966275132\n",
            "knn test accuracy: 0.638682712401816\n",
            "gbc test accuracy: 0.733587951286301\n",
            "adaboost test accuracy: 0.7269582762844995\n",
            "SGDclassifier test accuracy: 0.7165813936729841\n",
            "svc test accuracy: 0.7232831303595878\n",
            "mlpc test accuracy: 0.7294804352525762\n"
          ],
          "name": "stdout"
        }
      ]
    },
    {
      "cell_type": "markdown",
      "metadata": {
        "id": "rw4j9m2mwRTF"
      },
      "source": [
        "#Conclusão\n",
        "Como analisados em outros modelos já criados com esse dataset, conseguiu-se uma acurácia de 73%(GradientBoostingClassifier), o que, se for analisado no site de onde foi conseguido os dados, é um bom modelo.\n",
        "\n",
        "Questão Financeira: Enquanto, anteriormente, o lucro da empresa seria, em média, de 1000,00 reais, agora o lucro teria uma média de 2000,00 reais, sem contar a  estabilidade garantida pelo algoritmo"
      ]
    },
    {
      "cell_type": "code",
      "metadata": {
        "id": "8uO_622ej06d"
      },
      "source": [
        ""
      ],
      "execution_count": null,
      "outputs": []
    }
  ]
}
