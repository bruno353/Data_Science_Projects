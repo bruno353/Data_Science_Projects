{
  "nbformat": 4,
  "nbformat_minor": 0,
  "metadata": {
    "colab": {
      "name": "Untitled",
      "provenance": [],
      "authorship_tag": "ABX9TyMV1r3//Kr5qpteMJae8UAs",
      "include_colab_link": true
    },
    "kernelspec": {
      "name": "python3",
      "display_name": "Python 3"
    },
    "language_info": {
      "name": "python"
    }
  },
  "cells": [
    {
      "cell_type": "markdown",
      "metadata": {
        "id": "view-in-github",
        "colab_type": "text"
      },
      "source": [
        "<a href=\"https://colab.research.google.com/github/bruno353/Machine-Learning/blob/main/images_model_2.ipynb\" target=\"_parent\"><img src=\"https://colab.research.google.com/assets/colab-badge.svg\" alt=\"Open In Colab\"/></a>"
      ]
    },
    {
      "cell_type": "code",
      "metadata": {
        "id": "hxoD1f4mevfV"
      },
      "source": [
        "\n",
        "import tensorflow as tf\n",
        "from tensorflow import keras\n",
        "import matplotlib.pyplot as plt\n",
        "%matplotlib inline\n",
        "import numpy as np"
      ],
      "execution_count": 1,
      "outputs": []
    },
    {
      "cell_type": "code",
      "metadata": {
        "id": "6GWEJS49kbja",
        "colab": {
          "base_uri": "https://localhost:8080/"
        },
        "outputId": "2f12e8db-9f1b-4643-da8c-03595ebf2819"
      },
      "source": [
        "tf.test.is_built_with_cuda()"
      ],
      "execution_count": 2,
      "outputs": [
        {
          "output_type": "execute_result",
          "data": {
            "text/plain": [
              "True"
            ]
          },
          "metadata": {
            "tags": []
          },
          "execution_count": 2
        }
      ]
    },
    {
      "cell_type": "code",
      "metadata": {
        "colab": {
          "base_uri": "https://localhost:8080/"
        },
        "id": "zlDwKPBWSTPl",
        "outputId": "02de6f0a-40f0-4ae7-c390-e4fe3804354b"
      },
      "source": [
        "#importando um dataset com imagens de várias coisas(aviâo, pássaros etc)\n",
        "(X_train,y_train) , (X_test,y_test) = tf.keras.datasets.cifar10.load_data()"
      ],
      "execution_count": 3,
      "outputs": [
        {
          "output_type": "stream",
          "text": [
            "Downloading data from https://www.cs.toronto.edu/~kriz/cifar-10-python.tar.gz\n",
            "170500096/170498071 [==============================] - 4s 0us/step\n"
          ],
          "name": "stdout"
        }
      ]
    },
    {
      "cell_type": "code",
      "metadata": {
        "colab": {
          "base_uri": "https://localhost:8080/"
        },
        "id": "qiI2JL_7TCHX",
        "outputId": "389e814d-bb57-477c-ef42-6899c1283170"
      },
      "source": [
        "X_train.shape #vai mostrar que tem 50000 imagens, dimensoes de 32 por 32 e 3 rgb(red, green, blue)"
      ],
      "execution_count": 5,
      "outputs": [
        {
          "output_type": "execute_result",
          "data": {
            "text/plain": [
              "(50000, 32, 32, 3)"
            ]
          },
          "metadata": {
            "tags": []
          },
          "execution_count": 5
        }
      ]
    },
    {
      "cell_type": "code",
      "metadata": {
        "colab": {
          "base_uri": "https://localhost:8080/",
          "height": 122
        },
        "id": "EOt7WJZUTRAI",
        "outputId": "62c8e973-5f70-4029-f00c-e90d514f748b"
      },
      "source": [
        "plt.figure(figsize=(10,1))\n",
        "plt.imshow(X_train[2])"
      ],
      "execution_count": 10,
      "outputs": [
        {
          "output_type": "execute_result",
          "data": {
            "text/plain": [
              "<matplotlib.image.AxesImage at 0x7fde4fdc9e10>"
            ]
          },
          "metadata": {
            "tags": []
          },
          "execution_count": 10
        },
        {
          "output_type": "display_data",
          "data": {
            "image/png": "[encoded data removed]",
            "text/plain": [
              "<Figure size 720x72 with 1 Axes>"
            ]
          },
          "metadata": {
            "tags": [],
            "needs_background": "light"
          }
        }
      ]
    },
    {
      "cell_type": "code",
      "metadata": {
        "id": "1mfCmoTUUHh6"
      },
      "source": [
        "#vamos dividir por 255 para fazer uma escala, isso vai deixar o valor dos pixels entre 0 e 1.\n",
        "X_train_scaled = X_train/255\n",
        "X_test_scaled = X_test/255"
      ],
      "execution_count": 11,
      "outputs": []
    },
    {
      "cell_type": "code",
      "metadata": {
        "colab": {
          "base_uri": "https://localhost:8080/"
        },
        "id": "8tLsEIxsVkN4",
        "outputId": "9b12c248-4e96-49d6-fe07-2e0995512edd"
      },
      "source": [
        "y_train"
      ],
      "execution_count": 12,
      "outputs": [
        {
          "output_type": "execute_result",
          "data": {
            "text/plain": [
              "array([[6],\n",
              "       [9],\n",
              "       [9],\n",
              "       ...,\n",
              "       [9],\n",
              "       [1],\n",
              "       [1]], dtype=uint8)"
            ]
          },
          "metadata": {
            "tags": []
          },
          "execution_count": 12
        }
      ]
    },
    {
      "cell_type": "code",
      "metadata": {
        "id": "hIq0tN4PV4y6"
      },
      "source": [
        "#precisamos transformar os valores do y em 0 e 1 categóricos, para fazer isso vamos fazer um Hot Enconding.\n",
        "#número_classes = 10 pois o y vai de 0 a 9.\n",
        "y_train_categorical = keras.utils.to_categorical(y_train, num_classes = 10, dtype='float32')"
      ],
      "execution_count": 13,
      "outputs": []
    },
    {
      "cell_type": "code",
      "metadata": {
        "colab": {
          "base_uri": "https://localhost:8080/"
        },
        "id": "RaIiJXZRWelx",
        "outputId": "ec4a672a-fd1a-4a55-b7c0-71a77e307a4b"
      },
      "source": [
        "y_train_categorical"
      ],
      "execution_count": 14,
      "outputs": [
        {
          "output_type": "execute_result",
          "data": {
            "text/plain": [
              "array([[0., 0., 0., ..., 0., 0., 0.],\n",
              "       [0., 0., 0., ..., 0., 0., 1.],\n",
              "       [0., 0., 0., ..., 0., 0., 1.],\n",
              "       ...,\n",
              "       [0., 0., 0., ..., 0., 0., 1.],\n",
              "       [0., 1., 0., ..., 0., 0., 0.],\n",
              "       [0., 1., 0., ..., 0., 0., 0.]], dtype=float32)"
            ]
          },
          "metadata": {
            "tags": []
          },
          "execution_count": 14
        }
      ]
    },
    {
      "cell_type": "code",
      "metadata": {
        "id": "Se7X3d-8WfYr"
      },
      "source": [
        "y_test_categorical = keras.utils.to_categorical(y_test, num_classes = 10, dtype='float32')"
      ],
      "execution_count": 15,
      "outputs": []
    },
    {
      "cell_type": "code",
      "metadata": {
        "id": "0ke-PrkVWzSg"
      },
      "source": [
        "#modelbuilding\n",
        "#aqui vamos usar hidden layers, a última layer tem q ter 10 pois são 10 respostas.\n",
        "#o flatten é necessário.\n",
        "\n",
        "model = keras.Sequential([\n",
        "        keras.layers.Flatten(input_shape=(32,32,3)),\n",
        "        keras.layers.Dense(3000, activation='relu'),\n",
        "        keras.layers.Dense(1000, activation='relu'),                  \n",
        "        keras.layers.Dense(10, activation='sigmoid')                \n",
        "                         \n",
        "                          ])\n",
        "#no loss voce vai botar categorical_crossentropy pois já fizemos o hot code enconding do y \n",
        "#se voce não tivessse feito hot enconding, voce botaria sparse_categorical_crossentropy\n",
        "model.compile(optimizer='SGD', \n",
        "              loss = 'categorical_crossentropy',\n",
        "              metrics = ['accuracy'])\n",
        "model.fit(X_train_scaled, y_train_categorical, epochs = 50)"
      ],
      "execution_count": null,
      "outputs": []
    },
    {
      "cell_type": "code",
      "metadata": {
        "id": "o4PpaHYybP_j"
      },
      "source": [
        ""
      ],
      "execution_count": null,
      "outputs": []
    }
  ]
}